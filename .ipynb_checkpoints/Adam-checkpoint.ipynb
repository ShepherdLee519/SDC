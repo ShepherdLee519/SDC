{
 "cells": [
  {
   "cell_type": "code",
   "execution_count": null,
   "metadata": {},
   "outputs": [],
   "source": [
    "# ADAM\n",
    "# 以 y=x1+2*x2为例\n",
    "import math\n",
    "import numpy as np\n",
    "\n",
    "\n",
    "def adam():\n",
    "    # 训练集，每个样本有三个分量\n",
    "    x = np.array([(1, 1), (1, 2), (2, 2), (3, 1), (1, 3), (2, 4), (2, 3), (3,\n",
    "                                                                           3)])\n",
    "    y = np.array([3, 5, 6, 5, 7, 10, 8, 9])\n",
    "\n",
    "    # 初始化\n",
    "    m, dim = x.shape\n",
    "    theta = np.zeros(dim)  # 参数\n",
    "    alpha = 0.01  # 学习率\n",
    "    momentum = 0.1  # 冲量\n",
    "    threshold = 0.0001  # 停止迭代的错误阈值\n",
    "    iterations = 3000  # 迭代次数\n",
    "    error = 0  # 初始错误为0\n",
    "\n",
    "    b1 = 0.9  # 算法作者建议的默认值\n",
    "    b2 = 0.999  # 算法作者建议的默认值\n",
    "    e = 0.00000001  #算法作者建议的默认值\n",
    "    mt = np.zeros(dim)\n",
    "    vt = np.zeros(dim)\n",
    "\n",
    "    for i in range(iterations):\n",
    "        j = i % m\n",
    "        error = 1 / (2 * m) * np.dot((np.dot(x, theta) - y).T,\n",
    "                                     (np.dot(x, theta) - y))\n",
    "        if abs(error) <= threshold:\n",
    "            break\n",
    "\n",
    "        gradient = x[j] * (np.dot(x[j], theta) - y[j])\n",
    "        mt = b1 * mt + (1 - b1) * gradient\n",
    "        vt = b2 * vt + (1 - b2) * (gradient**2)\n",
    "        mtt = mt / (1 - (b1**(i + 1)))\n",
    "        vtt = vt / (1 - (b2**(i + 1)))\n",
    "        vtt_sqrt = np.array([math.sqrt(vtt[0]),\n",
    "                             math.sqrt(vtt[1])])  # 因为只能对标量进行开方\n",
    "        theta = theta - alpha * mtt / (vtt_sqrt + e)\n",
    "\n",
    "    print('迭代次数：%d' % (i + 1), 'theta：', theta, 'error：%f' % error)\n",
    "\n",
    "\n",
    "if __name__ == '__main__':\n",
    "    adam()\n"
   ]
  }
 ],
 "metadata": {
  "kernelspec": {
   "display_name": "Python 3",
   "language": "python",
   "name": "python3"
  },
  "language_info": {
   "codemirror_mode": {
    "name": "ipython",
    "version": 3
   },
   "file_extension": ".py",
   "mimetype": "text/x-python",
   "name": "python",
   "nbconvert_exporter": "python",
   "pygments_lexer": "ipython3",
   "version": "3.6.8"
  }
 },
 "nbformat": 4,
 "nbformat_minor": 4
}
