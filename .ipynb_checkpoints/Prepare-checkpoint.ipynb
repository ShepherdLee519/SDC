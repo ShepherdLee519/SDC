{
 "cells": [
  {
   "cell_type": "code",
   "execution_count": 1,
   "metadata": {},
   "outputs": [],
   "source": [
    "import cirq\n",
    "import numpy as np\n",
    "from cirq.contrib.svg import SVGCircuit"
   ]
  },
  {
   "cell_type": "code",
   "execution_count": 2,
   "metadata": {},
   "outputs": [
    {
     "data": {
      "image/svg+xml": [
       "<svg xmlns=\"http://www.w3.org/2000/svg\" width=\"220.0\" height=\"200.0\"><line x1=\"30.0\" x2=\"190.0\" y1=\"25.0\" y2=\"25.0\" stroke=\"#1967d2\" stroke-width=\"1\" /><line x1=\"30.0\" x2=\"190.0\" y1=\"75.0\" y2=\"75.0\" stroke=\"#1967d2\" stroke-width=\"1\" /><line x1=\"30.0\" x2=\"190.0\" y1=\"125.0\" y2=\"125.0\" stroke=\"#1967d2\" stroke-width=\"1\" /><line x1=\"30.0\" x2=\"190.0\" y1=\"175.0\" y2=\"175.0\" stroke=\"#1967d2\" stroke-width=\"1\" /><line x1=\"150.0\" x2=\"150.0\" y1=\"25.0\" y2=\"125.0\" stroke=\"black\" stroke-width=\"3\" /><rect x=\"10.0\" y=\"5.0\" width=\"40\" height=\"40\" stroke=\"black\" fill=\"white\" stroke-width=\"0\" /><text x=\"30.0\" y=\"25.0\" dominant-baseline=\"middle\" text-anchor=\"middle\" font-size=\"14px\" font-family=\"Arial\">0: </text><rect x=\"10.0\" y=\"55.0\" width=\"40\" height=\"40\" stroke=\"black\" fill=\"white\" stroke-width=\"0\" /><text x=\"30.0\" y=\"75.0\" dominant-baseline=\"middle\" text-anchor=\"middle\" font-size=\"14px\" font-family=\"Arial\">1: </text><rect x=\"10.0\" y=\"105.0\" width=\"40\" height=\"40\" stroke=\"black\" fill=\"white\" stroke-width=\"0\" /><text x=\"30.0\" y=\"125.0\" dominant-baseline=\"middle\" text-anchor=\"middle\" font-size=\"14px\" font-family=\"Arial\">2: </text><rect x=\"10.0\" y=\"155.0\" width=\"40\" height=\"40\" stroke=\"black\" fill=\"white\" stroke-width=\"0\" /><text x=\"30.0\" y=\"175.0\" dominant-baseline=\"middle\" text-anchor=\"middle\" font-size=\"14px\" font-family=\"Arial\">3: </text><rect x=\"70.0\" y=\"5.0\" width=\"40\" height=\"40\" stroke=\"black\" fill=\"white\" stroke-width=\"1\" /><text x=\"90.0\" y=\"25.0\" dominant-baseline=\"middle\" text-anchor=\"middle\" font-size=\"18px\" font-family=\"Arial\">I</text><rect x=\"70.0\" y=\"155.0\" width=\"40\" height=\"40\" stroke=\"black\" fill=\"white\" stroke-width=\"1\" /><text x=\"90.0\" y=\"175.0\" dominant-baseline=\"middle\" text-anchor=\"middle\" font-size=\"18px\" font-family=\"Arial\">I</text><rect x=\"70.0\" y=\"55.0\" width=\"40\" height=\"40\" stroke=\"black\" fill=\"white\" stroke-width=\"1\" /><text x=\"90.0\" y=\"75.0\" dominant-baseline=\"middle\" text-anchor=\"middle\" font-size=\"18px\" font-family=\"Arial\">I</text><circle cx=\"150.0\" cy=\"25.0\" r=\"10.0\" /><rect x=\"130.0\" y=\"105.0\" width=\"40\" height=\"40\" stroke=\"black\" fill=\"white\" stroke-width=\"1\" /><text x=\"150.0\" y=\"125.0\" dominant-baseline=\"middle\" text-anchor=\"middle\" font-size=\"18px\" font-family=\"Arial\">X</text></svg>"
      ],
      "text/plain": [
       "<cirq.contrib.svg.svg.SVGCircuit at 0x205e33364e0>"
      ]
     },
     "execution_count": 2,
     "metadata": {},
     "output_type": "execute_result"
    }
   ],
   "source": [
    "circuit = cirq.Circuit()\n",
    "Q1, Q2, Q3, Q4 = [cirq.LineQubit(i) for i in range(4)]\n",
    "circuit.append(cirq.I(Q1))\n",
    "circuit.append(cirq.I(Q4))\n",
    "circuit.append(cirq.CNOT(Q1, Q3))\n",
    "circuit.append(cirq.I(Q2))\n",
    "\n",
    "SVGCircuit(circuit)"
   ]
  },
  {
   "cell_type": "code",
   "execution_count": 3,
   "metadata": {
    "scrolled": true
   },
   "outputs": [
    {
     "name": "stdout",
     "output_type": "stream",
     "text": [
      "[[1 0 0 0 0 0 0 0 0 0 0 0 0 0 0 0]\n",
      " [0 1 0 0 0 0 0 0 0 0 0 0 0 0 0 0]\n",
      " [0 0 1 0 0 0 0 0 0 0 0 0 0 0 0 0]\n",
      " [0 0 0 1 0 0 0 0 0 0 0 0 0 0 0 0]\n",
      " [0 0 0 0 1 0 0 0 0 0 0 0 0 0 0 0]\n",
      " [0 0 0 0 0 1 0 0 0 0 0 0 0 0 0 0]\n",
      " [0 0 0 0 0 0 1 0 0 0 0 0 0 0 0 0]\n",
      " [0 0 0 0 0 0 0 1 0 0 0 0 0 0 0 0]\n",
      " [0 0 0 0 0 0 0 0 0 0 1 0 0 0 0 0]\n",
      " [0 0 0 0 0 0 0 0 0 0 0 1 0 0 0 0]\n",
      " [0 0 0 0 0 0 0 0 1 0 0 0 0 0 0 0]\n",
      " [0 0 0 0 0 0 0 0 0 1 0 0 0 0 0 0]\n",
      " [0 0 0 0 0 0 0 0 0 0 0 0 0 0 1 0]\n",
      " [0 0 0 0 0 0 0 0 0 0 0 0 0 0 0 1]\n",
      " [0 0 0 0 0 0 0 0 0 0 0 0 1 0 0 0]\n",
      " [0 0 0 0 0 0 0 0 0 0 0 0 0 1 0 0]]\n"
     ]
    },
    {
     "name": "stderr",
     "output_type": "stream",
     "text": [
      "c:\\users\\lenovo\\appdata\\local\\programs\\python\\python36\\lib\\site-packages\\ipykernel_launcher.py:1: ComplexWarning: Casting complex values to real discards the imaginary part\n",
      "  \"\"\"Entry point for launching an IPython kernel.\n"
     ]
    }
   ],
   "source": [
    "print(cirq.unitary(circuit).astype('int'))"
   ]
  },
  {
   "cell_type": "markdown",
   "metadata": {},
   "source": [
    "## Create CNOT gate"
   ]
  },
  {
   "cell_type": "code",
   "execution_count": 4,
   "metadata": {},
   "outputs": [],
   "source": [
    "from functools import reduce\n",
    "\n",
    "I = lambda n: np.eye(n)\n",
    "Kron = lambda *matrices: reduce(np.kron, matrices)\n",
    "\n",
    "swap = np.matrix([[1,0,0,0], [0,0,1,0], [0,1,0,0], [0,0,0,1]])\n",
    "cnot = np.matrix([[1,0,0,0], [0,1,0,0], [0,0,0,1], [0,0,1,0]])\n",
    "\n",
    "def Pad(gate, qubits_num, a, b):\n",
    "    if a == 0:\n",
    "        gate_return = Kron(gate, I(2 ** (qubits_num - b - 1)))\n",
    "    elif b < qubits_num - 1:\n",
    "        gate_return = Kron(I(2 ** a), gate, I(2 ** (qubits_num - b - 1)))\n",
    "    else:\n",
    "        gate_return = Kron(I(2 ** a), gate)\n",
    "\n",
    "    return gate_return\n",
    "\n",
    "def CNOT(qubits_num, control, target):\n",
    "    if control >= target:\n",
    "        raise ValueError(\"Contrl >= Target\")\n",
    "    \n",
    "    cx = np.eye(2 ** qubits_num)\n",
    "    \n",
    "    swaps = []\n",
    "    for i in range(control + 1, target):\n",
    "        swaps.append( Pad(swap, qubits_num, i - 1, i) )\n",
    "    \n",
    "    for s in swaps:\n",
    "        cx = s @ cx\n",
    "        \n",
    "    cx = Pad(cnot, qubits_num, target - 1, target) @ cx\n",
    "    \n",
    "    for s in reversed(swaps):\n",
    "        cx = s @ cx\n",
    "    \n",
    "    return cx.astype('complex64')"
   ]
  },
  {
   "cell_type": "code",
   "execution_count": 5,
   "metadata": {},
   "outputs": [
    {
     "name": "stdout",
     "output_type": "stream",
     "text": [
      "True\n"
     ]
    }
   ],
   "source": [
    "print(np.allclose(CNOT(4, 0, 2), cirq.unitary(circuit)))"
   ]
  },
  {
   "cell_type": "markdown",
   "metadata": {},
   "source": [
    "## Simulate Unitary Gate"
   ]
  },
  {
   "cell_type": "code",
   "execution_count": 6,
   "metadata": {},
   "outputs": [],
   "source": [
    "pauli = [\n",
    "    np.matrix([[1,0],[0,1]]).astype('complex64'),\n",
    "    np.matrix([[0,1],[1,0]]).astype('complex64'),\n",
    "    np.matrix([[0,-1.0j],[1.0j,0]]).astype('complex64'),\n",
    "    np.matrix([[1,0],[0,-1]]).astype('complex64')\n",
    "]"
   ]
  },
  {
   "cell_type": "code",
   "execution_count": 7,
   "metadata": {},
   "outputs": [],
   "source": [
    "def generateCombs(n, combs, comb):\n",
    "    \"\"\"\n",
    "        n = 3 => 000 ... 333\n",
    "    \"\"\"\n",
    "    if len(comb) == n:\n",
    "        combs.append(comb)\n",
    "        \n",
    "        return\n",
    "\n",
    "    for i in range(4):\n",
    "        generateCombs(n, combs, comb + str(i))\n",
    "\n",
    "combs = []\n",
    "generateCombs(2, combs, '')"
   ]
  },
  {
   "cell_type": "code",
   "execution_count": 8,
   "metadata": {},
   "outputs": [
    {
     "name": "stdout",
     "output_type": "stream",
     "text": [
      "['00', '01', '02', '03', '10', '11', '12', '13', '20', '21', '22', '23', '30', '31', '32', '33']\n"
     ]
    }
   ],
   "source": [
    "print(combs)"
   ]
  },
  {
   "cell_type": "code",
   "execution_count": 45,
   "metadata": {},
   "outputs": [
    {
     "name": "stdout",
     "output_type": "stream",
     "text": [
      "[[ 5.40302306e-01-0.59500984j  0.00000000e+00-0.59500984j]\n",
      " [-5.55111512e-17-0.59500984j  5.40302306e-01+0.59500984j]]\n",
      "[[ 5.40302306e-01-0.59500984j  0.00000000e+00-0.59500984j]\n",
      " [-5.55111512e-17-0.59500984j  5.40302306e-01+0.59500984j]]\n",
      "\n",
      "[[0.54030231-0.84147098j 0.        +0.j         0.        +0.j        ]\n",
      " [0.        +0.j         0.54030231-0.84147098j 0.        +0.j        ]\n",
      " [0.        +0.j         0.        +0.j         0.54030231-0.84147098j]]\n"
     ]
    }
   ],
   "source": [
    "from qiskit.extensions import HamiltonianGate\n",
    "from scipy.linalg import expm\n",
    "\n",
    "m = np.array([[1, 1], [1, -1]]) / np.sqrt(2)\n",
    "u1 = HamiltonianGate(m, 1)\n",
    "u2 = expm(-1.0j * m)\n",
    "\n",
    "print(u1.to_matrix())\n",
    "print(u2)\n",
    "\n",
    "print()\n",
    "\n",
    "# dimension = 3 test:\n",
    "m2 = np.array([[1, 0, 0], [0, 1, 0], [0, 0, 1]])\n",
    "# u3 = HamiltonianGate(m2, 1) #  Error: 'Input matrix is not an N-qubit operator.'\n",
    "u4 = expm(-1.0j * m2)\n",
    "\n",
    "# print(u3.to_matrix())\n",
    "print(u4)"
   ]
  },
  {
   "cell_type": "code",
   "execution_count": 65,
   "metadata": {},
   "outputs": [
    {
     "name": "stdout",
     "output_type": "stream",
     "text": [
      "DensityMatrix([[4.+0.j]],\n",
      "              dims=())\n",
      "DensityMatrix([[3.+0.j]],\n",
      "              dims=(3,))\n"
     ]
    }
   ],
   "source": [
    "from qiskit.quantum_info import partial_trace, DensityMatrix\n",
    "from scipy.linalg import expm\n",
    "\n",
    "U_test = np.matrix([\n",
    "    [1,0,0,0],\n",
    "    [0,1,0,0],\n",
    "    [0,0,1,0],\n",
    "    [0,0,0,1]\n",
    "])\n",
    "\n",
    "print(partial_trace(DensityMatrix(U_test), [0, 1]))\n",
    "\n",
    "\n",
    "U_test_2 = np.matrix([\n",
    "    [1,0,0],\n",
    "    [0,1,0],\n",
    "    [0,0,1]\n",
    "])\n",
    "\n",
    "print(partial_trace(DensityMatrix(U_test_2), [0]))"
   ]
  },
  {
   "cell_type": "code",
   "execution_count": 89,
   "metadata": {},
   "outputs": [
    {
     "name": "stdout",
     "output_type": "stream",
     "text": [
      "[[1.+0.j 0.+0.j 0.+0.j 0.+0.j]\n",
      " [0.+0.j 1.+0.j 0.+0.j 0.+0.j]\n",
      " [0.+0.j 0.+0.j 1.+0.j 0.+0.j]\n",
      " [0.+0.j 0.+0.j 0.+0.j 1.+0.j]]\n"
     ]
    }
   ],
   "source": [
    "from qiskit.extensions import UnitaryGate\n",
    "\n",
    "U_test = np.matrix([\n",
    "    [1,0,0,0],\n",
    "    [0,1,0,0],\n",
    "    [0,0,1,0],\n",
    "    [0,0,0,1]\n",
    "])\n",
    "\n",
    "print(UnitaryGate(U_test).to_matrix())\n",
    "\n",
    "U_test_2 = np.matrix([\n",
    "    [1,0,0],\n",
    "    [0,1,0],\n",
    "    [0,0,1]\n",
    "])\n",
    "\n",
    "# print(UnitaryGate(U_test_2).to_matrix()) # Error Input matrix is not an N-qubit operator."
   ]
  },
  {
   "cell_type": "code",
   "execution_count": 9,
   "metadata": {},
   "outputs": [],
   "source": [
    "from qiskit.extensions import HamiltonianGate\n",
    "from scipy.linalg import expm\n",
    "\n",
    "def buildU(n, p):\n",
    "    H = np.zeros((2 ** n, 2 ** n)).astype('complex64')\n",
    "    pos = 0\n",
    "    # global combs\n",
    "    for comb in combs:\n",
    "        temp = np.kron(pauli[int(comb[0])], pauli[int(comb[1])])\n",
    "        for i in range(2, n):\n",
    "            temp = np.kron(temp, pauli[int(comb[i])])\n",
    "        \n",
    "        H += p[pos] * temp\n",
    "        pos += 1\n",
    "    \n",
    "    U = expm(-1.0j * H)\n",
    "    \n",
    "    return U"
   ]
  },
  {
   "cell_type": "code",
   "execution_count": 10,
   "metadata": {},
   "outputs": [
    {
     "data": {
      "text/plain": [
       "array([-0.32537704, -0.40278416, -0.30680472,  0.89384637, -0.90907368,\n",
       "       -0.23735776, -0.55934918, -0.50953951,  0.2883719 , -0.13199527,\n",
       "       -0.34534416, -0.19116356, -0.72584177, -0.93768884,  0.60285673,\n",
       "       -0.29758506])"
      ]
     },
     "execution_count": 10,
     "metadata": {},
     "output_type": "execute_result"
    }
   ],
   "source": [
    "n = 2\n",
    "p = np.random.uniform(-1, 1, 2 ** (2*n))\n",
    "p"
   ]
  },
  {
   "cell_type": "code",
   "execution_count": 11,
   "metadata": {},
   "outputs": [
    {
     "name": "stdout",
     "output_type": "stream",
     "text": [
      "[[-0.18477465-0.27612722j -0.74971086+0.21018887j  0.10801927+0.0220124j\n",
      "   0.5111546 +0.09967209j]\n",
      " [-0.50539464+0.16253859j -0.38070878+0.11287259j -0.18610187+0.06313017j\n",
      "  -0.6987935 +0.1831564j ]\n",
      " [ 0.17994726+0.41660807j -0.22878647-0.11812306j -0.7214033 -0.39157814j\n",
      "   0.1965895 -0.12392287j]\n",
      " [-0.18033904-0.6077039j   0.34264988+0.22884388j -0.48075676-0.21058181j\n",
      "   0.05002727+0.3878411j ]]\n",
      "True\n"
     ]
    }
   ],
   "source": [
    "U1 = buildU(n, p)\n",
    "print(U1)\n",
    "\n",
    "U2 = U1.conj().T # U-dagger\n",
    "I_ = np.eye(2 ** n)\n",
    "\n",
    "# U * U_dagger = I => unitary\n",
    "# expected: true\n",
    "np.allclose(U1 @ U2, I_)\n",
    "print(np.allclose(U1 @ U2, I_, atol=1e-6))"
   ]
  },
  {
   "cell_type": "markdown",
   "metadata": {},
   "source": [
    "## init Circuit"
   ]
  },
  {
   "cell_type": "code",
   "execution_count": 12,
   "metadata": {},
   "outputs": [
    {
     "data": {
      "image/svg+xml": [
       "<svg xmlns=\"http://www.w3.org/2000/svg\" width=\"260.0\" height=\"240.0\"><line x1=\"30.0\" x2=\"230.0\" y1=\"45.0\" y2=\"45.0\" stroke=\"#1967d2\" stroke-width=\"1\" /><line x1=\"30.0\" x2=\"230.0\" y1=\"95.0\" y2=\"95.0\" stroke=\"#1967d2\" stroke-width=\"1\" /><line x1=\"30.0\" x2=\"230.0\" y1=\"145.0\" y2=\"145.0\" stroke=\"#1967d2\" stroke-width=\"1\" /><line x1=\"30.0\" x2=\"230.0\" y1=\"195.0\" y2=\"195.0\" stroke=\"#1967d2\" stroke-width=\"1\" /><line x1=\"120.0\" x2=\"210.0\" y1=\"5.0\" y2=\"5.0\" stroke=\"black\" stroke-width=\"1\" /><line x1=\"120.0\" x2=\"210.0\" y1=\"235.0\" y2=\"235.0\" stroke=\"black\" stroke-width=\"1\" /><line x1=\"140.0\" x2=\"140.0\" y1=\"45.0\" y2=\"145.0\" stroke=\"black\" stroke-width=\"3\" /><line x1=\"180.0\" x2=\"180.0\" y1=\"95.0\" y2=\"195.0\" stroke=\"black\" stroke-width=\"3\" /><line x1=\"120.0\" x2=\"120.0\" y1=\"5.0\" y2=\"15.0\" stroke=\"black\" stroke-width=\"3\" /><line x1=\"210.0\" x2=\"210.0\" y1=\"5.0\" y2=\"15.0\" stroke=\"black\" stroke-width=\"3\" /><line x1=\"120.0\" x2=\"120.0\" y1=\"225.0\" y2=\"235.0\" stroke=\"black\" stroke-width=\"3\" /><line x1=\"210.0\" x2=\"210.0\" y1=\"225.0\" y2=\"235.0\" stroke=\"black\" stroke-width=\"3\" /><rect x=\"10.0\" y=\"25.0\" width=\"40\" height=\"40\" stroke=\"black\" fill=\"white\" stroke-width=\"0\" /><text x=\"30.0\" y=\"45.0\" dominant-baseline=\"middle\" text-anchor=\"middle\" font-size=\"14px\" font-family=\"Arial\">0: </text><rect x=\"10.0\" y=\"75.0\" width=\"40\" height=\"40\" stroke=\"black\" fill=\"white\" stroke-width=\"0\" /><text x=\"30.0\" y=\"95.0\" dominant-baseline=\"middle\" text-anchor=\"middle\" font-size=\"14px\" font-family=\"Arial\">1: </text><rect x=\"10.0\" y=\"125.0\" width=\"40\" height=\"40\" stroke=\"black\" fill=\"white\" stroke-width=\"0\" /><text x=\"30.0\" y=\"145.0\" dominant-baseline=\"middle\" text-anchor=\"middle\" font-size=\"14px\" font-family=\"Arial\">2: </text><rect x=\"10.0\" y=\"175.0\" width=\"40\" height=\"40\" stroke=\"black\" fill=\"white\" stroke-width=\"0\" /><text x=\"30.0\" y=\"195.0\" dominant-baseline=\"middle\" text-anchor=\"middle\" font-size=\"14px\" font-family=\"Arial\">3: </text><rect x=\"70.0\" y=\"25.0\" width=\"40\" height=\"40\" stroke=\"black\" fill=\"white\" stroke-width=\"1\" /><text x=\"90.0\" y=\"45.0\" dominant-baseline=\"middle\" text-anchor=\"middle\" font-size=\"18px\" font-family=\"Arial\">H</text><rect x=\"70.0\" y=\"75.0\" width=\"40\" height=\"40\" stroke=\"black\" fill=\"white\" stroke-width=\"1\" /><text x=\"90.0\" y=\"95.0\" dominant-baseline=\"middle\" text-anchor=\"middle\" font-size=\"18px\" font-family=\"Arial\">H</text><rect x=\"70.0\" y=\"125.0\" width=\"40\" height=\"40\" stroke=\"black\" fill=\"white\" stroke-width=\"1\" /><text x=\"90.0\" y=\"145.0\" dominant-baseline=\"middle\" text-anchor=\"middle\" font-size=\"18px\" font-family=\"Arial\">I</text><rect x=\"70.0\" y=\"175.0\" width=\"40\" height=\"40\" stroke=\"black\" fill=\"white\" stroke-width=\"1\" /><text x=\"90.0\" y=\"195.0\" dominant-baseline=\"middle\" text-anchor=\"middle\" font-size=\"18px\" font-family=\"Arial\">I</text><circle cx=\"140.0\" cy=\"45.0\" r=\"10.0\" /><rect x=\"120.0\" y=\"125.0\" width=\"40\" height=\"40\" stroke=\"black\" fill=\"white\" stroke-width=\"1\" /><text x=\"140.0\" y=\"145.0\" dominant-baseline=\"middle\" text-anchor=\"middle\" font-size=\"18px\" font-family=\"Arial\">X</text><circle cx=\"180.0\" cy=\"95.0\" r=\"10.0\" /><rect x=\"160.0\" y=\"175.0\" width=\"40\" height=\"40\" stroke=\"black\" fill=\"white\" stroke-width=\"1\" /><text x=\"180.0\" y=\"195.0\" dominant-baseline=\"middle\" text-anchor=\"middle\" font-size=\"18px\" font-family=\"Arial\">X</text></svg>"
      ],
      "text/plain": [
       "<cirq.contrib.svg.svg.SVGCircuit at 0x20591c3a320>"
      ]
     },
     "execution_count": 12,
     "metadata": {},
     "output_type": "execute_result"
    }
   ],
   "source": [
    "circuit2 = cirq.Circuit()\n",
    "# Q1, Q2, Q3, Q4 = [cirq.LineQubit(i) for i in range(4)]\n",
    "circuit2.append(cirq.H(Q1))\n",
    "circuit2.append(cirq.H(Q2))\n",
    "circuit2.append(cirq.I(Q3))\n",
    "circuit2.append(cirq.I(Q4))\n",
    "circuit2.append(cirq.CNOT(Q1, Q3))\n",
    "circuit2.append(cirq.CNOT(Q2, Q4))\n",
    "\n",
    "SVGCircuit(circuit2)"
   ]
  },
  {
   "cell_type": "code",
   "execution_count": 13,
   "metadata": {},
   "outputs": [
    {
     "data": {
      "text/plain": [
       "array([[ 0.5+0.j,  0. +0.j,  0. +0.j,  0. +0.j,  0.5+0.j,  0. +0.j,\n",
       "         0. +0.j,  0. +0.j,  0.5+0.j,  0. +0.j,  0. +0.j,  0. +0.j,\n",
       "         0.5+0.j,  0. +0.j,  0. +0.j,  0. +0.j],\n",
       "       [ 0. +0.j,  0.5+0.j,  0. +0.j,  0. +0.j,  0. +0.j,  0.5+0.j,\n",
       "         0. +0.j,  0. +0.j,  0. +0.j,  0.5+0.j,  0. +0.j,  0. +0.j,\n",
       "         0. +0.j,  0.5+0.j,  0. +0.j,  0. +0.j],\n",
       "       [ 0. +0.j,  0. +0.j,  0.5+0.j,  0. +0.j,  0. +0.j,  0. +0.j,\n",
       "         0.5+0.j,  0. +0.j,  0. +0.j,  0. +0.j,  0.5+0.j,  0. +0.j,\n",
       "         0. +0.j,  0. +0.j,  0.5+0.j,  0. +0.j],\n",
       "       [ 0. +0.j,  0. +0.j,  0. +0.j,  0.5+0.j,  0. +0.j,  0. +0.j,\n",
       "         0. +0.j,  0.5+0.j,  0. +0.j,  0. +0.j,  0. +0.j,  0.5+0.j,\n",
       "         0. +0.j,  0. +0.j,  0. +0.j,  0.5+0.j],\n",
       "       [-0. +0.j,  0.5+0.j, -0. +0.j, -0. +0.j, -0. +0.j, -0.5+0.j,\n",
       "        -0. +0.j, -0. +0.j, -0. +0.j,  0.5+0.j, -0. +0.j, -0. +0.j,\n",
       "        -0. +0.j, -0.5+0.j, -0. +0.j, -0. +0.j],\n",
       "       [ 0.5+0.j, -0. +0.j, -0. +0.j, -0. +0.j, -0.5+0.j, -0. +0.j,\n",
       "        -0. +0.j, -0. +0.j,  0.5+0.j, -0. +0.j, -0. +0.j, -0. +0.j,\n",
       "        -0.5+0.j, -0. +0.j, -0. +0.j, -0. +0.j],\n",
       "       [-0. +0.j, -0. +0.j, -0. +0.j,  0.5+0.j, -0. +0.j, -0. +0.j,\n",
       "        -0. +0.j, -0.5+0.j, -0. +0.j, -0. +0.j, -0. +0.j,  0.5+0.j,\n",
       "        -0. +0.j, -0. +0.j, -0. +0.j, -0.5+0.j],\n",
       "       [-0. +0.j, -0. +0.j,  0.5+0.j, -0. +0.j, -0. +0.j, -0. +0.j,\n",
       "        -0.5+0.j, -0. +0.j, -0. +0.j, -0. +0.j,  0.5+0.j, -0. +0.j,\n",
       "        -0. +0.j, -0. +0.j, -0.5+0.j, -0. +0.j],\n",
       "       [ 0. +0.j,  0. +0.j,  0.5+0.j,  0. +0.j,  0. +0.j,  0. +0.j,\n",
       "         0.5+0.j,  0. +0.j,  0. +0.j,  0. +0.j, -0.5+0.j,  0. +0.j,\n",
       "         0. +0.j,  0. +0.j, -0.5+0.j,  0. +0.j],\n",
       "       [ 0. +0.j,  0. +0.j,  0. +0.j,  0.5+0.j,  0. +0.j,  0. +0.j,\n",
       "         0. +0.j,  0.5+0.j,  0. +0.j,  0. +0.j,  0. +0.j, -0.5+0.j,\n",
       "         0. +0.j,  0. +0.j,  0. +0.j, -0.5+0.j],\n",
       "       [ 0.5+0.j,  0. +0.j,  0. +0.j,  0. +0.j,  0.5+0.j,  0. +0.j,\n",
       "         0. +0.j,  0. +0.j, -0.5+0.j,  0. +0.j,  0. +0.j,  0. +0.j,\n",
       "        -0.5+0.j,  0. +0.j,  0. +0.j,  0. +0.j],\n",
       "       [ 0. +0.j,  0.5+0.j,  0. +0.j,  0. +0.j,  0. +0.j,  0.5+0.j,\n",
       "         0. +0.j,  0. +0.j,  0. +0.j, -0.5+0.j,  0. +0.j,  0. +0.j,\n",
       "         0. +0.j, -0.5+0.j,  0. +0.j,  0. +0.j],\n",
       "       [-0. +0.j, -0. +0.j, -0. +0.j,  0.5+0.j, -0. +0.j, -0. +0.j,\n",
       "        -0. +0.j, -0.5+0.j, -0. +0.j, -0. +0.j, -0. +0.j, -0.5+0.j,\n",
       "        -0. +0.j, -0. +0.j, -0. +0.j,  0.5+0.j],\n",
       "       [-0. +0.j, -0. +0.j,  0.5+0.j, -0. +0.j, -0. +0.j, -0. +0.j,\n",
       "        -0.5+0.j, -0. +0.j, -0. +0.j, -0. +0.j, -0.5+0.j, -0. +0.j,\n",
       "        -0. +0.j, -0. +0.j,  0.5+0.j, -0. +0.j],\n",
       "       [-0. +0.j,  0.5+0.j, -0. +0.j, -0. +0.j, -0. +0.j, -0.5+0.j,\n",
       "        -0. +0.j, -0. +0.j, -0. +0.j, -0.5+0.j, -0. +0.j, -0. +0.j,\n",
       "        -0. +0.j,  0.5+0.j, -0. +0.j, -0. +0.j],\n",
       "       [ 0.5+0.j, -0. +0.j, -0. +0.j, -0. +0.j, -0.5+0.j, -0. +0.j,\n",
       "        -0. +0.j, -0. +0.j, -0.5+0.j, -0. +0.j, -0. +0.j, -0. +0.j,\n",
       "         0.5+0.j, -0. +0.j, -0. +0.j, -0. +0.j]])"
      ]
     },
     "execution_count": 13,
     "metadata": {},
     "output_type": "execute_result"
    }
   ],
   "source": [
    "circuit_matrix = cirq.unitary(circuit2)\n",
    "circuit_matrix"
   ]
  },
  {
   "cell_type": "code",
   "execution_count": 14,
   "metadata": {},
   "outputs": [],
   "source": [
    "H = np.matrix([[1,1],[1,-1]]).astype('complex64')\n",
    "H /= np.sqrt(2)\n",
    "# print(H)\n",
    "\n",
    "def getCircuit(n):\n",
    "    m = np.eye(2 ** (2*n)).astype('complex64')\n",
    "    \n",
    "    for i in range(n):\n",
    "        m = Pad(H, 2 * n, i, i) @ m\n",
    "    \n",
    "    for i in range(n):\n",
    "        m = CNOT(2 * n, i, i + n) @ m\n",
    "        \n",
    "    return m"
   ]
  },
  {
   "cell_type": "code",
   "execution_count": 15,
   "metadata": {},
   "outputs": [
    {
     "name": "stdout",
     "output_type": "stream",
     "text": [
      "True\n"
     ]
    }
   ],
   "source": [
    "matrix = getCircuit(2)\n",
    "# print(matrix)\n",
    "\n",
    "print(np.allclose(matrix, circuit_matrix, atol=1e-6))"
   ]
  },
  {
   "cell_type": "markdown",
   "metadata": {},
   "source": [
    "## initial States"
   ]
  },
  {
   "cell_type": "code",
   "execution_count": 16,
   "metadata": {},
   "outputs": [],
   "source": [
    "def getInitialState(n):\n",
    "    psi_0 = np.array([1,0])\n",
    "    \n",
    "    return Kron(*[psi_0] * (2*n))"
   ]
  },
  {
   "cell_type": "code",
   "execution_count": 17,
   "metadata": {},
   "outputs": [
    {
     "name": "stdout",
     "output_type": "stream",
     "text": [
      "[1 0 0 0 0 0 0 0 0 0 0 0 0 0 0 0]\n",
      "(16,)\n"
     ]
    }
   ],
   "source": [
    "initial = getInitialState(2)\n",
    "print(initial)\n",
    "print(initial.shape)"
   ]
  },
  {
   "cell_type": "code",
   "execution_count": 18,
   "metadata": {
    "scrolled": true
   },
   "outputs": [
    {
     "name": "stdout",
     "output_type": "stream",
     "text": [
      "[[1 0 0 0 0 0 0 0 0 0 0 0 0 0 0 0]\n",
      " [0 0 0 0 0 0 0 0 0 0 0 0 0 0 0 0]\n",
      " [0 0 0 0 0 0 0 0 0 0 0 0 0 0 0 0]\n",
      " [0 0 0 0 0 0 0 0 0 0 0 0 0 0 0 0]\n",
      " [0 0 0 0 0 0 0 0 0 0 0 0 0 0 0 0]\n",
      " [0 0 0 0 0 0 0 0 0 0 0 0 0 0 0 0]\n",
      " [0 0 0 0 0 0 0 0 0 0 0 0 0 0 0 0]\n",
      " [0 0 0 0 0 0 0 0 0 0 0 0 0 0 0 0]\n",
      " [0 0 0 0 0 0 0 0 0 0 0 0 0 0 0 0]\n",
      " [0 0 0 0 0 0 0 0 0 0 0 0 0 0 0 0]\n",
      " [0 0 0 0 0 0 0 0 0 0 0 0 0 0 0 0]\n",
      " [0 0 0 0 0 0 0 0 0 0 0 0 0 0 0 0]\n",
      " [0 0 0 0 0 0 0 0 0 0 0 0 0 0 0 0]\n",
      " [0 0 0 0 0 0 0 0 0 0 0 0 0 0 0 0]\n",
      " [0 0 0 0 0 0 0 0 0 0 0 0 0 0 0 0]\n",
      " [0 0 0 0 0 0 0 0 0 0 0 0 0 0 0 0]]\n"
     ]
    }
   ],
   "source": [
    "print(np.outer(initial, initial))"
   ]
  },
  {
   "cell_type": "code",
   "execution_count": 19,
   "metadata": {},
   "outputs": [
    {
     "name": "stdout",
     "output_type": "stream",
     "text": [
      "(16, 16)\n"
     ]
    }
   ],
   "source": [
    "U1_ = Kron(U1, I(4))\n",
    "result = U1_ @ np.outer(initial, initial) @ U1_.conj().T\n",
    "print(result.shape)"
   ]
  },
  {
   "cell_type": "markdown",
   "metadata": {},
   "source": [
    "## get Circuit with Encode"
   ]
  },
  {
   "cell_type": "code",
   "execution_count": 20,
   "metadata": {
    "scrolled": false
   },
   "outputs": [
    {
     "data": {
      "image/svg+xml": [
       "<svg xmlns=\"http://www.w3.org/2000/svg\" width=\"380.0\" height=\"240.0\"><line x1=\"30.0\" x2=\"350.0\" y1=\"45.0\" y2=\"45.0\" stroke=\"#1967d2\" stroke-width=\"1\" /><line x1=\"30.0\" x2=\"350.0\" y1=\"95.0\" y2=\"95.0\" stroke=\"#1967d2\" stroke-width=\"1\" /><line x1=\"30.0\" x2=\"350.0\" y1=\"145.0\" y2=\"145.0\" stroke=\"#1967d2\" stroke-width=\"1\" /><line x1=\"30.0\" x2=\"350.0\" y1=\"195.0\" y2=\"195.0\" stroke=\"#1967d2\" stroke-width=\"1\" /><line x1=\"120.0\" x2=\"210.0\" y1=\"5.0\" y2=\"5.0\" stroke=\"black\" stroke-width=\"1\" /><line x1=\"120.0\" x2=\"210.0\" y1=\"235.0\" y2=\"235.0\" stroke=\"black\" stroke-width=\"1\" /><line x1=\"140.0\" x2=\"140.0\" y1=\"45.0\" y2=\"145.0\" stroke=\"black\" stroke-width=\"3\" /><line x1=\"180.0\" x2=\"180.0\" y1=\"95.0\" y2=\"195.0\" stroke=\"black\" stroke-width=\"3\" /><line x1=\"120.0\" x2=\"120.0\" y1=\"5.0\" y2=\"15.0\" stroke=\"black\" stroke-width=\"3\" /><line x1=\"210.0\" x2=\"210.0\" y1=\"5.0\" y2=\"15.0\" stroke=\"black\" stroke-width=\"3\" /><line x1=\"120.0\" x2=\"120.0\" y1=\"225.0\" y2=\"235.0\" stroke=\"black\" stroke-width=\"3\" /><line x1=\"210.0\" x2=\"210.0\" y1=\"225.0\" y2=\"235.0\" stroke=\"black\" stroke-width=\"3\" /><rect x=\"10.0\" y=\"25.0\" width=\"40\" height=\"40\" stroke=\"black\" fill=\"white\" stroke-width=\"0\" /><text x=\"30.0\" y=\"45.0\" dominant-baseline=\"middle\" text-anchor=\"middle\" font-size=\"14px\" font-family=\"Arial\">0: </text><rect x=\"10.0\" y=\"75.0\" width=\"40\" height=\"40\" stroke=\"black\" fill=\"white\" stroke-width=\"0\" /><text x=\"30.0\" y=\"95.0\" dominant-baseline=\"middle\" text-anchor=\"middle\" font-size=\"14px\" font-family=\"Arial\">1: </text><rect x=\"10.0\" y=\"125.0\" width=\"40\" height=\"40\" stroke=\"black\" fill=\"white\" stroke-width=\"0\" /><text x=\"30.0\" y=\"145.0\" dominant-baseline=\"middle\" text-anchor=\"middle\" font-size=\"14px\" font-family=\"Arial\">2: </text><rect x=\"10.0\" y=\"175.0\" width=\"40\" height=\"40\" stroke=\"black\" fill=\"white\" stroke-width=\"0\" /><text x=\"30.0\" y=\"195.0\" dominant-baseline=\"middle\" text-anchor=\"middle\" font-size=\"14px\" font-family=\"Arial\">3: </text><rect x=\"70.0\" y=\"25.0\" width=\"40\" height=\"40\" stroke=\"black\" fill=\"white\" stroke-width=\"1\" /><text x=\"90.0\" y=\"45.0\" dominant-baseline=\"middle\" text-anchor=\"middle\" font-size=\"18px\" font-family=\"Arial\">H</text><rect x=\"70.0\" y=\"75.0\" width=\"40\" height=\"40\" stroke=\"black\" fill=\"white\" stroke-width=\"1\" /><text x=\"90.0\" y=\"95.0\" dominant-baseline=\"middle\" text-anchor=\"middle\" font-size=\"18px\" font-family=\"Arial\">H</text><rect x=\"70.0\" y=\"125.0\" width=\"40\" height=\"40\" stroke=\"black\" fill=\"white\" stroke-width=\"1\" /><text x=\"90.0\" y=\"145.0\" dominant-baseline=\"middle\" text-anchor=\"middle\" font-size=\"18px\" font-family=\"Arial\">I</text><rect x=\"70.0\" y=\"175.0\" width=\"40\" height=\"40\" stroke=\"black\" fill=\"white\" stroke-width=\"1\" /><text x=\"90.0\" y=\"195.0\" dominant-baseline=\"middle\" text-anchor=\"middle\" font-size=\"18px\" font-family=\"Arial\">I</text><circle cx=\"140.0\" cy=\"45.0\" r=\"10.0\" /><rect x=\"120.0\" y=\"125.0\" width=\"40\" height=\"40\" stroke=\"black\" fill=\"white\" stroke-width=\"1\" /><text x=\"140.0\" y=\"145.0\" dominant-baseline=\"middle\" text-anchor=\"middle\" font-size=\"18px\" font-family=\"Arial\">X</text><circle cx=\"180.0\" cy=\"95.0\" r=\"10.0\" /><rect x=\"160.0\" y=\"175.0\" width=\"40\" height=\"40\" stroke=\"black\" fill=\"white\" stroke-width=\"1\" /><text x=\"180.0\" y=\"195.0\" dominant-baseline=\"middle\" text-anchor=\"middle\" font-size=\"18px\" font-family=\"Arial\">X</text><rect x=\"230.0\" y=\"25.0\" width=\"40\" height=\"40\" stroke=\"black\" fill=\"white\" stroke-width=\"1\" /><text x=\"250.0\" y=\"45.0\" dominant-baseline=\"middle\" text-anchor=\"middle\" font-size=\"18px\" font-family=\"Arial\">Z</text><rect x=\"230.0\" y=\"75.0\" width=\"40\" height=\"40\" stroke=\"black\" fill=\"white\" stroke-width=\"1\" /><text x=\"250.0\" y=\"95.0\" dominant-baseline=\"middle\" text-anchor=\"middle\" font-size=\"18px\" font-family=\"Arial\">Z</text><rect x=\"290.0\" y=\"75.0\" width=\"40\" height=\"40\" stroke=\"black\" fill=\"white\" stroke-width=\"1\" /><text x=\"310.0\" y=\"95.0\" dominant-baseline=\"middle\" text-anchor=\"middle\" font-size=\"18px\" font-family=\"Arial\">X</text></svg>"
      ],
      "text/plain": [
       "<cirq.contrib.svg.svg.SVGCircuit at 0x20591c39780>"
      ]
     },
     "execution_count": 20,
     "metadata": {},
     "output_type": "execute_result"
    }
   ],
   "source": [
    "circuit3 = cirq.Circuit()\n",
    "# Q1, Q2, Q3, Q4 = [cirq.LineQubit(i) for i in range(4)]\n",
    "circuit3.append(cirq.H(Q1))\n",
    "circuit3.append(cirq.H(Q2))\n",
    "circuit3.append(cirq.I(Q3))\n",
    "circuit3.append(cirq.I(Q4))\n",
    "circuit3.append(cirq.CNOT(Q1, Q3))\n",
    "circuit3.append(cirq.CNOT(Q2, Q4))\n",
    "\n",
    "circuit3.append(cirq.Z(Q1))\n",
    "circuit3.append(cirq.Z(Q2))\n",
    "circuit3.append(cirq.X(Q2))\n",
    "\n",
    "SVGCircuit(circuit3)"
   ]
  },
  {
   "cell_type": "code",
   "execution_count": 21,
   "metadata": {},
   "outputs": [],
   "source": [
    "circuit3_matrix = cirq.unitary(circuit3)"
   ]
  },
  {
   "cell_type": "code",
   "execution_count": 22,
   "metadata": {},
   "outputs": [],
   "source": [
    "circuits_bits = dict()\n",
    "\n",
    "Z = np.matrix([[1,0],[0,-1]]).astype('complex64')\n",
    "X = np.matrix([[0,1],[1,0]]).astype('complex64')\n",
    "\n",
    "def operate(circuit, n, bits, target):\n",
    "    \"\"\"\n",
    "        => Z^(b_1) * X^(b_2)\n",
    "    \"\"\"\n",
    "    if bits[0] == '1':\n",
    "        circuit = Pad(Z, 2 * n, target, target) @ circuit\n",
    "    if bits[1] == '1':\n",
    "        circuit = Pad(X, 2 * n, target, target) @ circuit\n",
    "\n",
    "    return circuit\n",
    "\n",
    "def getEncodedCircuit(n, classical_bits):\n",
    "    bits_str = ''.join(classical_bits)\n",
    "    \n",
    "    if bits_str in circuits_bits:\n",
    "        return circuits_bits[bits_str]\n",
    "    \n",
    "    \"\"\"\n",
    "        getEncodedCircuit(circuit, [\"01\", \"10\", \"00\"])\n",
    "            => X(A1), Z(A2), I(A3)\n",
    "    \"\"\"\n",
    "    circuit = getCircuit(n)\n",
    "    \n",
    "    for i in range(n):\n",
    "        circuit = operate(circuit, n, classical_bits[i], target=i)\n",
    "    \n",
    "    # memoized\n",
    "    circuits_bits[bits_str] = circuit\n",
    "\n",
    "    return circuit"
   ]
  },
  {
   "cell_type": "code",
   "execution_count": 23,
   "metadata": {},
   "outputs": [
    {
     "data": {
      "text/plain": [
       "True"
      ]
     },
     "execution_count": 23,
     "metadata": {},
     "output_type": "execute_result"
    }
   ],
   "source": [
    "np.allclose(circuit3_matrix, getEncodedCircuit(2, ['10', '11']))"
   ]
  },
  {
   "cell_type": "markdown",
   "metadata": {},
   "source": [
    "## generate Rous"
   ]
  },
  {
   "cell_type": "code",
   "execution_count": 66,
   "metadata": {},
   "outputs": [],
   "source": [
    "def partial_trace_(rho, qubit_2_keep):\n",
    "    \"\"\" Calculate the partial trace for qubit system\n",
    "    Parameters\n",
    "    ----------\n",
    "    rho: np.ndarray\n",
    "        Density matrix\n",
    "    qubit_2_keep: list\n",
    "        Index of qubit to be kept after taking the trace\n",
    "    Returns\n",
    "    -------\n",
    "    rho_res: np.ndarray\n",
    "        Density matrix after taking partial trace\n",
    "    \"\"\"\n",
    "    num_qubit = int(np.log2(rho.shape[0]))\n",
    "    qubit_axis = [(i, num_qubit + i) for i in range(num_qubit)\n",
    "                  if i not in qubit_2_keep]\n",
    "    minus_factor = [(i, 2 * i) for i in range(len(qubit_axis))]\n",
    "    minus_qubit_axis = [(q[0] - m[0], q[1] - m[1])\n",
    "                        for q, m in zip(qubit_axis, minus_factor)]\n",
    "    rho_res = np.reshape(rho, [2, 2] * num_qubit)\n",
    "    qubit_left = num_qubit - len(qubit_axis)\n",
    "    for i, j in minus_qubit_axis:\n",
    "        rho_res = np.trace(rho_res, axis1=i, axis2=j)\n",
    "    if qubit_left > 1:\n",
    "        rho_res = np.reshape(rho_res, [2 ** qubit_left] * 2)\n",
    "\n",
    "    return rho_res"
   ]
  },
  {
   "cell_type": "code",
   "execution_count": 25,
   "metadata": {},
   "outputs": [
    {
     "name": "stdout",
     "output_type": "stream",
     "text": [
      "(16, 16)\n"
     ]
    }
   ],
   "source": [
    "c = getEncodedCircuit(2, ['10', '11'])\n",
    "c = np.array(c)\n",
    "\n",
    "print(c.shape)\n",
    "rho = c.reshape(np.tile([2,2,2,2], 2))\n",
    "# print(rho)\n",
    "# print(rho.shape)"
   ]
  },
  {
   "cell_type": "code",
   "execution_count": 95,
   "metadata": {},
   "outputs": [],
   "source": [
    "from qutip import Qobj\n",
    "from qiskit.quantum_info import partial_trace, DensityMatrix\n",
    "\n",
    "def norm(data):\n",
    "    return (Qobj(data.data).unit())\n",
    "#     return np.array(Qobj(data).unit())\n",
    "#     return data\n",
    "\n",
    "def generateRous(n, U, indexes):\n",
    "    \"\"\"\n",
    "        generates subsystems' states\n",
    "        indexes => indexes of qubits need to keep in subsystem\n",
    "    \"\"\"\n",
    "    bits = [\"00\", \"01\", \"10\", \"11\"]\n",
    "    rous = []\n",
    "    initital = getInitialState(n)\n",
    "    \n",
    "    # global combs\n",
    "    for comb in combs:\n",
    "        circuit = getEncodedCircuit( n, [bits[int(i)] for i in comb] )\n",
    "        circuit = np.kron(U, I(2 ** n)) @ circuit\n",
    "        \n",
    "#         reduced = norm( partial_trace(np.array(circuit), indexes) )\n",
    "        reduced = norm( partial_trace(DensityMatrix(circuit), indexes) )\n",
    "#         reduced = partial_trace(DensityMatrix(circuit), indexes)\n",
    "        rous.append( reduced )\n",
    "    \n",
    "    return rous"
   ]
  },
  {
   "cell_type": "code",
   "execution_count": 96,
   "metadata": {
    "scrolled": true
   },
   "outputs": [
    {
     "name": "stdout",
     "output_type": "stream",
     "text": [
      "[Quantum object: dims = [[4], [4]], shape = (4, 4), type = oper, isherm = False\n",
      "Qobj data =\n",
      "[[-0.00158147+0.02417447j  0.07105713-0.16200205j -0.00158147+0.02417447j\n",
      "  -0.07105713+0.16200205j]\n",
      " [ 0.07105713-0.16200205j -0.00158147+0.02417447j -0.07105713+0.16200205j\n",
      "  -0.00158147+0.02417447j]\n",
      " [-0.05408239+0.16170459j  0.00596741-0.08361472j -0.05408239+0.16170459j\n",
      "  -0.00596741+0.08361472j]\n",
      " [ 0.00596741-0.08361472j -0.05408239+0.16170459j -0.00596741+0.08361472j\n",
      "  -0.05408239+0.16170459j]], Quantum object: dims = [[4], [4]], shape = (4, 4), type = oper, isherm = False\n",
      "Qobj data =\n",
      "[[ 0.05756161-0.03833168j -0.21138241+0.05424079j  0.05756161-0.03833168j\n",
      "   0.21138241-0.05424079j]\n",
      " [-0.21138241+0.05424079j  0.05756161-0.03833168j  0.21138241-0.05424079j\n",
      "   0.05756161-0.03833168j]\n",
      " [-0.01733809+0.10100449j  0.16640777-0.06325458j -0.01733809+0.10100449j\n",
      "  -0.16640777+0.06325458j]\n",
      " [ 0.16640777-0.06325458j -0.01733809+0.10100449j -0.16640777+0.06325458j\n",
      "  -0.01733809+0.10100449j]], Quantum object: dims = [[4], [4]], shape = (4, 4), type = oper, isherm = False\n",
      "Qobj data =\n",
      "[[-0.00158147+0.02417447j  0.07105713-0.16200205j -0.00158147+0.02417447j\n",
      "  -0.07105713+0.16200205j]\n",
      " [ 0.07105713-0.16200205j -0.00158147+0.02417447j -0.07105713+0.16200205j\n",
      "  -0.00158147+0.02417447j]\n",
      " [-0.05408239+0.16170459j  0.00596741-0.08361472j -0.05408239+0.16170459j\n",
      "  -0.00596741+0.08361472j]\n",
      " [ 0.00596741-0.08361472j -0.05408239+0.16170459j -0.00596741+0.08361472j\n",
      "  -0.05408239+0.16170459j]], Quantum object: dims = [[4], [4]], shape = (4, 4), type = oper, isherm = False\n",
      "Qobj data =\n",
      "[[ 0.05756161-0.03833168j -0.21138241+0.05424079j  0.05756161-0.03833168j\n",
      "   0.21138241-0.05424079j]\n",
      " [-0.21138241+0.05424079j  0.05756161-0.03833168j  0.21138241-0.05424079j\n",
      "   0.05756161-0.03833168j]\n",
      " [-0.01733809+0.10100449j  0.16640777-0.06325458j -0.01733809+0.10100449j\n",
      "  -0.16640777+0.06325458j]\n",
      " [ 0.16640777-0.06325458j -0.01733809+0.10100449j -0.16640777+0.06325458j\n",
      "  -0.01733809+0.10100449j]], Quantum object: dims = [[4], [4]], shape = (4, 4), type = oper, isherm = False\n",
      "Qobj data =\n",
      "[[ 0.07105713-0.16200205j -0.00158147+0.02417447j  0.07105713-0.16200205j\n",
      "   0.00158147-0.02417447j]\n",
      " [-0.00158147+0.02417447j  0.07105713-0.16200205j  0.00158147-0.02417447j\n",
      "   0.07105713-0.16200205j]\n",
      " [ 0.00596741-0.08361472j -0.05408239+0.16170459j  0.00596741-0.08361472j\n",
      "   0.05408239-0.16170459j]\n",
      " [-0.05408239+0.16170459j  0.00596741-0.08361472j  0.05408239-0.16170459j\n",
      "   0.00596741-0.08361472j]], Quantum object: dims = [[4], [4]], shape = (4, 4), type = oper, isherm = False\n",
      "Qobj data =\n",
      "[[-0.21138241+0.05424079j  0.05756161-0.03833168j -0.21138241+0.05424079j\n",
      "  -0.05756161+0.03833168j]\n",
      " [ 0.05756161-0.03833168j -0.21138241+0.05424079j -0.05756161+0.03833168j\n",
      "  -0.21138241+0.05424079j]\n",
      " [ 0.16640777-0.06325458j -0.01733809+0.10100449j  0.16640777-0.06325458j\n",
      "   0.01733809-0.10100449j]\n",
      " [-0.01733809+0.10100449j  0.16640777-0.06325458j  0.01733809-0.10100449j\n",
      "   0.16640777-0.06325458j]], Quantum object: dims = [[4], [4]], shape = (4, 4), type = oper, isherm = False\n",
      "Qobj data =\n",
      "[[ 0.07105713-0.16200205j -0.00158147+0.02417447j  0.07105713-0.16200205j\n",
      "   0.00158147-0.02417447j]\n",
      " [-0.00158147+0.02417447j  0.07105713-0.16200205j  0.00158147-0.02417447j\n",
      "   0.07105713-0.16200205j]\n",
      " [ 0.00596741-0.08361472j -0.05408239+0.16170459j  0.00596741-0.08361472j\n",
      "   0.05408239-0.16170459j]\n",
      " [-0.05408239+0.16170459j  0.00596741-0.08361472j  0.05408239-0.16170459j\n",
      "   0.00596741-0.08361472j]], Quantum object: dims = [[4], [4]], shape = (4, 4), type = oper, isherm = False\n",
      "Qobj data =\n",
      "[[-0.21138241+0.05424079j  0.05756161-0.03833168j -0.21138241+0.05424079j\n",
      "  -0.05756161+0.03833168j]\n",
      " [ 0.05756161-0.03833168j -0.21138241+0.05424079j -0.05756161+0.03833168j\n",
      "  -0.21138241+0.05424079j]\n",
      " [ 0.16640777-0.06325458j -0.01733809+0.10100449j  0.16640777-0.06325458j\n",
      "   0.01733809-0.10100449j]\n",
      " [-0.01733809+0.10100449j  0.16640777-0.06325458j  0.01733809-0.10100449j\n",
      "   0.16640777-0.06325458j]], Quantum object: dims = [[4], [4]], shape = (4, 4), type = oper, isherm = False\n",
      "Qobj data =\n",
      "[[-0.00158147+0.02417447j -0.07105713+0.16200205j -0.00158147+0.02417447j\n",
      "   0.07105713-0.16200205j]\n",
      " [-0.07105713+0.16200205j -0.00158147+0.02417447j  0.07105713-0.16200205j\n",
      "  -0.00158147+0.02417447j]\n",
      " [-0.05408239+0.16170459j -0.00596741+0.08361472j -0.05408239+0.16170459j\n",
      "   0.00596741-0.08361472j]\n",
      " [-0.00596741+0.08361472j -0.05408239+0.16170459j  0.00596741-0.08361472j\n",
      "  -0.05408239+0.16170459j]], Quantum object: dims = [[4], [4]], shape = (4, 4), type = oper, isherm = False\n",
      "Qobj data =\n",
      "[[ 0.05756161-0.03833168j  0.21138241-0.05424079j  0.05756161-0.03833168j\n",
      "  -0.21138241+0.05424079j]\n",
      " [ 0.21138241-0.05424079j  0.05756161-0.03833168j -0.21138241+0.05424079j\n",
      "   0.05756161-0.03833168j]\n",
      " [-0.01733809+0.10100449j -0.16640777+0.06325458j -0.01733809+0.10100449j\n",
      "   0.16640777-0.06325458j]\n",
      " [-0.16640777+0.06325458j -0.01733809+0.10100449j  0.16640777-0.06325458j\n",
      "  -0.01733809+0.10100449j]], Quantum object: dims = [[4], [4]], shape = (4, 4), type = oper, isherm = False\n",
      "Qobj data =\n",
      "[[-0.00158147+0.02417447j -0.07105713+0.16200205j -0.00158147+0.02417447j\n",
      "   0.07105713-0.16200205j]\n",
      " [-0.07105713+0.16200205j -0.00158147+0.02417447j  0.07105713-0.16200205j\n",
      "  -0.00158147+0.02417447j]\n",
      " [-0.05408239+0.16170459j -0.00596741+0.08361472j -0.05408239+0.16170459j\n",
      "   0.00596741-0.08361472j]\n",
      " [-0.00596741+0.08361472j -0.05408239+0.16170459j  0.00596741-0.08361472j\n",
      "  -0.05408239+0.16170459j]], Quantum object: dims = [[4], [4]], shape = (4, 4), type = oper, isherm = False\n",
      "Qobj data =\n",
      "[[ 0.05756161-0.03833168j  0.21138241-0.05424079j  0.05756161-0.03833168j\n",
      "  -0.21138241+0.05424079j]\n",
      " [ 0.21138241-0.05424079j  0.05756161-0.03833168j -0.21138241+0.05424079j\n",
      "   0.05756161-0.03833168j]\n",
      " [-0.01733809+0.10100449j -0.16640777+0.06325458j -0.01733809+0.10100449j\n",
      "   0.16640777-0.06325458j]\n",
      " [-0.16640777+0.06325458j -0.01733809+0.10100449j  0.16640777-0.06325458j\n",
      "  -0.01733809+0.10100449j]], Quantum object: dims = [[4], [4]], shape = (4, 4), type = oper, isherm = False\n",
      "Qobj data =\n",
      "[[ 0.07105713-0.16200205j  0.00158147-0.02417447j  0.07105713-0.16200205j\n",
      "  -0.00158147+0.02417447j]\n",
      " [ 0.00158147-0.02417447j  0.07105713-0.16200205j -0.00158147+0.02417447j\n",
      "   0.07105713-0.16200205j]\n",
      " [ 0.00596741-0.08361472j  0.05408239-0.16170459j  0.00596741-0.08361472j\n",
      "  -0.05408239+0.16170459j]\n",
      " [ 0.05408239-0.16170459j  0.00596741-0.08361472j -0.05408239+0.16170459j\n",
      "   0.00596741-0.08361472j]], Quantum object: dims = [[4], [4]], shape = (4, 4), type = oper, isherm = False\n",
      "Qobj data =\n",
      "[[-0.21138241+0.05424079j -0.05756161+0.03833168j -0.21138241+0.05424079j\n",
      "   0.05756161-0.03833168j]\n",
      " [-0.05756161+0.03833168j -0.21138241+0.05424079j  0.05756161-0.03833168j\n",
      "  -0.21138241+0.05424079j]\n",
      " [ 0.16640777-0.06325458j  0.01733809-0.10100449j  0.16640777-0.06325458j\n",
      "  -0.01733809+0.10100449j]\n",
      " [ 0.01733809-0.10100449j  0.16640777-0.06325458j -0.01733809+0.10100449j\n",
      "   0.16640777-0.06325458j]], Quantum object: dims = [[4], [4]], shape = (4, 4), type = oper, isherm = False\n",
      "Qobj data =\n",
      "[[ 0.07105713-0.16200205j  0.00158147-0.02417447j  0.07105713-0.16200205j\n",
      "  -0.00158147+0.02417447j]\n",
      " [ 0.00158147-0.02417447j  0.07105713-0.16200205j -0.00158147+0.02417447j\n",
      "   0.07105713-0.16200205j]\n",
      " [ 0.00596741-0.08361472j  0.05408239-0.16170459j  0.00596741-0.08361472j\n",
      "  -0.05408239+0.16170459j]\n",
      " [ 0.05408239-0.16170459j  0.00596741-0.08361472j -0.05408239+0.16170459j\n",
      "   0.00596741-0.08361472j]], Quantum object: dims = [[4], [4]], shape = (4, 4), type = oper, isherm = False\n",
      "Qobj data =\n",
      "[[-0.21138241+0.05424079j -0.05756161+0.03833168j -0.21138241+0.05424079j\n",
      "   0.05756161-0.03833168j]\n",
      " [-0.05756161+0.03833168j -0.21138241+0.05424079j  0.05756161-0.03833168j\n",
      "  -0.21138241+0.05424079j]\n",
      " [ 0.16640777-0.06325458j  0.01733809-0.10100449j  0.16640777-0.06325458j\n",
      "  -0.01733809+0.10100449j]\n",
      " [ 0.01733809-0.10100449j  0.16640777-0.06325458j -0.01733809+0.10100449j\n",
      "   0.16640777-0.06325458j]]]\n"
     ]
    }
   ],
   "source": [
    "n = 2\n",
    "p = np.array([-0.96007332,  0.19811892,  0.02909524, -0.7903949 , -0.87109773,\n",
    "        0.50548779,  0.93497829, -0.07709957,  0.8608604 , -0.0903555 ,\n",
    "        0.57477598,  0.64402944,  0.26530859, -0.18519221, -0.45444989,\n",
    "       -0.54795223])\n",
    "tempU = buildU(n, p)\n",
    "rous = generateRous(n, tempU, [0, 2])\n",
    "\n",
    "\n",
    "print(rous)\n",
    "# print(rous.conj().T @ rous)\n",
    "\n",
    "# print(rous[0].shape)\n",
    "# print(rous[4])\n",
    "\n",
    "# print(np.trace(rous[4]))\n",
    "# rou = rous[4]"
   ]
  },
  {
   "cell_type": "code",
   "execution_count": 32,
   "metadata": {},
   "outputs": [],
   "source": [
    "# print( rou.conj().T @ rou )"
   ]
  },
  {
   "cell_type": "markdown",
   "metadata": {},
   "source": [
    "## distance calculate"
   ]
  },
  {
   "cell_type": "code",
   "execution_count": 99,
   "metadata": {},
   "outputs": [],
   "source": [
    "from qutip.metrics import tracedist, fidelity\n",
    "from scipy.linalg import sqrtm\n",
    "\n",
    "def sub_L(rou, sigma, loss_function):\n",
    "    loss = 0\n",
    "    \n",
    "    if loss_function == \"F\":\n",
    "        # fidelity\n",
    "#         rou_root = sqrtm(rou)\n",
    "#         f = np.dot(rou_root, sigma)\n",
    "#         f = np.dot(f, rou_root)\n",
    "# #         f = sqrtm(f)\n",
    "#         eig_vals = np.linalg.eigvals(f)\n",
    "    \n",
    "#         return float(np.real(np.sqrt(eig_vals[eig_vals > 0]).sum()))\n",
    "        \n",
    "#         return np.real(np.trace(f))\n",
    "#         return np.linalg.norm( np.trace(f) )\n",
    "        return fidelity(rou, sigma)\n",
    "\n",
    "    elif loss_function == \"D\":\n",
    "        # trace\n",
    "#         A = rou - sigma\n",
    "#         A_ = sqrtm( np.dot( A.conj().T, A ) )\n",
    "        \n",
    "#         return 0.5 * np.linalg.norm( np.trace(A_) )\n",
    "        return tracedist(rou, sigma)\n",
    "\n",
    "#     print(loss)\n",
    "    return loss\n",
    "\n",
    "# from qiskit.quantum_info import state_fidelity\n",
    "# from scipy.linalg import sqrtm\n",
    "\n",
    "# def sub_L(rou, sigma, loss_function):\n",
    "#     loss = 0\n",
    "    \n",
    "#     if loss_function == \"F\":\n",
    "#         # fidelity\n",
    "#         rou_root = sqrtm(rou)\n",
    "#         f = np.dot(rou_root, sigma)\n",
    "#         f = np.dot(f, rou_root)\n",
    "#         f = sqrtm(f)\n",
    "        \n",
    "#         return np.linalg.norm( np.trace(f) )\n",
    "\n",
    "#     elif loss_function == \"D\":\n",
    "#         # trace\n",
    "#         A = rou - sigma\n",
    "#         A_ = sqrtm( np.dot( A.conj().T, A ) )\n",
    "        \n",
    "#         return 0.5 * np.linalg.norm( np.trace(A_) )\n",
    "\n",
    "# #     print(loss)\n",
    "#     return loss"
   ]
  },
  {
   "cell_type": "code",
   "execution_count": 101,
   "metadata": {},
   "outputs": [
    {
     "name": "stdout",
     "output_type": "stream",
     "text": [
      "0.546585382821558\n",
      "0.4070177892092059\n"
     ]
    }
   ],
   "source": [
    "p = np.array([-0.96007332,  0.19811892,  0.02909524, -0.7903949 , -0.87109773,\n",
    "        0.50548779,  0.93497829, -0.07709957,  0.8608604 , -0.0903555 ,\n",
    "        0.57477598,  0.64402944,  0.26530859, -0.18519221, -0.45444989,\n",
    "       -0.54795223])\n",
    "\n",
    "# p = np.array([ 0.43365543, -0.18302868,  0.65015547,  0.08609206, -0.33774013,\n",
    "#         0.78422776,  0.43426452, -0.68614531,  1.06998523,  0.59087558,\n",
    "#         0.5570418 ,  0.96475278,  0.13630521,  0.50148675, -0.12936494,\n",
    "#        -0.53303599])\n",
    "\n",
    "n = 2\n",
    "tempU = buildU(n, p)\n",
    "rous = generateRous(n, tempU, [0, 2])\n",
    "rou = rous[4]\n",
    "sigma = rous[2]\n",
    "\n",
    "print( sub_L(rou, sigma, 'D') )\n",
    "print( sub_L(rou, sigma, 'F') )\n",
    "# print( sub_L(rou.data, sigma.data, 'D') )\n",
    "# print( sub_L(rou.data, sigma.data, 'F') )"
   ]
  },
  {
   "cell_type": "code",
   "execution_count": 31,
   "metadata": {},
   "outputs": [],
   "source": [
    "def L(n, p, loss_function):\n",
    "    U = buildU(n, p)\n",
    "    rous = []\n",
    "    for i in range(n):\n",
    "        rous.append(generateRous(n, U, [i, i + n]))\n",
    "    \n",
    "    loss = 0.0\n",
    "    size = 2 ** (2 * n)\n",
    "    book = set()\n",
    "    count = 0\n",
    "    for i in range(size):\n",
    "        for j in range(size):\n",
    "            if i != j and f\"{i},{j}\" not in book:\n",
    "                for k in range(n):\n",
    "                    loss += sub_L(rous[k][i], rous[k][j], loss_function)\n",
    "                    count += 1\n",
    "\n",
    "                book.add(f\"{i},{j}\")\n",
    "                book.add(f\"{j},{i}\")\n",
    "    \n",
    "    loss /= count\n",
    "    if loss_function == \"F\":\n",
    "        loss *= -1\n",
    "    \n",
    "    return loss"
   ]
  },
  {
   "cell_type": "code",
   "execution_count": 32,
   "metadata": {},
   "outputs": [
    {
     "name": "stdout",
     "output_type": "stream",
     "text": [
      "0.5747015541304503\n",
      "-0.3723625338597825\n"
     ]
    }
   ],
   "source": [
    "p = np.array([-0.96007332,  0.19811892,  0.02909524, -0.7903949 , -0.87109773,\n",
    "        0.50548779,  0.93497829, -0.07709957,  0.8608604 , -0.0903555 ,\n",
    "        0.57477598,  0.64402944,  0.26530859, -0.18519221, -0.45444989,\n",
    "       -0.54795223])\n",
    "p = np.random.uniform(-1, 1, 16)\n",
    "\n",
    "print( L(2, p, 'D') )\n",
    "print( L(2, p, 'F') )"
   ]
  },
  {
   "cell_type": "markdown",
   "metadata": {},
   "source": [
    "## GradientCalculate"
   ]
  },
  {
   "cell_type": "code",
   "execution_count": 33,
   "metadata": {},
   "outputs": [],
   "source": [
    "def GradientCalculator(n, p, epsilon, loss_function):\n",
    "    derivates = np.zeros(len(p))\n",
    "    \n",
    "    l_p = L(n, p, loss_function)\n",
    "    for i, param in enumerate(p):\n",
    "        p[i] += epsilon\n",
    "        l_pe = L(n, p, loss_function)\n",
    "        p[i] -= epsilon\n",
    "        \n",
    "        derivates[i] = (l_pe - l_p)\n",
    "        \n",
    "    return derivates / epsilon, l_p"
   ]
  },
  {
   "cell_type": "code",
   "execution_count": 34,
   "metadata": {},
   "outputs": [],
   "source": [
    "params = []\n",
    "losses = []\n",
    "\n",
    "def SDCLearner(n, *, loss_function=\"D\", epoch=1000, epsilon=0.01):\n",
    "    \"\"\"\n",
    "        param: \n",
    "    \"\"\"\n",
    "    # 1. initialize the parameters with uniformly random nunbers\n",
    "    size = 2 ** (2 * n)\n",
    "    p = np.random.uniform(-1, 1, size)\n",
    "    \n",
    "    # Adam parameters:\n",
    "    momentum, s = 0, 0\n",
    "    alpha = 0.001\n",
    "    belta1 = 0.9; belta2 = 0.999\n",
    "    e = 1e-8\n",
    "    \n",
    "    global params\n",
    "    global losses\n",
    "    params = []\n",
    "    losses = []\n",
    "\n",
    "    t = 0\n",
    "    while t < epoch:\n",
    "        # repeat\n",
    "        t += 1\n",
    "        grad, loss = GradientCalculator(n, p, epsilon, loss_function)\n",
    "        losses.append(loss)\n",
    "        \n",
    "        # Adam Optimizer\n",
    "        momentum = belta1 * momentum + (1 - belta1) * grad\n",
    "        s = belta2 * s + (1 - belta2) * (grad ** 2)\n",
    "        m_ = momentum / (1 - belta1 ** t)\n",
    "        s_ = s / (1 - belta2 ** t)\n",
    "\n",
    "        # update parameters\n",
    "        p = p - alpha * (m_ / ( s_ ** 0.5 + e ))\n",
    "#         p = p - alpha * grad\n",
    "        \n",
    "        # log\n",
    "        print('epoch: [{}/{}] - loss: {} end.'.format(t, epoch, loss))\n",
    "    \n",
    "    params = p"
   ]
  },
  {
   "cell_type": "code",
   "execution_count": 35,
   "metadata": {},
   "outputs": [],
   "source": [
    "n = 2 # SDC-n\n",
    "\n",
    "combs = []\n",
    "generateCombs(n, combs, '')"
   ]
  },
  {
   "cell_type": "code",
   "execution_count": 36,
   "metadata": {
    "scrolled": true
   },
   "outputs": [
    {
     "name": "stdout",
     "output_type": "stream",
     "text": [
      "epoch: [1/2] - loss: -0.40782518908335985 end.\n",
      "epoch: [2/2] - loss: -0.41129025030654354 end.\n"
     ]
    }
   ],
   "source": [
    "SDCLearner(n, loss_function=\"F\", epoch=2)"
   ]
  },
  {
   "cell_type": "code",
   "execution_count": null,
   "metadata": {},
   "outputs": [],
   "source": []
  }
 ],
 "metadata": {
  "kernelspec": {
   "display_name": "Python 3",
   "language": "python",
   "name": "python3"
  },
  "language_info": {
   "codemirror_mode": {
    "name": "ipython",
    "version": 3
   },
   "file_extension": ".py",
   "mimetype": "text/x-python",
   "name": "python",
   "nbconvert_exporter": "python",
   "pygments_lexer": "ipython3",
   "version": "3.6.8"
  }
 },
 "nbformat": 4,
 "nbformat_minor": 4
}
