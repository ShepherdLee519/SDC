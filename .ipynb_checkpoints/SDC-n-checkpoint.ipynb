{
 "cells": [
  {
   "cell_type": "code",
   "execution_count": 2,
   "metadata": {},
   "outputs": [],
   "source": [
    "import cirq\n",
    "import numpy as np\n",
    "\n",
    "from cirq.contrib.svg import SVGCircuit"
   ]
  },
  {
   "cell_type": "code",
   "execution_count": 5,
   "metadata": {},
   "outputs": [],
   "source": [
    "def initCircuit(n):\n",
    "    circuit = cirq.Circuit()\n",
    "    senders = [cirq.LineQubit(i) for i in range(n)]\n",
    "    receivers = [cirq.LineQubit(i) for i in range(n, 2 * n)]\n",
    "\n",
    "    for sender, receiver in zip(senders, receivers):\n",
    "        circuit.append([\n",
    "            cirq.H(sender),\n",
    "            cirq.CNOT(control=sender, target=receiver)\n",
    "        ])\n",
    "    \n",
    "    return senders, receivers, circuit"
   ]
  },
  {
   "cell_type": "code",
   "execution_count": 6,
   "metadata": {},
   "outputs": [
    {
     "name": "stdout",
     "output_type": "stream",
     "text": [
      "          ┌──┐\n",
      "0: ───H────@─────\n",
      "           │\n",
      "1: ───H────┼@────\n",
      "           ││\n",
      "2: ────────X┼────\n",
      "            │\n",
      "3: ─────────X────\n",
      "          └──┘\n"
     ]
    }
   ],
   "source": [
    "senders_test, receivers_test, circuit_test = initCircuit(2)\n",
    "print(circuit_test)"
   ]
  },
  {
   "cell_type": "code",
   "execution_count": 7,
   "metadata": {},
   "outputs": [
    {
     "name": "stdout",
     "output_type": "stream",
     "text": [
      "[[ 0.5+0.j  0. +0.j  0. +0.j  0. +0.j  0.5+0.j  0. +0.j  0. +0.j  0. +0.j\n",
      "   0.5+0.j  0. +0.j  0. +0.j  0. +0.j  0.5+0.j  0. +0.j  0. +0.j  0. +0.j]\n",
      " [ 0. +0.j  0.5+0.j  0. +0.j  0. +0.j  0. +0.j  0.5+0.j  0. +0.j  0. +0.j\n",
      "   0. +0.j  0.5+0.j  0. +0.j  0. +0.j  0. +0.j  0.5+0.j  0. +0.j  0. +0.j]\n",
      " [ 0. +0.j  0. +0.j  0.5+0.j  0. +0.j  0. +0.j  0. +0.j  0.5+0.j  0. +0.j\n",
      "   0. +0.j  0. +0.j  0.5+0.j  0. +0.j  0. +0.j  0. +0.j  0.5+0.j  0. +0.j]\n",
      " [ 0. +0.j  0. +0.j  0. +0.j  0.5+0.j  0. +0.j  0. +0.j  0. +0.j  0.5+0.j\n",
      "   0. +0.j  0. +0.j  0. +0.j  0.5+0.j  0. +0.j  0. +0.j  0. +0.j  0.5+0.j]\n",
      " [-0. +0.j  0.5+0.j -0. +0.j -0. +0.j -0. +0.j -0.5+0.j -0. +0.j -0. +0.j\n",
      "  -0. +0.j  0.5+0.j -0. +0.j -0. +0.j -0. +0.j -0.5+0.j -0. +0.j -0. +0.j]\n",
      " [ 0.5+0.j -0. +0.j -0. +0.j -0. +0.j -0.5+0.j -0. +0.j -0. +0.j -0. +0.j\n",
      "   0.5+0.j -0. +0.j -0. +0.j -0. +0.j -0.5+0.j -0. +0.j -0. +0.j -0. +0.j]\n",
      " [-0. +0.j -0. +0.j -0. +0.j  0.5+0.j -0. +0.j -0. +0.j -0. +0.j -0.5+0.j\n",
      "  -0. +0.j -0. +0.j -0. +0.j  0.5+0.j -0. +0.j -0. +0.j -0. +0.j -0.5+0.j]\n",
      " [-0. +0.j -0. +0.j  0.5+0.j -0. +0.j -0. +0.j -0. +0.j -0.5+0.j -0. +0.j\n",
      "  -0. +0.j -0. +0.j  0.5+0.j -0. +0.j -0. +0.j -0. +0.j -0.5+0.j -0. +0.j]\n",
      " [ 0. +0.j  0. +0.j  0.5+0.j  0. +0.j  0. +0.j  0. +0.j  0.5+0.j  0. +0.j\n",
      "   0. +0.j  0. +0.j -0.5+0.j  0. +0.j  0. +0.j  0. +0.j -0.5+0.j  0. +0.j]\n",
      " [ 0. +0.j  0. +0.j  0. +0.j  0.5+0.j  0. +0.j  0. +0.j  0. +0.j  0.5+0.j\n",
      "   0. +0.j  0. +0.j  0. +0.j -0.5+0.j  0. +0.j  0. +0.j  0. +0.j -0.5+0.j]\n",
      " [ 0.5+0.j  0. +0.j  0. +0.j  0. +0.j  0.5+0.j  0. +0.j  0. +0.j  0. +0.j\n",
      "  -0.5+0.j  0. +0.j  0. +0.j  0. +0.j -0.5+0.j  0. +0.j  0. +0.j  0. +0.j]\n",
      " [ 0. +0.j  0.5+0.j  0. +0.j  0. +0.j  0. +0.j  0.5+0.j  0. +0.j  0. +0.j\n",
      "   0. +0.j -0.5+0.j  0. +0.j  0. +0.j  0. +0.j -0.5+0.j  0. +0.j  0. +0.j]\n",
      " [-0. +0.j -0. +0.j -0. +0.j  0.5+0.j -0. +0.j -0. +0.j -0. +0.j -0.5+0.j\n",
      "  -0. +0.j -0. +0.j -0. +0.j -0.5+0.j -0. +0.j -0. +0.j -0. +0.j  0.5+0.j]\n",
      " [-0. +0.j -0. +0.j  0.5+0.j -0. +0.j -0. +0.j -0. +0.j -0.5+0.j -0. +0.j\n",
      "  -0. +0.j -0. +0.j -0.5+0.j -0. +0.j -0. +0.j -0. +0.j  0.5+0.j -0. +0.j]\n",
      " [-0. +0.j  0.5+0.j -0. +0.j -0. +0.j -0. +0.j -0.5+0.j -0. +0.j -0. +0.j\n",
      "  -0. +0.j -0.5+0.j -0. +0.j -0. +0.j -0. +0.j  0.5+0.j -0. +0.j -0. +0.j]\n",
      " [ 0.5+0.j -0. +0.j -0. +0.j -0. +0.j -0.5+0.j -0. +0.j -0. +0.j -0. +0.j\n",
      "  -0.5+0.j -0. +0.j -0. +0.j -0. +0.j  0.5+0.j -0. +0.j -0. +0.j -0. +0.j]]\n"
     ]
    }
   ],
   "source": [
    "print(cirq.unitary(circuit_test))"
   ]
  },
  {
   "cell_type": "code",
   "execution_count": 8,
   "metadata": {},
   "outputs": [],
   "source": [
    "circuits_bits = dict()\n",
    "\n",
    "def operate(circuit, target, bits):\n",
    "    \"\"\"\n",
    "        => Z^(b_1) * X^(b_2)\n",
    "    \"\"\"\n",
    "    if bits[0] == '1':\n",
    "        circuit.append(cirq.Z(target))\n",
    "    if bits[1] == '1':\n",
    "        circuit.append(cirq.X(target))\n",
    "\n",
    "    return circuit\n",
    "\n",
    "def getCircuit(classical_bits):\n",
    "    bits_str = ''.join(classical_bits)\n",
    "    if bits_str in circuits_bits:\n",
    "        return circuits_bits[bits_str].copy()\n",
    "    \n",
    "    \"\"\"\n",
    "        getCircuit(circuit, [\"01\", \"10\", \"00\"])\n",
    "            => X(A1), Z(A2), I(A3)\n",
    "    \"\"\"\n",
    "    # global circuit\n",
    "    circuit_copy = circuit.copy()\n",
    "    \n",
    "    for i, sender in enumerate(senders):\n",
    "        operate(circuit_copy, sender, classical_bits[i])\n",
    "    \n",
    "    circuits_bits[bits_str] = circuit_copy\n",
    "\n",
    "    return circuit_copy"
   ]
  },
  {
   "cell_type": "code",
   "execution_count": 9,
   "metadata": {},
   "outputs": [],
   "source": [
    "def generateCombs(n, combs, comb):\n",
    "    \"\"\"\n",
    "        n = 3 => 000 ... 333\n",
    "    \"\"\"\n",
    "    if len(comb) == n:\n",
    "        combs.append(comb)\n",
    "        \n",
    "        return\n",
    "\n",
    "    for i in range(4):\n",
    "        generateCombs(n, combs, comb + str(i))"
   ]
  },
  {
   "cell_type": "code",
   "execution_count": 10,
   "metadata": {},
   "outputs": [
    {
     "name": "stderr",
     "output_type": "stream",
     "text": [
      "c:\\users\\lenovo\\appdata\\local\\programs\\python\\python36\\lib\\site-packages\\qiskit\\__init__.py:67: DeprecationWarning: Using Qiskit with Python 3.6 is deprecated as of the 0.17.0 release. Support for running Qiskit with Python 3.6 will be removed in a future release.\n",
      "  \"future release.\", DeprecationWarning)\n"
     ]
    }
   ],
   "source": [
    "from qiskit.extensions import HamiltonianGate\n",
    "\n",
    "matrixes = [\n",
    "    cirq.unitary(cirq.I),cirq.unitary(cirq.X),\n",
    "    cirq.unitary(cirq.Y),cirq.unitary(cirq.Z)\n",
    "]\n",
    "\n",
    "def buildU(n, p):\n",
    "    U = np.zeros((2 ** n, 2 ** n)).astype('complex64')\n",
    "    pos = 0\n",
    "    # global combs\n",
    "    for comb in combs:\n",
    "        temp = np.kron(matrixes[int(comb[0])], matrixes[int(comb[1])])\n",
    "        for i in range(2, n):\n",
    "            temp = np.kron(temp, matrixes[int(comb[i])])\n",
    "        \n",
    "        U += p[pos] * temp\n",
    "        pos += 1\n",
    "    \n",
    "    # simulation time: t = 0.1\n",
    "    # return type => DensityMatrix (qiskit)\n",
    "    op = HamiltonianGate(U, 0.1)\n",
    "    \n",
    "    return op.to_matrix()"
   ]
  },
  {
   "cell_type": "code",
   "execution_count": 8,
   "metadata": {},
   "outputs": [
    {
     "name": "stdout",
     "output_type": "stream",
     "text": [
      "[[ 0.97248302-0.00911187j  0.04828785+0.1832022j  -0.0428123 +0.04197261j\n",
      "   0.10681872+0.05739466j]\n",
      " [-0.0354589 +0.17975336j  0.97209272-0.09602525j  0.0317896 -0.02412793j\n",
      "   0.03309613+0.09776608j]\n",
      " [ 0.03954038+0.04508529j -0.03447661-0.02181001j  0.96536585+0.24987827j\n",
      "  -0.01801027+0.0066945j ]\n",
      " [-0.11798072+0.05576345j -0.03480839+0.08392973j  0.01985469+0.00693444j\n",
      "   0.98551102-0.0551443j ]]\n"
     ]
    }
   ],
   "source": [
    "p = np.array([-0.96007332,  0.19811892,  0.02909524, -0.7903949 , -0.87109773,\n",
    "        0.50548779,  0.93497829, -0.07709957,  0.8608604 , -0.0903555 ,\n",
    "        0.57477598,  0.64402944,  0.26530859, -0.18519221, -0.45444989,\n",
    "       -0.54795223])\n",
    "\n",
    "print(buildU(2, p))"
   ]
  },
  {
   "cell_type": "code",
   "execution_count": 19,
   "metadata": {},
   "outputs": [],
   "source": [
    "from qiskit.quantum_info import partial_trace\n",
    "from qutip import Qobj\n",
    "\n",
    "def norm(data):\n",
    "    return Qobj(data.data).unit()\n",
    "\n",
    "def generateRous(n, U, indexes):\n",
    "    \"\"\"\n",
    "        generates subsystems' states\n",
    "        indexes => indexes of qubits need to keep in subsystem\n",
    "    \"\"\"\n",
    "    bits = [\"00\", \"01\", \"10\", \"11\"]\n",
    "    rous = []\n",
    "    \n",
    "    # global combs\n",
    "    for comb in combs:\n",
    "        circuit = getCircuit( [bits[int(i)] for i in comb] )\n",
    "        # cirq.ops.MatrixGate(U):\n",
    "        # matrix representation => Unitary Gate in cirq\n",
    "        circuit.append(cirq.ops.MatrixGate(U)(*senders))\n",
    "        return cirq.unitary(circuit)\n",
    "        \n",
    "        rous.append( norm(partial_trace(cirq.unitary(circuit), indexes)) )\n",
    "    \n",
    "    return rous"
   ]
  },
  {
   "cell_type": "code",
   "execution_count": 20,
   "metadata": {},
   "outputs": [
    {
     "name": "stdout",
     "output_type": "stream",
     "text": [
      "[ 0.42187966+0.18400592j  0.0623175 +0.00924853j -0.16649185+0.03371296j\n",
      " -0.07243487-0.00935176j  0.42187966+0.18400592j -0.0623175 -0.00924853j\n",
      " -0.16649185+0.03371296j  0.07243487+0.00935176j  0.42187966+0.18400592j\n",
      "  0.0623175 +0.00924853j  0.16649185-0.03371296j  0.07243487+0.00935176j\n",
      "  0.42187966+0.18400592j -0.0623175 -0.00924853j  0.16649185-0.03371296j\n",
      " -0.07243487-0.00935176j]\n",
      "[-0.01791171-0.00177679j  0.46583207-0.06529436j  0.11353917-0.09316186j\n",
      " -0.03065561+0.07683165j -0.01791171-0.00177679j -0.46583207+0.06529436j\n",
      "  0.11353917-0.09316186j  0.03065561-0.07683165j -0.01791171-0.00177679j\n",
      "  0.46583207-0.06529436j -0.11353917+0.09316186j  0.03065561-0.07683165j\n",
      " -0.01791171-0.00177679j -0.46583207+0.06529436j -0.11353917+0.09316186j\n",
      " -0.03065561+0.07683165j]\n"
     ]
    }
   ],
   "source": [
    "n = 2\n",
    "p = np.array([-0.96007332,  0.19811892,  0.02909524, -0.7903949 , -0.87109773,\n",
    "        0.50548779,  0.93497829, -0.07709957,  0.8608604 , -0.0903555 ,\n",
    "        0.57477598,  0.64402944,  0.26530859, -0.18519221, -0.45444989,\n",
    "       -0.54795223])\n",
    "tempU = buildU(n, p)\n",
    "# print(tempU)\n",
    "rous = generateRous(n, tempU, [0, 2])\n",
    "\n",
    "# print(rous)\n",
    "\n",
    "print(rous[0])\n",
    "print(rous[4])"
   ]
  },
  {
   "cell_type": "code",
   "execution_count": 21,
   "metadata": {},
   "outputs": [],
   "source": [
    "from qutip.metrics import tracedist, fidelity\n",
    "\n",
    "def sub_L(rou, sigma, loss_function):\n",
    "    \n",
    "    if loss_function == \"F\":\n",
    "        # fidelity\n",
    "        return fidelity(rou, sigma)\n",
    "    \n",
    "    elif loss_function == \"D\":\n",
    "        # trace\n",
    "        return tracedist(rou, sigma)\n",
    "    else:\n",
    "        return 0"
   ]
  },
  {
   "cell_type": "code",
   "execution_count": 1,
   "metadata": {},
   "outputs": [
    {
     "ename": "NameError",
     "evalue": "name 'np' is not defined",
     "output_type": "error",
     "traceback": [
      "\u001b[1;31m---------------------------------------------------------------------------\u001b[0m",
      "\u001b[1;31mNameError\u001b[0m                                 Traceback (most recent call last)",
      "\u001b[1;32m<ipython-input-1-e5d6dc7e71a4>\u001b[0m in \u001b[0;36m<module>\u001b[1;34m\u001b[0m\n\u001b[1;32m----> 1\u001b[1;33m p = np.array([-0.96007332,  0.19811892,  0.02909524, -0.7903949 , -0.87109773,\n\u001b[0m\u001b[0;32m      2\u001b[0m         \u001b[1;36m0.50548779\u001b[0m\u001b[1;33m,\u001b[0m  \u001b[1;36m0.93497829\u001b[0m\u001b[1;33m,\u001b[0m \u001b[1;33m-\u001b[0m\u001b[1;36m0.07709957\u001b[0m\u001b[1;33m,\u001b[0m  \u001b[1;36m0.8608604\u001b[0m \u001b[1;33m,\u001b[0m \u001b[1;33m-\u001b[0m\u001b[1;36m0.0903555\u001b[0m \u001b[1;33m,\u001b[0m\u001b[1;33m\u001b[0m\u001b[1;33m\u001b[0m\u001b[0m\n\u001b[0;32m      3\u001b[0m         \u001b[1;36m0.57477598\u001b[0m\u001b[1;33m,\u001b[0m  \u001b[1;36m0.64402944\u001b[0m\u001b[1;33m,\u001b[0m  \u001b[1;36m0.26530859\u001b[0m\u001b[1;33m,\u001b[0m \u001b[1;33m-\u001b[0m\u001b[1;36m0.18519221\u001b[0m\u001b[1;33m,\u001b[0m \u001b[1;33m-\u001b[0m\u001b[1;36m0.45444989\u001b[0m\u001b[1;33m,\u001b[0m\u001b[1;33m\u001b[0m\u001b[1;33m\u001b[0m\u001b[0m\n\u001b[0;32m      4\u001b[0m        -0.54795223])\n\u001b[0;32m      5\u001b[0m \u001b[1;33m\u001b[0m\u001b[0m\n",
      "\u001b[1;31mNameError\u001b[0m: name 'np' is not defined"
     ]
    }
   ],
   "source": [
    "p = np.array([-0.96007332,  0.19811892,  0.02909524, -0.7903949 , -0.87109773,\n",
    "        0.50548779,  0.93497829, -0.07709957,  0.8608604 , -0.0903555 ,\n",
    "        0.57477598,  0.64402944,  0.26530859, -0.18519221, -0.45444989,\n",
    "       -0.54795223])\n",
    "\n",
    "n = 2\n",
    "tempU = buildU(n, p)\n",
    "print(tempU)\n",
    "# rous = generateRous(n, tempU, [0, 2])\n",
    "# rou = rous[4]\n",
    "# sigma = rous[7]\n",
    "\n",
    "# print( sub_L(rou, sigma, 'D') )\n",
    "# print( sub_L(rou, sigma, 'F') )"
   ]
  },
  {
   "cell_type": "code",
   "execution_count": 8,
   "metadata": {},
   "outputs": [],
   "source": [
    "def L(n, p, loss_function):\n",
    "    U = buildU(n, p)\n",
    "    rous = []\n",
    "    for i in range(n):\n",
    "        rous.append(generateRous(n, U, [i, i + n]))\n",
    "    \n",
    "    loss = 0.0\n",
    "    size = 2 ** (2 * n)\n",
    "    book = set()\n",
    "    count = 0\n",
    "    for i in range(size):\n",
    "        for j in range(size):\n",
    "            if i != j and f\"{i},{j}\" not in book:\n",
    "                for k in range(n):\n",
    "                    loss += sub_L(rous[k][i], rous[k][j], loss_function)\n",
    "                    count += 1\n",
    "\n",
    "                book.add(f\"{i},{j}\")\n",
    "                book.add(f\"{j},{i}\")\n",
    "    \n",
    "    loss /= count\n",
    "    if loss_function == \"F\":\n",
    "        loss *= -1\n",
    "    \n",
    "    return loss"
   ]
  },
  {
   "cell_type": "code",
   "execution_count": 9,
   "metadata": {},
   "outputs": [],
   "source": [
    "def GradientCalculator(n, p, epsilon, loss_function):\n",
    "    derivates = np.zeros(len(p))\n",
    "    \n",
    "    l_p = L(n, p, loss_function)\n",
    "    for i, param in enumerate(p):\n",
    "        p[i] += epsilon\n",
    "        l_pe = L(n, p, loss_function)\n",
    "        p[i] -= epsilon\n",
    "        \n",
    "        derivates[i] = (l_pe - l_p)\n",
    "        \n",
    "    return derivates / epsilon, l_p"
   ]
  },
  {
   "cell_type": "code",
   "execution_count": 10,
   "metadata": {},
   "outputs": [],
   "source": [
    "params = []\n",
    "\n",
    "def SDCLearner(n, *, loss_function=\"D\", epoch=1000, epsilon=0.01):\n",
    "    \"\"\"\n",
    "        param: \n",
    "    \"\"\"\n",
    "    # 1. initialize the parameters with uniformly random nunbers\n",
    "    size = 2 ** (2 * n)\n",
    "    p = np.random.uniform(-1, 1, size)\n",
    "    \n",
    "    # Adam parameters:\n",
    "    momentum, s = 0, 0\n",
    "    alpha = 0.001\n",
    "    belta1 = 0.9; belta2 = 0.999\n",
    "    e = 1e-8\n",
    "    \n",
    "    global params\n",
    "    \n",
    "    t = 0\n",
    "    while t < epoch:\n",
    "        # repeat\n",
    "        t += 1\n",
    "        grad, loss = GradientCalculator(n, p, epsilon, loss_function)\n",
    "#         print(grad)\n",
    "        \n",
    "        # Adam Optimizer\n",
    "        momentum = belta1 * momentum + (1 - belta1) * grad\n",
    "        s = belta2 * s + (1 - belta2) * (grad ** 2)\n",
    "        m_ = momentum / (1 - belta1 ** t)\n",
    "        s_ = s / (1 - belta2 ** t)\n",
    "\n",
    "        # update parameters\n",
    "        p = p - alpha * (m_ / ( s_ ** 0.5 + e ))\n",
    "#         p = p - alpha * grad\n",
    "        \n",
    "        # log\n",
    "        print('epoch: [{}/{}] - loss: {} end.'.format(t, epoch, loss))\n",
    "    \n",
    "    params = p"
   ]
  },
  {
   "cell_type": "code",
   "execution_count": 7,
   "metadata": {
    "scrolled": true
   },
   "outputs": [
    {
     "data": {
      "image/svg+xml": [
       "<svg xmlns=\"http://www.w3.org/2000/svg\" width=\"260.0\" height=\"240.0\"><line x1=\"30.0\" x2=\"230.0\" y1=\"45.0\" y2=\"45.0\" stroke=\"#1967d2\" stroke-width=\"1\" /><line x1=\"30.0\" x2=\"230.0\" y1=\"95.0\" y2=\"95.0\" stroke=\"#1967d2\" stroke-width=\"1\" /><line x1=\"30.0\" x2=\"230.0\" y1=\"145.0\" y2=\"145.0\" stroke=\"#1967d2\" stroke-width=\"1\" /><line x1=\"30.0\" x2=\"230.0\" y1=\"195.0\" y2=\"195.0\" stroke=\"#1967d2\" stroke-width=\"1\" /><line x1=\"120.0\" x2=\"210.0\" y1=\"5.0\" y2=\"5.0\" stroke=\"black\" stroke-width=\"1\" /><line x1=\"120.0\" x2=\"210.0\" y1=\"235.0\" y2=\"235.0\" stroke=\"black\" stroke-width=\"1\" /><line x1=\"140.0\" x2=\"140.0\" y1=\"45.0\" y2=\"145.0\" stroke=\"black\" stroke-width=\"3\" /><line x1=\"180.0\" x2=\"180.0\" y1=\"95.0\" y2=\"195.0\" stroke=\"black\" stroke-width=\"3\" /><line x1=\"120.0\" x2=\"120.0\" y1=\"5.0\" y2=\"15.0\" stroke=\"black\" stroke-width=\"3\" /><line x1=\"210.0\" x2=\"210.0\" y1=\"5.0\" y2=\"15.0\" stroke=\"black\" stroke-width=\"3\" /><line x1=\"120.0\" x2=\"120.0\" y1=\"225.0\" y2=\"235.0\" stroke=\"black\" stroke-width=\"3\" /><line x1=\"210.0\" x2=\"210.0\" y1=\"225.0\" y2=\"235.0\" stroke=\"black\" stroke-width=\"3\" /><rect x=\"10.0\" y=\"25.0\" width=\"40\" height=\"40\" stroke=\"black\" fill=\"white\" stroke-width=\"0\" /><text x=\"30.0\" y=\"45.0\" dominant-baseline=\"middle\" text-anchor=\"middle\" font-size=\"14px\" font-family=\"Arial\">0: </text><rect x=\"10.0\" y=\"75.0\" width=\"40\" height=\"40\" stroke=\"black\" fill=\"white\" stroke-width=\"0\" /><text x=\"30.0\" y=\"95.0\" dominant-baseline=\"middle\" text-anchor=\"middle\" font-size=\"14px\" font-family=\"Arial\">1: </text><rect x=\"10.0\" y=\"125.0\" width=\"40\" height=\"40\" stroke=\"black\" fill=\"white\" stroke-width=\"0\" /><text x=\"30.0\" y=\"145.0\" dominant-baseline=\"middle\" text-anchor=\"middle\" font-size=\"14px\" font-family=\"Arial\">2: </text><rect x=\"10.0\" y=\"175.0\" width=\"40\" height=\"40\" stroke=\"black\" fill=\"white\" stroke-width=\"0\" /><text x=\"30.0\" y=\"195.0\" dominant-baseline=\"middle\" text-anchor=\"middle\" font-size=\"14px\" font-family=\"Arial\">3: </text><rect x=\"70.0\" y=\"25.0\" width=\"40\" height=\"40\" stroke=\"black\" fill=\"white\" stroke-width=\"1\" /><text x=\"90.0\" y=\"45.0\" dominant-baseline=\"middle\" text-anchor=\"middle\" font-size=\"18px\" font-family=\"Arial\">H</text><rect x=\"70.0\" y=\"75.0\" width=\"40\" height=\"40\" stroke=\"black\" fill=\"white\" stroke-width=\"1\" /><text x=\"90.0\" y=\"95.0\" dominant-baseline=\"middle\" text-anchor=\"middle\" font-size=\"18px\" font-family=\"Arial\">H</text><circle cx=\"140.0\" cy=\"45.0\" r=\"10.0\" /><rect x=\"120.0\" y=\"125.0\" width=\"40\" height=\"40\" stroke=\"black\" fill=\"white\" stroke-width=\"1\" /><text x=\"140.0\" y=\"145.0\" dominant-baseline=\"middle\" text-anchor=\"middle\" font-size=\"18px\" font-family=\"Arial\">X</text><circle cx=\"180.0\" cy=\"95.0\" r=\"10.0\" /><rect x=\"160.0\" y=\"175.0\" width=\"40\" height=\"40\" stroke=\"black\" fill=\"white\" stroke-width=\"1\" /><text x=\"180.0\" y=\"195.0\" dominant-baseline=\"middle\" text-anchor=\"middle\" font-size=\"18px\" font-family=\"Arial\">X</text></svg>"
      ],
      "text/plain": [
       "<cirq.contrib.svg.svg.SVGCircuit at 0x2031d262e48>"
      ]
     },
     "execution_count": 7,
     "metadata": {},
     "output_type": "execute_result"
    }
   ],
   "source": [
    "n = 2\n",
    "senders, receivers, circuit = initCircuit(n)\n",
    "combs = []\n",
    "generateCombs(n, combs, '')\n",
    "\n",
    "SVGCircuit(circuit)\n",
    "# SDCLearner(n, loss_function=\"D\", epoch=1000)"
   ]
  },
  {
   "cell_type": "code",
   "execution_count": 33,
   "metadata": {},
   "outputs": [],
   "source": [
    "params = np.array([ 0.43365543, -0.18302868,  0.65015547,  0.08609206, -0.33774013,\n",
    "        0.78422776,  0.43426452, -0.68614531,  1.06998523,  0.59087558,\n",
    "        0.5570418 ,  0.96475278,  0.13630521,  0.50148675, -0.12936494,\n",
    "       -0.53303599])"
   ]
  },
  {
   "cell_type": "code",
   "execution_count": 35,
   "metadata": {},
   "outputs": [
    {
     "name": "stdout",
     "output_type": "stream",
     "text": [
      "[-0.73124545  1.47900935 -0.97571328 -0.40443593 -1.1358212  -0.8038139\n",
      " -0.23006552 -0.1859791  -0.93491293 -1.55415346 -0.28676322 -0.19753037\n",
      "  0.7517263   0.09442524 -0.39538068 -0.96825021]\n"
     ]
    },
    {
     "data": {
      "image/svg+xml": [
       "<svg xmlns=\"http://www.w3.org/2000/svg\" width=\"600.0\" height=\"240.0\"><line x1=\"30.0\" x2=\"570.0\" y1=\"45.0\" y2=\"45.0\" stroke=\"#1967d2\" stroke-width=\"1\" /><line x1=\"30.0\" x2=\"570.0\" y1=\"95.0\" y2=\"95.0\" stroke=\"#1967d2\" stroke-width=\"1\" /><line x1=\"30.0\" x2=\"570.0\" y1=\"145.0\" y2=\"145.0\" stroke=\"#1967d2\" stroke-width=\"1\" /><line x1=\"30.0\" x2=\"570.0\" y1=\"195.0\" y2=\"195.0\" stroke=\"#1967d2\" stroke-width=\"1\" /><line x1=\"400.0\" x2=\"490.0\" y1=\"5.0\" y2=\"5.0\" stroke=\"black\" stroke-width=\"1\" /><line x1=\"400.0\" x2=\"490.0\" y1=\"235.0\" y2=\"235.0\" stroke=\"black\" stroke-width=\"1\" /><line x1=\"120.0\" x2=\"210.0\" y1=\"5.0\" y2=\"5.0\" stroke=\"black\" stroke-width=\"1\" /><line x1=\"120.0\" x2=\"210.0\" y1=\"235.0\" y2=\"235.0\" stroke=\"black\" stroke-width=\"1\" /><line x1=\"140.0\" x2=\"140.0\" y1=\"45.0\" y2=\"145.0\" stroke=\"black\" stroke-width=\"3\" /><line x1=\"180.0\" x2=\"180.0\" y1=\"95.0\" y2=\"195.0\" stroke=\"black\" stroke-width=\"3\" /><line x1=\"370.0\" x2=\"370.0\" y1=\"45.0\" y2=\"95.0\" stroke=\"black\" stroke-width=\"3\" /><line x1=\"420.0\" x2=\"420.0\" y1=\"45.0\" y2=\"145.0\" stroke=\"black\" stroke-width=\"3\" /><line x1=\"460.0\" x2=\"460.0\" y1=\"95.0\" y2=\"195.0\" stroke=\"black\" stroke-width=\"3\" /><line x1=\"400.0\" x2=\"400.0\" y1=\"5.0\" y2=\"15.0\" stroke=\"black\" stroke-width=\"3\" /><line x1=\"490.0\" x2=\"490.0\" y1=\"5.0\" y2=\"15.0\" stroke=\"black\" stroke-width=\"3\" /><line x1=\"400.0\" x2=\"400.0\" y1=\"225.0\" y2=\"235.0\" stroke=\"black\" stroke-width=\"3\" /><line x1=\"490.0\" x2=\"490.0\" y1=\"225.0\" y2=\"235.0\" stroke=\"black\" stroke-width=\"3\" /><line x1=\"120.0\" x2=\"120.0\" y1=\"5.0\" y2=\"15.0\" stroke=\"black\" stroke-width=\"3\" /><line x1=\"210.0\" x2=\"210.0\" y1=\"5.0\" y2=\"15.0\" stroke=\"black\" stroke-width=\"3\" /><line x1=\"120.0\" x2=\"120.0\" y1=\"225.0\" y2=\"235.0\" stroke=\"black\" stroke-width=\"3\" /><line x1=\"210.0\" x2=\"210.0\" y1=\"225.0\" y2=\"235.0\" stroke=\"black\" stroke-width=\"3\" /><rect x=\"10.0\" y=\"25.0\" width=\"40\" height=\"40\" stroke=\"black\" fill=\"white\" stroke-width=\"0\" /><text x=\"30.0\" y=\"45.0\" dominant-baseline=\"middle\" text-anchor=\"middle\" font-size=\"14px\" font-family=\"Arial\">0: </text><rect x=\"10.0\" y=\"75.0\" width=\"40\" height=\"40\" stroke=\"black\" fill=\"white\" stroke-width=\"0\" /><text x=\"30.0\" y=\"95.0\" dominant-baseline=\"middle\" text-anchor=\"middle\" font-size=\"14px\" font-family=\"Arial\">1: </text><rect x=\"10.0\" y=\"125.0\" width=\"40\" height=\"40\" stroke=\"black\" fill=\"white\" stroke-width=\"0\" /><text x=\"30.0\" y=\"145.0\" dominant-baseline=\"middle\" text-anchor=\"middle\" font-size=\"14px\" font-family=\"Arial\">2: </text><rect x=\"10.0\" y=\"175.0\" width=\"40\" height=\"40\" stroke=\"black\" fill=\"white\" stroke-width=\"0\" /><text x=\"30.0\" y=\"195.0\" dominant-baseline=\"middle\" text-anchor=\"middle\" font-size=\"14px\" font-family=\"Arial\">3: </text><rect x=\"70.0\" y=\"25.0\" width=\"40\" height=\"40\" stroke=\"black\" fill=\"white\" stroke-width=\"1\" /><text x=\"90.0\" y=\"45.0\" dominant-baseline=\"middle\" text-anchor=\"middle\" font-size=\"18px\" font-family=\"Arial\">H</text><rect x=\"70.0\" y=\"75.0\" width=\"40\" height=\"40\" stroke=\"black\" fill=\"white\" stroke-width=\"1\" /><text x=\"90.0\" y=\"95.0\" dominant-baseline=\"middle\" text-anchor=\"middle\" font-size=\"18px\" font-family=\"Arial\">H</text><circle cx=\"140.0\" cy=\"45.0\" r=\"10.0\" /><rect x=\"120.0\" y=\"125.0\" width=\"40\" height=\"40\" stroke=\"black\" fill=\"white\" stroke-width=\"1\" /><text x=\"140.0\" y=\"145.0\" dominant-baseline=\"middle\" text-anchor=\"middle\" font-size=\"18px\" font-family=\"Arial\">X</text><circle cx=\"180.0\" cy=\"95.0\" r=\"10.0\" /><rect x=\"160.0\" y=\"175.0\" width=\"40\" height=\"40\" stroke=\"black\" fill=\"white\" stroke-width=\"1\" /><text x=\"180.0\" y=\"195.0\" dominant-baseline=\"middle\" text-anchor=\"middle\" font-size=\"18px\" font-family=\"Arial\">X</text><rect x=\"230.0\" y=\"75.0\" width=\"40\" height=\"40\" stroke=\"black\" fill=\"white\" stroke-width=\"1\" /><text x=\"250.0\" y=\"95.0\" dominant-baseline=\"middle\" text-anchor=\"middle\" font-size=\"18px\" font-family=\"Arial\">Z</text><rect x=\"290.0\" y=\"75.0\" width=\"40\" height=\"40\" stroke=\"black\" fill=\"white\" stroke-width=\"1\" /><text x=\"310.0\" y=\"95.0\" dominant-baseline=\"middle\" text-anchor=\"middle\" font-size=\"18px\" font-family=\"Arial\">X</text><rect x=\"350.0\" y=\"25.0\" width=\"40\" height=\"40\" stroke=\"black\" fill=\"white\" stroke-width=\"1\" /><text x=\"370.0\" y=\"45.0\" dominant-baseline=\"middle\" text-anchor=\"middle\" font-size=\"18px\" font-family=\"Arial\">?</text><rect x=\"350.0\" y=\"75.0\" width=\"40\" height=\"40\" stroke=\"black\" fill=\"white\" stroke-width=\"1\" /><text x=\"370.0\" y=\"95.0\" dominant-baseline=\"middle\" text-anchor=\"middle\" font-size=\"14px\" font-family=\"Arial\">#2</text><circle cx=\"420.0\" cy=\"45.0\" r=\"10.0\" /><rect x=\"400.0\" y=\"125.0\" width=\"40\" height=\"40\" stroke=\"black\" fill=\"white\" stroke-width=\"1\" /><text x=\"420.0\" y=\"145.0\" dominant-baseline=\"middle\" text-anchor=\"middle\" font-size=\"18px\" font-family=\"Arial\">X</text><circle cx=\"460.0\" cy=\"95.0\" r=\"10.0\" /><rect x=\"440.0\" y=\"175.0\" width=\"40\" height=\"40\" stroke=\"black\" fill=\"white\" stroke-width=\"1\" /><text x=\"460.0\" y=\"195.0\" dominant-baseline=\"middle\" text-anchor=\"middle\" font-size=\"18px\" font-family=\"Arial\">X</text><rect x=\"510.0\" y=\"25.0\" width=\"40\" height=\"40\" stroke=\"black\" fill=\"white\" stroke-width=\"1\" /><text x=\"530.0\" y=\"45.0\" dominant-baseline=\"middle\" text-anchor=\"middle\" font-size=\"18px\" font-family=\"Arial\">H</text><rect x=\"510.0\" y=\"75.0\" width=\"40\" height=\"40\" stroke=\"black\" fill=\"white\" stroke-width=\"1\" /><text x=\"530.0\" y=\"95.0\" dominant-baseline=\"middle\" text-anchor=\"middle\" font-size=\"18px\" font-family=\"Arial\">H</text></svg>"
      ],
      "text/plain": [
       "<cirq.contrib.svg.svg.SVGCircuit at 0x1af030bef98>"
      ]
     },
     "execution_count": 35,
     "metadata": {},
     "output_type": "execute_result"
    }
   ],
   "source": [
    "import random\n",
    "\n",
    "def initFullCircuit(n, params):\n",
    "    global senders\n",
    "    global receivers\n",
    "    \n",
    "    bits = [\"00\", \"01\", \"10\", \"11\"]\n",
    "    infos = [random.choice(bits) for i in range(n)]\n",
    "    circuit_test = getCircuit(infos)\n",
    "    circuit_test.append(cirq.ops.MatrixGate(buildU(n, params))(*senders))\n",
    "\n",
    "    for sender, receiver in zip(senders, receivers):\n",
    "        circuit_test.append([cirq.CNOT(control=sender, target=receiver), \n",
    "                             cirq.H(sender)])\n",
    "    \n",
    "    return circuit_test, infos\n",
    "    \n",
    "print(params)\n",
    "circuit_test, infos = initFullCircuit(n, params)\n",
    "SVGCircuit(circuit_test)"
   ]
  },
  {
   "cell_type": "code",
   "execution_count": 36,
   "metadata": {},
   "outputs": [],
   "source": [
    "def measureTest(circuit, infos, repetitions=1000):\n",
    "    global senders\n",
    "    global receivers\n",
    "    \n",
    "    sim = cirq.Simulator()\n",
    "    for i in range(len(infos)):\n",
    "        measure_key = \"measure_\" + str(i + 1)\n",
    "        circuit.append(cirq.measure(senders[i], receivers[i], key=measure_key))\n",
    "        \n",
    "        output = sim.run(circuit, repetitions=repetitions)\n",
    "        \n",
    "        print(output.histogram(key=measure_key))\n",
    "        print('expected output: {}'.format(int(infos[i], 2)))"
   ]
  },
  {
   "cell_type": "code",
   "execution_count": 37,
   "metadata": {},
   "outputs": [
    {
     "name": "stdout",
     "output_type": "stream",
     "text": [
      "Counter({0: 938, 3: 29, 1: 18, 2: 15})\n",
      "expected output: 0\n",
      "Counter({3: 926, 2: 56, 0: 9, 1: 9})\n",
      "expected output: 3\n"
     ]
    }
   ],
   "source": [
    "measureTest(circuit_test, infos)"
   ]
  },
  {
   "cell_type": "code",
   "execution_count": 28,
   "metadata": {},
   "outputs": [
    {
     "ename": "TypeError",
     "evalue": "cirq.unitary failed. Value doesn't have a (non-parameterized) unitary effect.\n\ntype: <class 'cirq.circuits.circuit.Circuit'>\nvalue: cirq.Circuit([\n    cirq.Moment(\n        cirq.H(cirq.LineQubit(0)),\n        cirq.H(cirq.LineQubit(1)),\n    ),\n    cirq.Moment(\n        cirq.CNOT(cirq.LineQubit(0), cirq.LineQubit(2)),\n        cirq.CNOT(cirq.LineQubit(1), cirq.LineQubit(3)),\n    ),\n    cirq.Moment(\n        cirq.X(cirq.LineQubit(1)),\n    ),\n    cirq.Moment(\n        cirq.MatrixGate(np.array([[(0.9376073768036304+0.13234823643583993j), (0.10959577688453406-0.1491931882237209j), (0.11180067488859288+0.12369426148951633j), (0.18788098874692188+0.07750859558108618j)], [(-0.1569352011203405-0.15658288118723732j), (0.9473745453203288-0.13364576816082024j), (0.13868119136052845+0.07816465452465388j), (0.07151860972730775+0.07082602564570059j)], [(-0.10966432329805796+0.13128260292928567j), (-0.11980445921579679+0.13510575899193408j), (0.9551836929939075+0.09218564126613862j), (0.052549618499655726-0.12040098662937393j)], [(-0.1561259581458806+0.024347377700304488j), (-0.07123487684383878+0.112558231901485j), (-0.058369000955824146-0.15025688877776933j), (0.9441115012431803+0.19989379046632938j)]], dtype=np.complex128)).on(cirq.LineQubit(0), cirq.LineQubit(1)),\n    ),\n    cirq.Moment(\n        cirq.CNOT(cirq.LineQubit(0), cirq.LineQubit(2)),\n        cirq.CNOT(cirq.LineQubit(1), cirq.LineQubit(3)),\n    ),\n    cirq.Moment(\n        cirq.H(cirq.LineQubit(0)),\n        cirq.H(cirq.LineQubit(1)),\n    ),\n    cirq.Moment(\n        cirq.measure(cirq.LineQubit(0), cirq.LineQubit(2), key='measure_1'),\n        cirq.measure(cirq.LineQubit(1), cirq.LineQubit(3), key='measure_2'),\n    ),\n    cirq.Moment(\n        cirq.measure(cirq.LineQubit(0), cirq.LineQubit(2), key='measure_1'),\n    ),\n    cirq.Moment(\n        cirq.measure(cirq.LineQubit(0), cirq.LineQubit(2), key='measure_1'),\n    ),\n    cirq.Moment(\n        cirq.MatrixGate(np.array([[(0.9376073768036304+0.13234823643583993j), (0.10959577688453406-0.1491931882237209j), (0.11180067488859288+0.12369426148951633j), (0.18788098874692188+0.07750859558108618j)], [(-0.1569352011203405-0.15658288118723732j), (0.9473745453203288-0.13364576816082024j), (0.13868119136052845+0.07816465452465388j), (0.07151860972730775+0.07082602564570059j)], [(-0.10966432329805796+0.13128260292928567j), (-0.11980445921579679+0.13510575899193408j), (0.9551836929939075+0.09218564126613862j), (0.052549618499655726-0.12040098662937393j)], [(-0.1561259581458806+0.024347377700304488j), (-0.07123487684383878+0.112558231901485j), (-0.058369000955824146-0.15025688877776933j), (0.9441115012431803+0.19989379046632938j)]], dtype=np.complex128)).on(cirq.LineQubit(0), cirq.LineQubit(1)),\n    ),\n])\n\nThe value failed to satisfy any of the following criteria:\n- A `_unitary_(self)` method that returned a value besides None or NotImplemented.\n- A `_decompose_(self)` method that returned a list of unitary operations.\n- An `_apply_unitary_(self, args) method that returned a value besides None or NotImplemented.",
     "output_type": "error",
     "traceback": [
      "\u001b[1;31m---------------------------------------------------------------------------\u001b[0m",
      "\u001b[1;31mTypeError\u001b[0m                                 Traceback (most recent call last)",
      "\u001b[1;32m<ipython-input-28-244d02d39fdf>\u001b[0m in \u001b[0;36m<module>\u001b[1;34m\u001b[0m\n\u001b[1;32m----> 1\u001b[1;33m \u001b[0mprint\u001b[0m\u001b[1;33m(\u001b[0m\u001b[0mL\u001b[0m\u001b[1;33m(\u001b[0m\u001b[0mn\u001b[0m\u001b[1;33m,\u001b[0m \u001b[0mparams\u001b[0m\u001b[1;33m,\u001b[0m \u001b[1;34m'D'\u001b[0m\u001b[1;33m)\u001b[0m\u001b[1;33m)\u001b[0m\u001b[1;33m\u001b[0m\u001b[1;33m\u001b[0m\u001b[0m\n\u001b[0m\u001b[0;32m      2\u001b[0m \u001b[0mprint\u001b[0m\u001b[1;33m(\u001b[0m\u001b[0mL\u001b[0m\u001b[1;33m(\u001b[0m\u001b[0mn\u001b[0m\u001b[1;33m,\u001b[0m \u001b[0mparams\u001b[0m\u001b[1;33m,\u001b[0m \u001b[1;34m'F'\u001b[0m\u001b[1;33m)\u001b[0m\u001b[1;33m)\u001b[0m\u001b[1;33m\u001b[0m\u001b[1;33m\u001b[0m\u001b[0m\n",
      "\u001b[1;32m<ipython-input-8-d962a0f96824>\u001b[0m in \u001b[0;36mL\u001b[1;34m(n, p, loss_function)\u001b[0m\n\u001b[0;32m      3\u001b[0m     \u001b[0mrous\u001b[0m \u001b[1;33m=\u001b[0m \u001b[1;33m[\u001b[0m\u001b[1;33m]\u001b[0m\u001b[1;33m\u001b[0m\u001b[1;33m\u001b[0m\u001b[0m\n\u001b[0;32m      4\u001b[0m     \u001b[1;32mfor\u001b[0m \u001b[0mi\u001b[0m \u001b[1;32min\u001b[0m \u001b[0mrange\u001b[0m\u001b[1;33m(\u001b[0m\u001b[0mn\u001b[0m\u001b[1;33m)\u001b[0m\u001b[1;33m:\u001b[0m\u001b[1;33m\u001b[0m\u001b[1;33m\u001b[0m\u001b[0m\n\u001b[1;32m----> 5\u001b[1;33m         \u001b[0mrous\u001b[0m\u001b[1;33m.\u001b[0m\u001b[0mappend\u001b[0m\u001b[1;33m(\u001b[0m\u001b[0mgenerateRous\u001b[0m\u001b[1;33m(\u001b[0m\u001b[0mn\u001b[0m\u001b[1;33m,\u001b[0m \u001b[0mU\u001b[0m\u001b[1;33m,\u001b[0m \u001b[1;33m[\u001b[0m\u001b[0mi\u001b[0m\u001b[1;33m,\u001b[0m \u001b[0mi\u001b[0m \u001b[1;33m+\u001b[0m \u001b[0mn\u001b[0m\u001b[1;33m]\u001b[0m\u001b[1;33m)\u001b[0m\u001b[1;33m)\u001b[0m\u001b[1;33m\u001b[0m\u001b[1;33m\u001b[0m\u001b[0m\n\u001b[0m\u001b[0;32m      6\u001b[0m \u001b[1;33m\u001b[0m\u001b[0m\n\u001b[0;32m      7\u001b[0m     \u001b[0mloss\u001b[0m \u001b[1;33m=\u001b[0m \u001b[1;36m0.0\u001b[0m\u001b[1;33m\u001b[0m\u001b[1;33m\u001b[0m\u001b[0m\n",
      "\u001b[1;32m<ipython-input-6-acbf32469236>\u001b[0m in \u001b[0;36mgenerateRous\u001b[1;34m(n, U, indexes)\u001b[0m\n\u001b[0;32m     20\u001b[0m         \u001b[0mcircuit\u001b[0m\u001b[1;33m.\u001b[0m\u001b[0mappend\u001b[0m\u001b[1;33m(\u001b[0m\u001b[0mcirq\u001b[0m\u001b[1;33m.\u001b[0m\u001b[0mops\u001b[0m\u001b[1;33m.\u001b[0m\u001b[0mMatrixGate\u001b[0m\u001b[1;33m(\u001b[0m\u001b[0mU\u001b[0m\u001b[1;33m)\u001b[0m\u001b[1;33m(\u001b[0m\u001b[1;33m*\u001b[0m\u001b[0msenders\u001b[0m\u001b[1;33m)\u001b[0m\u001b[1;33m)\u001b[0m\u001b[1;33m\u001b[0m\u001b[1;33m\u001b[0m\u001b[0m\n\u001b[0;32m     21\u001b[0m \u001b[1;33m\u001b[0m\u001b[0m\n\u001b[1;32m---> 22\u001b[1;33m         \u001b[0mrous\u001b[0m\u001b[1;33m.\u001b[0m\u001b[0mappend\u001b[0m\u001b[1;33m(\u001b[0m \u001b[0mnorm\u001b[0m\u001b[1;33m(\u001b[0m\u001b[0mpartial_trace\u001b[0m\u001b[1;33m(\u001b[0m\u001b[0mcirq\u001b[0m\u001b[1;33m.\u001b[0m\u001b[0munitary\u001b[0m\u001b[1;33m(\u001b[0m\u001b[0mcircuit\u001b[0m\u001b[1;33m)\u001b[0m\u001b[1;33m,\u001b[0m \u001b[0mindexes\u001b[0m\u001b[1;33m)\u001b[0m\u001b[1;33m)\u001b[0m \u001b[1;33m)\u001b[0m\u001b[1;33m\u001b[0m\u001b[1;33m\u001b[0m\u001b[0m\n\u001b[0m\u001b[0;32m     23\u001b[0m \u001b[1;33m\u001b[0m\u001b[0m\n\u001b[0;32m     24\u001b[0m     \u001b[1;32mreturn\u001b[0m \u001b[0mrous\u001b[0m\u001b[1;33m\u001b[0m\u001b[1;33m\u001b[0m\u001b[0m\n",
      "\u001b[1;32m~\\AppData\\Roaming\\Python\\Python36\\site-packages\\cirq\\protocols\\unitary_protocol.py\u001b[0m in \u001b[0;36munitary\u001b[1;34m(val, default)\u001b[0m\n\u001b[0;32m    148\u001b[0m         \u001b[1;34m\"list of unitary operations.\\n\"\u001b[0m\u001b[1;33m\u001b[0m\u001b[1;33m\u001b[0m\u001b[0m\n\u001b[0;32m    149\u001b[0m         \u001b[1;34m\"- An `_apply_unitary_(self, args) method that returned a value \"\u001b[0m\u001b[1;33m\u001b[0m\u001b[1;33m\u001b[0m\u001b[0m\n\u001b[1;32m--> 150\u001b[1;33m         \u001b[1;34m\"besides None or NotImplemented.\"\u001b[0m\u001b[1;33m.\u001b[0m\u001b[0mformat\u001b[0m\u001b[1;33m(\u001b[0m\u001b[0mtype\u001b[0m\u001b[1;33m(\u001b[0m\u001b[0mval\u001b[0m\u001b[1;33m)\u001b[0m\u001b[1;33m,\u001b[0m \u001b[0mval\u001b[0m\u001b[1;33m)\u001b[0m\u001b[1;33m\u001b[0m\u001b[1;33m\u001b[0m\u001b[0m\n\u001b[0m\u001b[0;32m    151\u001b[0m     )\n\u001b[0;32m    152\u001b[0m \u001b[1;33m\u001b[0m\u001b[0m\n",
      "\u001b[1;31mTypeError\u001b[0m: cirq.unitary failed. Value doesn't have a (non-parameterized) unitary effect.\n\ntype: <class 'cirq.circuits.circuit.Circuit'>\nvalue: cirq.Circuit([\n    cirq.Moment(\n        cirq.H(cirq.LineQubit(0)),\n        cirq.H(cirq.LineQubit(1)),\n    ),\n    cirq.Moment(\n        cirq.CNOT(cirq.LineQubit(0), cirq.LineQubit(2)),\n        cirq.CNOT(cirq.LineQubit(1), cirq.LineQubit(3)),\n    ),\n    cirq.Moment(\n        cirq.X(cirq.LineQubit(1)),\n    ),\n    cirq.Moment(\n        cirq.MatrixGate(np.array([[(0.9376073768036304+0.13234823643583993j), (0.10959577688453406-0.1491931882237209j), (0.11180067488859288+0.12369426148951633j), (0.18788098874692188+0.07750859558108618j)], [(-0.1569352011203405-0.15658288118723732j), (0.9473745453203288-0.13364576816082024j), (0.13868119136052845+0.07816465452465388j), (0.07151860972730775+0.07082602564570059j)], [(-0.10966432329805796+0.13128260292928567j), (-0.11980445921579679+0.13510575899193408j), (0.9551836929939075+0.09218564126613862j), (0.052549618499655726-0.12040098662937393j)], [(-0.1561259581458806+0.024347377700304488j), (-0.07123487684383878+0.112558231901485j), (-0.058369000955824146-0.15025688877776933j), (0.9441115012431803+0.19989379046632938j)]], dtype=np.complex128)).on(cirq.LineQubit(0), cirq.LineQubit(1)),\n    ),\n    cirq.Moment(\n        cirq.CNOT(cirq.LineQubit(0), cirq.LineQubit(2)),\n        cirq.CNOT(cirq.LineQubit(1), cirq.LineQubit(3)),\n    ),\n    cirq.Moment(\n        cirq.H(cirq.LineQubit(0)),\n        cirq.H(cirq.LineQubit(1)),\n    ),\n    cirq.Moment(\n        cirq.measure(cirq.LineQubit(0), cirq.LineQubit(2), key='measure_1'),\n        cirq.measure(cirq.LineQubit(1), cirq.LineQubit(3), key='measure_2'),\n    ),\n    cirq.Moment(\n        cirq.measure(cirq.LineQubit(0), cirq.LineQubit(2), key='measure_1'),\n    ),\n    cirq.Moment(\n        cirq.measure(cirq.LineQubit(0), cirq.LineQubit(2), key='measure_1'),\n    ),\n    cirq.Moment(\n        cirq.MatrixGate(np.array([[(0.9376073768036304+0.13234823643583993j), (0.10959577688453406-0.1491931882237209j), (0.11180067488859288+0.12369426148951633j), (0.18788098874692188+0.07750859558108618j)], [(-0.1569352011203405-0.15658288118723732j), (0.9473745453203288-0.13364576816082024j), (0.13868119136052845+0.07816465452465388j), (0.07151860972730775+0.07082602564570059j)], [(-0.10966432329805796+0.13128260292928567j), (-0.11980445921579679+0.13510575899193408j), (0.9551836929939075+0.09218564126613862j), (0.052549618499655726-0.12040098662937393j)], [(-0.1561259581458806+0.024347377700304488j), (-0.07123487684383878+0.112558231901485j), (-0.058369000955824146-0.15025688877776933j), (0.9441115012431803+0.19989379046632938j)]], dtype=np.complex128)).on(cirq.LineQubit(0), cirq.LineQubit(1)),\n    ),\n])\n\nThe value failed to satisfy any of the following criteria:\n- A `_unitary_(self)` method that returned a value besides None or NotImplemented.\n- A `_decompose_(self)` method that returned a list of unitary operations.\n- An `_apply_unitary_(self, args) method that returned a value besides None or NotImplemented."
     ]
    }
   ],
   "source": [
    "print(L(n, params, 'D'))\n",
    "print(L(n, params, 'F'))"
   ]
  },
  {
   "cell_type": "code",
   "execution_count": null,
   "metadata": {},
   "outputs": [],
   "source": []
  }
 ],
 "metadata": {
  "kernelspec": {
   "display_name": "Python 3",
   "language": "python",
   "name": "python3"
  },
  "language_info": {
   "codemirror_mode": {
    "name": "ipython",
    "version": 3
   },
   "file_extension": ".py",
   "mimetype": "text/x-python",
   "name": "python",
   "nbconvert_exporter": "python",
   "pygments_lexer": "ipython3",
   "version": "3.6.8"
  }
 },
 "nbformat": 4,
 "nbformat_minor": 4
}
