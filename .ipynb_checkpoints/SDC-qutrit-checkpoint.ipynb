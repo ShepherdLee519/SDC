{
 "cells": [
  {
   "cell_type": "code",
   "execution_count": 34,
   "metadata": {},
   "outputs": [],
   "source": [
    "import numpy as np"
   ]
  },
  {
   "cell_type": "markdown",
   "metadata": {},
   "source": [
    "## Prepare Psi-states"
   ]
  },
  {
   "cell_type": "code",
   "execution_count": 35,
   "metadata": {},
   "outputs": [],
   "source": [
    "def getBases(dimension):\n",
    "    bases = [np.zeros(dimension) for i in range(dimension) ]\n",
    "    \n",
    "    for i in range(dimension):\n",
    "        bases[i][i] = 1\n",
    "    \n",
    "    return bases"
   ]
  },
  {
   "cell_type": "code",
   "execution_count": 3,
   "metadata": {},
   "outputs": [
    {
     "name": "stdout",
     "output_type": "stream",
     "text": [
      "[array([1., 0., 0.]), array([0., 1., 0.]), array([0., 0., 1.])]\n"
     ]
    }
   ],
   "source": [
    "# Test 1 - getBases\n",
    "\n",
    "print(getBases(3))"
   ]
  },
  {
   "cell_type": "code",
   "execution_count": 4,
   "metadata": {},
   "outputs": [],
   "source": [
    "def getStates(dimension):\n",
    "    bases = getBases(dimension)\n",
    "    \n",
    "    states = dict()\n",
    "    \n",
    "    for n in range(dimension):\n",
    "        for m in range(dimension):\n",
    "            sup = str(n) + str(m) # eg. '01'\n",
    "            psi = np.zeros(dimension ** 2).astype('complex64')\n",
    "            \n",
    "            for j in range(dimension):\n",
    "                k = (j + m) % dimension\n",
    "                \n",
    "                p = np.exp(2 * np.pi * 1.0j * j * n / dimension)\n",
    "                    \n",
    "                psi += p * np.kron(bases[j], bases[k])\n",
    "            \n",
    "            psi /= np.sqrt(dimension)\n",
    "            states[sup] = psi\n",
    "    \n",
    "    return states"
   ]
  },
  {
   "cell_type": "code",
   "execution_count": 5,
   "metadata": {},
   "outputs": [
    {
     "name": "stdout",
     "output_type": "stream",
     "text": [
      "[0.        +0.j 0.57735026+0.j 0.        +0.j 0.        +0.j\n",
      " 0.        +0.j 0.57735026+0.j 0.57735026+0.j 0.        +0.j\n",
      " 0.        +0.j]\n"
     ]
    }
   ],
   "source": [
    "# Test 2 - get psi\n",
    "\n",
    "print(getStates(3)['01'])"
   ]
  },
  {
   "cell_type": "markdown",
   "metadata": {},
   "source": [
    "## Prepare Unitaries Operators"
   ]
  },
  {
   "cell_type": "code",
   "execution_count": 6,
   "metadata": {},
   "outputs": [],
   "source": [
    "def getUnitaries(dimension):\n",
    "    unitaries = dict()\n",
    "    \n",
    "    for n in range(dimension):\n",
    "        for m in range(dimension):\n",
    "            # U_nm\n",
    "            sup = str(n) + str(m)\n",
    "            U = np.eye(dimension).astype('complex64')\n",
    "            \n",
    "            for j in range(dimension):\n",
    "                for k in range(dimension):\n",
    "                    delta = 1 if j == (k + m) % dimension else 0\n",
    "                    \n",
    "                    U[j, k] = delta * np.exp(2 * np.pi * 1.0j * k * n / dimension)\n",
    "            \n",
    "            unitaries[sup] = U\n",
    "    \n",
    "    return unitaries"
   ]
  },
  {
   "cell_type": "code",
   "execution_count": 7,
   "metadata": {},
   "outputs": [
    {
     "name": "stdout",
     "output_type": "stream",
     "text": [
      "[[ 0. +0.j        -0.5-0.8660254j -0. +0.j       ]\n",
      " [ 0. +0.j         0. -0.j        -0.5+0.8660254j]\n",
      " [ 1. +0.j         0. -0.j        -0. +0.j       ]]\n"
     ]
    }
   ],
   "source": [
    "# Test 3 - get U\n",
    "\n",
    "print(getUnitaries(3)['22'])"
   ]
  },
  {
   "cell_type": "markdown",
   "metadata": {},
   "source": [
    "## Prepare Measurements"
   ]
  },
  {
   "cell_type": "code",
   "execution_count": 8,
   "metadata": {},
   "outputs": [],
   "source": [
    "def getMeasurements(psi, dimension):\n",
    "    size = dimension ** 2\n",
    "    measurements = dict()\n",
    "    \n",
    "    for k, p in psi.items():\n",
    "        col = p.reshape([size, 1])\n",
    "        row = p.reshape([1, size]).conj()\n",
    "        \n",
    "        M = col @ row\n",
    "        \n",
    "        measurements[k] = M\n",
    "    \n",
    "    return measurements"
   ]
  },
  {
   "cell_type": "code",
   "execution_count": 9,
   "metadata": {},
   "outputs": [
    {
     "name": "stdout",
     "output_type": "stream",
     "text": [
      "[0.9999999+0.j]\n"
     ]
    }
   ],
   "source": [
    "# Test 4 - measurement\n",
    "\n",
    "dimension_ = 3\n",
    "psi_ = getStates(dimension_)\n",
    "\n",
    "# col_00 = |00>, row_00 = <00|\n",
    "col_00 = psi_[\"00\"].reshape([dimension_ ** 2, 1])\n",
    "row_00 = psi_[\"00\"].conj().T\n",
    "\n",
    "M_00 = getMeasurements(psi_, dimension_)['00']\n",
    "# p = <ψ|M_dagger M|ψ>\n",
    "p_00 = row_00 @ ((M_00.conj().T) @ M_00) @ col_00\n",
    "\n",
    "print(p_00)"
   ]
  },
  {
   "cell_type": "code",
   "execution_count": 10,
   "metadata": {},
   "outputs": [],
   "source": [
    "def measure(p, M):\n",
    "    size = len(p)\n",
    "    col = p.reshape([size, 1])\n",
    "    row = p.reshape([1, size]).conj()\n",
    "    \n",
    "    probability = dict()\n",
    "    \n",
    "    for k, m in M.items():\n",
    "        p = row @ m @ col\n",
    "        \n",
    "        # p = [[..]] => return p[0, 0]\n",
    "        probability[k] = np.linalg.norm( p[0, 0] )\n",
    "        \n",
    "    max_ = sorted(list(probability.items()), key=lambda item: item[1], reverse=True)[0]\n",
    "    \n",
    "    return probability, max_"
   ]
  },
  {
   "cell_type": "code",
   "execution_count": 11,
   "metadata": {},
   "outputs": [
    {
     "name": "stdout",
     "output_type": "stream",
     "text": [
      "Measure: psi_02\n",
      "{'00': 0.0, '01': 0.0, '02': 0.99999994, '10': 0.0, '11': 0.0, '12': 1.2939735e-08, '20': 0.0, '21': 0.0, '22': 1.2939735e-08}\n",
      "('02', 0.99999994)\n",
      "Measure: psi_12\n",
      "{'00': 0.0, '01': 0.0, '02': 0.0, '10': 0.0, '11': 0.0, '12': 0.99999976, '20': 0.0, '21': 0.0, '22': 2.7622338e-08}\n",
      "('12', 0.99999976)\n"
     ]
    }
   ],
   "source": [
    "# Test 5 - measure\n",
    "\n",
    "dimension_ = 3\n",
    "psi_ = getStates(dimension_)\n",
    "M_ = getMeasurements(psi_, dimension_)\n",
    "\n",
    "probs, max_ = measure(psi_['02'], M_)\n",
    "print('Measure: psi_02')\n",
    "print(probs)\n",
    "print(max_)\n",
    "\n",
    "probs, max_ = measure(psi_['12'], M_)\n",
    "print('Measure: psi_12')\n",
    "print(probs)\n",
    "print(max_)"
   ]
  },
  {
   "cell_type": "code",
   "execution_count": 12,
   "metadata": {},
   "outputs": [
    {
     "name": "stdout",
     "output_type": "stream",
     "text": [
      "True\n"
     ]
    }
   ],
   "source": [
    "# Test 6 - Σ M_dagger M = I\n",
    "\n",
    "dimension_ = 3\n",
    "psi_ = getStates(dimension_)\n",
    "M_ = getMeasurements(psi_, dimension_)\n",
    "\n",
    "matrix = np.zeros([9, 9]).astype('complex64')\n",
    "\n",
    "for m in M_.values():\n",
    "    matrix += m.conj().T @ m\n",
    "    \n",
    "print( np.allclose(matrix, np.eye(9), atol=1e-07) )"
   ]
  },
  {
   "cell_type": "markdown",
   "metadata": {},
   "source": [
    "## Measure after applying Unitary"
   ]
  },
  {
   "cell_type": "code",
   "execution_count": 13,
   "metadata": {},
   "outputs": [],
   "source": [
    "def applyUnitary(unitary, p):\n",
    "    dimension = int(len(p) ** 0.5)\n",
    "    u = np.kron(np.eye(dimension).astype('complex64'),unitary)\n",
    "    \n",
    "    return u @ p"
   ]
  },
  {
   "cell_type": "code",
   "execution_count": 14,
   "metadata": {},
   "outputs": [
    {
     "name": "stdout",
     "output_type": "stream",
     "text": [
      "Apply unitary_20 on psi_00 and measure it\n",
      "Probability:  {'00': 0.0, '01': 0.0, '02': 0.0, '10': 3.934948e-08, '11': 0.0, '12': 0.0, '20': 0.99999976, '21': 0.0, '22': 0.0}\n",
      "Max:  ('20', 0.99999976)\n"
     ]
    }
   ],
   "source": [
    "# Test 7 - measure after applying unitary\n",
    "\n",
    "dimension_ = 3\n",
    "U_ = getUnitaries(dimension_)\n",
    "psi_ = getStates(dimension_)\n",
    "M_ = getMeasurements(psi_, dimension_)\n",
    "\n",
    "\n",
    "probs, max_ = measure(applyUnitary(U_['20'], psi_['00']), M_)\n",
    "print('Apply unitary_20 on psi_00 and measure it')\n",
    "print('Probability: ', probs)\n",
    "print('Max: ', max_)"
   ]
  },
  {
   "cell_type": "markdown",
   "metadata": {},
   "source": [
    "## Superdense coding"
   ]
  },
  {
   "cell_type": "code",
   "execution_count": 15,
   "metadata": {},
   "outputs": [],
   "source": [
    "def superdenseCoding(dimension):\n",
    "    psi = getStates(dimension)\n",
    "    U = getUnitaries(dimension)\n",
    "    M = getMeasurements(psi, dimension)\n",
    "    \n",
    "    def apply(u, p):\n",
    "        \"\"\"\n",
    "            eg. u=\"00\" => U[\"00\"], p=\"00\" => psi[\"00\"']\n",
    "        \"\"\"\n",
    "        probs, max_ = measure(applyUnitary(U[u], psi[p]), M)\n",
    "        \n",
    "        print(f'Apply unitary_{u} on psi_{p} and measure it: ')\n",
    "        print('Probability: ', probs)\n",
    "        print('Max: ', max_)\n",
    "        \n",
    "    return apply"
   ]
  },
  {
   "cell_type": "code",
   "execution_count": 16,
   "metadata": {},
   "outputs": [
    {
     "name": "stdout",
     "output_type": "stream",
     "text": [
      "Apply unitary_11 on psi_00 and measure it: \n",
      "Probability:  {'00': 0.0, '01': 7.747658e-17, '02': 0.0, '10': 0.0, '11': 0.99999976, '12': 0.0, '20': 0.0, '21': 2.8179524e-08, '22': 0.0}\n",
      "Max:  ('11', 0.99999976)\n",
      "\n",
      "Apply unitary_03 on psi_00 and measure it: \n",
      "Probability:  {'00': 0.0, '01': 0.0, '02': 0.0, '03': 1.0, '10': 0.0, '11': 0.0, '12': 0.0, '13': 1.0824451e-17, '20': 0.0, '21': 0.0, '22': 0.0, '23': 0.0, '30': 0.0, '31': 0.0, '32': 0.0, '33': 3.2473354e-17}\n",
      "Max:  ('03', 1.0)\n",
      "\n",
      "Apply unitary_04 on psi_00 and measure it: \n",
      "Probability:  {'00': 0.0, '01': 0.0, '02': 0.0, '03': 0.0, '04': 0.99999994, '10': 0.0, '11': 0.0, '12': 0.0, '13': 0.0, '14': 9.750018e-09, '20': 0.0, '21': 0.0, '22': 0.0, '23': 0.0, '24': 9.313226e-09, '30': 0.0, '31': 0.0, '32': 0.0, '33': 0.0, '34': 9.313226e-09, '40': 0.0, '41': 0.0, '42': 0.0, '43': 0.0, '44': 9.750018e-09}\n",
      "Max:  ('04', 0.99999994)\n",
      "\n"
     ]
    }
   ],
   "source": [
    "# Test 8 - superdense coding\n",
    "\n",
    "SDC_3 = superdenseCoding(3)\n",
    "SDC_3('11', '00')\n",
    "print()\n",
    "\n",
    "SDC_4 = superdenseCoding(4)\n",
    "SDC_4('03', '00')\n",
    "print()\n",
    "\n",
    "SDC_5 = superdenseCoding(5)\n",
    "SDC_5('04', '00')\n",
    "print()"
   ]
  },
  {
   "cell_type": "markdown",
   "metadata": {},
   "source": [
    "# SDC using qutrit"
   ]
  },
  {
   "cell_type": "code",
   "execution_count": 17,
   "metadata": {},
   "outputs": [],
   "source": [
    "from functools import reduce\n",
    "\n",
    "I = lambda n: np.eye(n)\n",
    "Kron = lambda *matrices: reduce(np.kron, matrices)\n",
    "\n",
    "def Pad(gate, qubits_num, a, b):\n",
    "    \"\"\"\n",
    "        using qutrit: {gate} should be 3 × 3\n",
    "    \"\"\"\n",
    "    if a == 0:\n",
    "        gate_return = Kron(gate, I(3 ** (qubits_num - b - 1)))\n",
    "    elif b < qubits_num - 1:\n",
    "        gate_return = Kron(I(3 ** a), gate, I(3 ** (qubits_num - b - 1)))\n",
    "    else:\n",
    "        gate_return = Kron(I(3 ** a), gate)\n",
    "\n",
    "    return gate_return"
   ]
  },
  {
   "cell_type": "markdown",
   "metadata": {},
   "source": [
    "## Simulate Unitary Gate"
   ]
  },
  {
   "cell_type": "code",
   "execution_count": 18,
   "metadata": {},
   "outputs": [],
   "source": [
    "def generateCombs(n, combs, comb):\n",
    "    \"\"\"\n",
    "        n = 3 => 000 ... 888\n",
    "    \"\"\"\n",
    "    if len(comb) == n:\n",
    "        combs.append(comb)\n",
    "        \n",
    "        return\n",
    "\n",
    "    for i in range(9):\n",
    "        generateCombs(n, combs, comb + str(i))\n",
    "\n",
    "combs = []\n",
    "generateCombs(2, combs, '')"
   ]
  },
  {
   "cell_type": "code",
   "execution_count": 19,
   "metadata": {},
   "outputs": [
    {
     "name": "stdout",
     "output_type": "stream",
     "text": [
      "['00', '01', '02', '03', '04', '05', '06', '07', '08', '10', '11', '12', '13', '14', '15', '16', '17', '18', '20', '21', '22', '23', '24', '25', '26', '27', '28', '30', '31', '32', '33', '34', '35', '36', '37', '38', '40', '41', '42', '43', '44', '45', '46', '47', '48', '50', '51', '52', '53', '54', '55', '56', '57', '58', '60', '61', '62', '63', '64', '65', '66', '67', '68', '70', '71', '72', '73', '74', '75', '76', '77', '78', '80', '81', '82', '83', '84', '85', '86', '87', '88']\n"
     ]
    }
   ],
   "source": [
    "print(combs)"
   ]
  },
  {
   "cell_type": "code",
   "execution_count": 58,
   "metadata": {},
   "outputs": [],
   "source": [
    "# matrixes = list(getUnitaries(3).values())\n",
    "matrixes = [\n",
    "    np.matrix([[1, 0, 0], [0, 1, 0], [0, 0, 1]]).astype('complex64'),\n",
    "    np.matrix([[0, 1, 0], [1, 0, 0], [0, 0, 0]]).astype('complex64'),\n",
    "    np.matrix([[0, -1.0j, 0], [1.0j, 0, 0], [0, 0, 0]]).astype('complex64'),\n",
    "    \n",
    "    np.matrix([[1, 0, 0], [0, -1, 0], [0, 0, 0]]).astype('complex64'),\n",
    "    np.matrix([[0, 0, 1], [0, 0, 0], [1, 0, 0]]).astype('complex64'),\n",
    "    np.matrix([[0, 0, -1.0j], [0, 0, 0], [1.0j, 0, 0]]).astype('complex64'),\n",
    "    \n",
    "    np.matrix([[0, 0, 0], [0, 0, 1], [0, 1, 0]]).astype('complex64'),\n",
    "    np.matrix([[0, 0, 0], [0, 0, -1.0j], [0, 1.0j, 0]]).astype('complex64'),\n",
    "    np.matrix([[1, 0, 0], [0, 1, 0], [0, 0, -2]]).astype('complex64') / np.sqrt(3),\n",
    "]"
   ]
  },
  {
   "cell_type": "code",
   "execution_count": 53,
   "metadata": {},
   "outputs": [],
   "source": [
    "from scipy.linalg import expm\n",
    "\n",
    "def buildU(n, p):\n",
    "    H = np.zeros((3 ** n, 3 ** n)).astype('complex64')\n",
    "    pos = 0\n",
    "    # global combs\n",
    "    for comb in combs:\n",
    "        temp = np.kron(matrixes[int(comb[0])], matrixes[int(comb[1])])\n",
    "        for i in range(2, n):\n",
    "            temp = np.kron(temp, matrixes[int(comb[i])])\n",
    "        \n",
    "        H += p[pos] * temp\n",
    "        pos += 1\n",
    "    \n",
    "    U = expm(-1.0j * H)\n",
    "#     U = H\n",
    "    \n",
    "    return U"
   ]
  },
  {
   "cell_type": "code",
   "execution_count": 52,
   "metadata": {},
   "outputs": [],
   "source": [
    "n = 2\n",
    "p = np.random.uniform(-1, 1, 3 ** (2*n))\n",
    "# p"
   ]
  },
  {
   "cell_type": "code",
   "execution_count": 51,
   "metadata": {},
   "outputs": [],
   "source": [
    "# Test 9 - buildU\n",
    "\n",
    "U1 = buildU(n, p)\n",
    "# print(U1)"
   ]
  },
  {
   "cell_type": "code",
   "execution_count": 61,
   "metadata": {},
   "outputs": [
    {
     "name": "stdout",
     "output_type": "stream",
     "text": [
      "U1 @ U2:\n",
      " [[ 9.99999940e-01+7.16227078e-12j -4.02698390e-08+3.74863163e-08j\n",
      "  -6.13901463e-09-1.51597348e-08j -1.06076314e-07+8.35360225e-08j\n",
      "   7.73083570e-08+1.56298654e-07j -5.24866621e-08-9.12701097e-08j\n",
      "   1.85877980e-11+3.00291561e-08j -7.61881012e-08+4.06179552e-08j\n",
      "   1.11758709e-07-6.70552254e-08j]\n",
      " [-4.02698390e-08-4.48225563e-08j  1.00000024e+00+3.27904637e-09j\n",
      "  -8.62843237e-08+4.72269370e-08j  1.67290040e-07+2.55579806e-08j\n",
      "  -3.59550221e-08+9.63167466e-08j  8.22762445e-08+1.64810370e-08j\n",
      "   2.71649938e-08+7.76032039e-08j  8.73981776e-08-6.80802899e-08j\n",
      "   5.30853868e-08-5.96046448e-08j]\n",
      " [-6.13901463e-09-1.11354304e-09j -8.62843237e-08-4.55913636e-08j\n",
      "   9.99999762e-01-3.53063689e-10j  3.95650872e-08-1.77748039e-09j\n",
      "   4.52683686e-08+1.18577560e-07j -1.78079826e-08+1.17229035e-08j\n",
      "   8.36925977e-08-4.29973781e-08j  3.17582298e-08+4.20943849e-08j\n",
      "   6.75208867e-09-7.07805157e-08j]\n",
      " [-1.06076314e-07-8.49774366e-08j  1.67290040e-07-3.69158926e-08j\n",
      "   3.95650872e-08-9.96885774e-09j  1.00000024e+00-6.98807012e-10j\n",
      "   5.72337981e-08+2.73039582e-08j -1.05696927e-08+7.92654973e-08j\n",
      "  -5.49053958e-08+4.62012153e-08j -1.15097221e-08-2.05407655e-08j\n",
      "  -8.66129994e-08+7.45058060e-08j]\n",
      " [ 7.73083570e-08-1.36025648e-07j -3.59550221e-08-1.03735118e-07j\n",
      "   4.52683686e-08-1.21008242e-07j  5.72337981e-08-1.89671532e-08j\n",
      "   1.00000000e+00+3.39246053e-09j  6.10228241e-08+8.12041421e-08j\n",
      "   4.25852633e-08+1.16141035e-08j  4.14746637e-08-3.04397645e-08j\n",
      "   8.94069672e-08+1.05239451e-07j]\n",
      " [-5.24866621e-08+8.50249933e-08j  8.22762445e-08-1.87414217e-09j\n",
      "  -1.78079826e-08-1.86804137e-08j -1.05696927e-08-9.73353451e-08j\n",
      "   6.10228241e-08-7.94186334e-08j  1.00000000e+00-5.59568969e-09j\n",
      "   4.43250947e-09-5.66935832e-08j  9.35108631e-08-8.14654566e-09j\n",
      "   2.98023224e-08+1.01281330e-07j]\n",
      " [-7.45058060e-09+0.00000000e+00j  2.23517418e-08-8.19563866e-08j\n",
      "   1.00582838e-07+3.72529030e-08j -1.04308128e-07-4.84287739e-08j\n",
      "   5.96046448e-08+0.00000000e+00j  1.49011612e-08+5.58793545e-08j\n",
      "   1.00000000e+00+0.00000000e+00j  1.49011612e-08-1.00582838e-07j\n",
      "  -8.19563866e-08+4.47034836e-08j]\n",
      " [-7.45058060e-08-5.21540642e-08j  1.04308128e-07+6.23986125e-08j\n",
      "   1.49011612e-08-4.47034836e-08j -1.86264515e-09+7.45058060e-09j\n",
      "   1.49011612e-08+7.45058060e-09j  8.94069672e-08+1.49011612e-08j\n",
      "   1.49011612e-08+1.00582838e-07j  1.00000012e+00+0.00000000e+00j\n",
      "   4.47034836e-08-7.45058060e-08j]\n",
      " [ 1.11758709e-07+6.70552254e-08j  5.30853868e-08+5.96046448e-08j\n",
      "   6.75208867e-09+7.07805157e-08j -8.66129994e-08-7.45058060e-08j\n",
      "   8.94069672e-08-1.05239451e-07j  2.98023224e-08-1.01281330e-07j\n",
      "  -8.19563866e-08-4.47034836e-08j  4.47034836e-08+7.45058060e-08j\n",
      "   9.99999762e-01+0.00000000e+00j]]\n",
      "I:\n",
      " [[1. 0. 0. 0. 0. 0. 0. 0. 0.]\n",
      " [0. 1. 0. 0. 0. 0. 0. 0. 0.]\n",
      " [0. 0. 1. 0. 0. 0. 0. 0. 0.]\n",
      " [0. 0. 0. 1. 0. 0. 0. 0. 0.]\n",
      " [0. 0. 0. 0. 1. 0. 0. 0. 0.]\n",
      " [0. 0. 0. 0. 0. 1. 0. 0. 0.]\n",
      " [0. 0. 0. 0. 0. 0. 1. 0. 0.]\n",
      " [0. 0. 0. 0. 0. 0. 0. 1. 0.]\n",
      " [0. 0. 0. 0. 0. 0. 0. 0. 1.]]\n"
     ]
    },
    {
     "data": {
      "text/plain": [
       "True"
      ]
     },
     "execution_count": 61,
     "metadata": {},
     "output_type": "execute_result"
    }
   ],
   "source": [
    "n = 2\n",
    "U1 = buildU(n, np.random.uniform(-1, 1, 3 ** (2*n)))\n",
    "U2 = np.conj(U1).T # U-dagger\n",
    "print('U1 @ U2:\\n', U1 @ U2)\n",
    "I = np.eye(3 ** n)\n",
    "print('I:\\n',I)\n",
    "# U * U_dagger = I => unitary\n",
    "# expected: true\n",
    "np.allclose(U1 @ U2, I, atol=1e-06)"
   ]
  },
  {
   "cell_type": "markdown",
   "metadata": {},
   "source": [
    "## get Circuit with Encode"
   ]
  },
  {
   "cell_type": "code",
   "execution_count": null,
   "metadata": {},
   "outputs": [],
   "source": [
    "def getEncodedCircuit(n, classical_bits):\n",
    "    bits_str = ''.join(classical_bits)\n",
    "    \n",
    "    if bits_str in circuits_bits:\n",
    "        return circuits_bits[bits_str]\n",
    "    \n",
    "    \"\"\"\n",
    "        getEncodedCircuit(circuit, [\"01\", \"11\", \"12\"])\n",
    "            => apply U_01 U_11 U_12\n",
    "    \"\"\"\n",
    "    circuit = getCircuit(n)\n",
    "    \n",
    "#     for i in range(n):\n",
    "#         circuit = operate(circuit, n, classical_bits[i], target=i)\n",
    "    \n",
    "#     # memoized\n",
    "#     circuits_bits[bits_str] = circuit\n",
    "\n",
    "    return circuit"
   ]
  },
  {
   "cell_type": "code",
   "execution_count": null,
   "metadata": {},
   "outputs": [],
   "source": [
    "circuit_test = getEncodeCircuit(2, ['01', '11'])\n",
    "\n",
    "np.allclose(circuit_test @ (circuit_test.conj().T), I, atol=1e-06)"
   ]
  }
 ],
 "metadata": {
  "kernelspec": {
   "display_name": "Python 3",
   "language": "python",
   "name": "python3"
  },
  "language_info": {
   "codemirror_mode": {
    "name": "ipython",
    "version": 3
   },
   "file_extension": ".py",
   "mimetype": "text/x-python",
   "name": "python",
   "nbconvert_exporter": "python",
   "pygments_lexer": "ipython3",
   "version": "3.6.8"
  }
 },
 "nbformat": 4,
 "nbformat_minor": 4
}
