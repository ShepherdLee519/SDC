{
 "cells": [
  {
   "cell_type": "code",
   "execution_count": 126,
   "metadata": {},
   "outputs": [],
   "source": [
    "import cirq\n",
    "import numpy as np\n",
    "\n",
    "from cirq.contrib.svg import SVGCircuit"
   ]
  },
  {
   "cell_type": "code",
   "execution_count": 161,
   "metadata": {},
   "outputs": [],
   "source": [
    "densityMatrixSimulator = cirq.DensityMatrixSimulator()\n",
    "simulator = cirq.Simulator()"
   ]
  },
  {
   "cell_type": "markdown",
   "metadata": {},
   "source": [
    "## 0. Qutrit Bases"
   ]
  },
  {
   "cell_type": "code",
   "execution_count": 127,
   "metadata": {},
   "outputs": [],
   "source": [
    "def getBases(dimension: int) -> list:\n",
    "    bases = [np.zeros(dimension) for i in range(dimension) ]\n",
    "    \n",
    "    for i in range(dimension):\n",
    "        bases[i][i] = 1\n",
    "    \n",
    "    return bases"
   ]
  },
  {
   "cell_type": "code",
   "execution_count": 128,
   "metadata": {},
   "outputs": [
    {
     "name": "stdout",
     "output_type": "stream",
     "text": [
      "[array([1., 0., 0.]), array([0., 1., 0.]), array([0., 0., 1.])]\n"
     ]
    }
   ],
   "source": [
    "# Test 1 - getBases\n",
    "\n",
    "print(getBases(3))"
   ]
  },
  {
   "cell_type": "markdown",
   "metadata": {},
   "source": [
    "## 1. Init Circuit"
   ]
  },
  {
   "cell_type": "code",
   "execution_count": 105,
   "metadata": {},
   "outputs": [],
   "source": [
    "from cirq.ops import SingleQubitGate, TwoQubitGate"
   ]
  },
  {
   "cell_type": "code",
   "execution_count": 5,
   "metadata": {},
   "outputs": [],
   "source": [
    "# H gate & CNOT gate with qutrits\n",
    "# reference: https://iopscience.iop.org/article/10.1088/1742-6596/766/1/012014/pdf"
   ]
  },
  {
   "cell_type": "markdown",
   "metadata": {},
   "source": [
    "### - 1.1 Qutrit H Gate"
   ]
  },
  {
   "cell_type": "code",
   "execution_count": 106,
   "metadata": {},
   "outputs": [],
   "source": [
    "class QutritHGate(SingleQubitGate):\n",
    "    def _qid_shape_(self):\n",
    "        return (3,)\n",
    "    \n",
    "    def _unitary_(self):\n",
    "        return np.array([\n",
    "            [1, 1, 1],\n",
    "            [1, np.exp(2 * np.pi * 1.0j / 3), np.exp(-2 * np.pi * 1.0j / 3)],\n",
    "            [1, np.exp(-2 * np.pi * 1.0j / 3), np.exp(2 * np.pi * 1.0j / 3)]\n",
    "        ]) / np.sqrt(3)\n",
    "    \n",
    "    def _circuit_diagram_info_(self, args):\n",
    "        return '[H_3]'"
   ]
  },
  {
   "cell_type": "markdown",
   "metadata": {},
   "source": [
    "### - 1.2 Qutrit CNOT gate"
   ]
  },
  {
   "cell_type": "code",
   "execution_count": 141,
   "metadata": {},
   "outputs": [
    {
     "name": "stdout",
     "output_type": "stream",
     "text": [
      "[[1. 0. 0. 0. 0. 0. 0. 0. 0.]\n",
      " [0. 1. 0. 0. 0. 0. 0. 0. 0.]\n",
      " [0. 0. 1. 0. 0. 0. 0. 0. 0.]\n",
      " [0. 0. 0. 0. 0. 1. 0. 0. 0.]\n",
      " [0. 0. 0. 1. 0. 0. 0. 0. 0.]\n",
      " [0. 0. 0. 0. 1. 0. 0. 0. 0.]\n",
      " [0. 0. 0. 0. 0. 0. 0. 1. 0.]\n",
      " [0. 0. 0. 0. 0. 0. 0. 0. 1.]\n",
      " [0. 0. 0. 0. 0. 0. 1. 0. 0.]]\n"
     ]
    }
   ],
   "source": [
    "dimension_ = 3\n",
    "b_ = getBases(dimension_)\n",
    "col_ = lambda a,b : np.kron(b_[a], b_[b]).reshape([dimension_ ** 2, 1])\n",
    "row_ = lambda a,b : col_(a, b).conj().T\n",
    "\n",
    "# according to: https://iopscience.iop.org/article/10.1088/1742-6596/766/1/012014/pdf\n",
    "# \n",
    "# CNOT_a(T) |a,b> = |a, b @ a> # @ means XOR here\n",
    "# CNOT_a(T) = |00><00| + |01><01| + |02><02| + |10><12| + |11><10|\n",
    "#             |12><11| + |20><21| + |21><22| + |22><20|\n",
    "\n",
    "CNOT_ = col_(0, 0) @ row_(0, 0) + col_(0, 1) @ row_(0, 1) + col_(0, 2) @ row_(0, 2) + \\\n",
    "        col_(1, 0) @ row_(1, 2) + col_(1, 1) @ row_(1, 0) + col_(1, 2) @ row_(1, 1) + \\\n",
    "        col_(2, 0) @ row_(2, 1) + col_(2, 1) @ row_(2, 2) + col_(2, 2) @ row_(2, 0)\n",
    "\n",
    "print(CNOT_)"
   ]
  },
  {
   "cell_type": "code",
   "execution_count": 108,
   "metadata": {},
   "outputs": [],
   "source": [
    "class QutritCNOTGate(TwoQubitGate):\n",
    "    def _qid_shape_(self):\n",
    "        return (3, 3)\n",
    "    \n",
    "    def _unitary_(self):\n",
    "        return np.array([\n",
    "            [1., 0., 0., 0., 0., 0., 0., 0., 0.],\n",
    "            [0., 1., 0., 0., 0., 0., 0., 0., 0.],\n",
    "            [0., 0., 1., 0., 0., 0., 0., 0., 0.],\n",
    "            [0., 0., 0., 0., 0., 1., 0., 0., 0.],\n",
    "            [0., 0., 0., 1., 0., 0., 0., 0., 0.],\n",
    "            [0., 0., 0., 0., 1., 0., 0., 0., 0.],\n",
    "            [0., 0., 0., 0., 0., 0., 0., 1., 0.],\n",
    "            [0., 0., 0., 0., 0., 0., 0., 0., 1.],\n",
    "            [0., 0., 0., 0., 0., 0., 1., 0., 0.],\n",
    "        ])\n",
    "    \n",
    "    def _circuit_diagram_info_(self, args):\n",
    "        return \"CNOT-control\", \"CNOT-target\""
   ]
  },
  {
   "cell_type": "markdown",
   "metadata": {},
   "source": [
    "### - 1.3 Init circuit"
   ]
  },
  {
   "cell_type": "code",
   "execution_count": 109,
   "metadata": {},
   "outputs": [],
   "source": [
    "import collections\n",
    "\n",
    "QC = collections.namedtuple('QC', 'n circuit senders receivers')"
   ]
  },
  {
   "cell_type": "code",
   "execution_count": 155,
   "metadata": {},
   "outputs": [],
   "source": [
    "def initCircuit(n: int, dimension: int=3) -> QC:\n",
    "    \"\"\"\n",
    "    Args:\n",
    "        n: qubits' num\n",
    "        dimension: in qutrit system, it should be 3 \n",
    "    -------\n",
    "    Returns:\n",
    "        A QC(n, circuit, senders, receivers) object\n",
    "        while QC.circuit is a prepared(created entangled qudits) cirq.Circuit\n",
    "    \"\"\"\n",
    "    circuit = cirq.Circuit()\n",
    "    senders = [cirq.LineQid(i, dimension=dimension) for i in range(n)]\n",
    "    receivers = [cirq.LineQid(i, dimension=dimension) for i in range(n, 2 * n)]\n",
    "\n",
    "    for sender, receiver in zip(senders, receivers):\n",
    "        circuit.append([\n",
    "            QutritHGate().on(sender),\n",
    "            QutritCNOTGate().on(sender, receiver)\n",
    "        ])\n",
    "    \n",
    "    return QC(n, circuit, senders, receivers)"
   ]
  },
  {
   "cell_type": "code",
   "execution_count": 130,
   "metadata": {},
   "outputs": [
    {
     "data": {
      "image/svg+xml": [
       "<svg xmlns=\"http://www.w3.org/2000/svg\" width=\"386.3934375\" height=\"240.0\"><line x1=\"38.5016796875\" x2=\"356.3934375\" y1=\"45.0\" y2=\"45.0\" stroke=\"#1967d2\" stroke-width=\"1\" /><line x1=\"38.5016796875\" x2=\"356.3934375\" y1=\"95.0\" y2=\"95.0\" stroke=\"#1967d2\" stroke-width=\"1\" /><line x1=\"38.5016796875\" x2=\"356.3934375\" y1=\"145.0\" y2=\"145.0\" stroke=\"#1967d2\" stroke-width=\"1\" /><line x1=\"38.5016796875\" x2=\"356.3934375\" y1=\"195.0\" y2=\"195.0\" stroke=\"#1967d2\" stroke-width=\"1\" /><line x1=\"138.60781250000002\" x2=\"336.3934375\" y1=\"5.0\" y2=\"5.0\" stroke=\"black\" stroke-width=\"1\" /><line x1=\"138.60781250000002\" x2=\"336.3934375\" y1=\"235.0\" y2=\"235.0\" stroke=\"black\" stroke-width=\"1\" /><line x1=\"185.55421875000002\" x2=\"185.55421875000002\" y1=\"45.0\" y2=\"145.0\" stroke=\"black\" stroke-width=\"3\" /><line x1=\"279.44703125\" x2=\"279.44703125\" y1=\"95.0\" y2=\"195.0\" stroke=\"black\" stroke-width=\"3\" /><line x1=\"138.60781250000002\" x2=\"138.60781250000002\" y1=\"5.0\" y2=\"15.0\" stroke=\"black\" stroke-width=\"3\" /><line x1=\"336.3934375\" x2=\"336.3934375\" y1=\"5.0\" y2=\"15.0\" stroke=\"black\" stroke-width=\"3\" /><line x1=\"138.60781250000002\" x2=\"138.60781250000002\" y1=\"225.0\" y2=\"235.0\" stroke=\"black\" stroke-width=\"3\" /><line x1=\"336.3934375\" x2=\"336.3934375\" y1=\"225.0\" y2=\"235.0\" stroke=\"black\" stroke-width=\"3\" /><rect x=\"10.0\" y=\"25.0\" width=\"57.003359375\" height=\"40\" stroke=\"black\" fill=\"white\" stroke-width=\"0\" /><text x=\"38.5016796875\" y=\"45.0\" dominant-baseline=\"middle\" text-anchor=\"middle\" font-size=\"14px\" font-family=\"Arial\">0 (d=3): </text><rect x=\"10.0\" y=\"75.0\" width=\"57.003359375\" height=\"40\" stroke=\"black\" fill=\"white\" stroke-width=\"0\" /><text x=\"38.5016796875\" y=\"95.0\" dominant-baseline=\"middle\" text-anchor=\"middle\" font-size=\"14px\" font-family=\"Arial\">1 (d=3): </text><rect x=\"10.0\" y=\"125.0\" width=\"57.003359375\" height=\"40\" stroke=\"black\" fill=\"white\" stroke-width=\"0\" /><text x=\"38.5016796875\" y=\"145.0\" dominant-baseline=\"middle\" text-anchor=\"middle\" font-size=\"14px\" font-family=\"Arial\">2 (d=3): </text><rect x=\"10.0\" y=\"175.0\" width=\"57.003359375\" height=\"40\" stroke=\"black\" fill=\"white\" stroke-width=\"0\" /><text x=\"38.5016796875\" y=\"195.0\" dominant-baseline=\"middle\" text-anchor=\"middle\" font-size=\"14px\" font-family=\"Arial\">3 (d=3): </text><rect x=\"87.003359375\" y=\"25.0\" width=\"41.604453125000006\" height=\"40\" stroke=\"black\" fill=\"white\" stroke-width=\"1\" /><text x=\"107.80558593750001\" y=\"45.0\" dominant-baseline=\"middle\" text-anchor=\"middle\" font-size=\"14px\" font-family=\"Arial\">[H_3]</text><rect x=\"87.003359375\" y=\"75.0\" width=\"41.604453125000006\" height=\"40\" stroke=\"black\" fill=\"white\" stroke-width=\"1\" /><text x=\"107.80558593750001\" y=\"95.0\" dominant-baseline=\"middle\" text-anchor=\"middle\" font-size=\"14px\" font-family=\"Arial\">[H_3]</text><rect x=\"138.60781250000002\" y=\"25.0\" width=\"93.8928125\" height=\"40\" stroke=\"black\" fill=\"white\" stroke-width=\"1\" /><text x=\"185.55421875000002\" y=\"45.0\" dominant-baseline=\"middle\" text-anchor=\"middle\" font-size=\"14px\" font-family=\"Arial\">CNOT-control</text><rect x=\"138.60781250000002\" y=\"125.0\" width=\"93.8928125\" height=\"40\" stroke=\"black\" fill=\"white\" stroke-width=\"1\" /><text x=\"185.55421875000002\" y=\"145.0\" dominant-baseline=\"middle\" text-anchor=\"middle\" font-size=\"14px\" font-family=\"Arial\">CNOT-target</text><rect x=\"232.500625\" y=\"75.0\" width=\"93.8928125\" height=\"40\" stroke=\"black\" fill=\"white\" stroke-width=\"1\" /><text x=\"279.44703125\" y=\"95.0\" dominant-baseline=\"middle\" text-anchor=\"middle\" font-size=\"14px\" font-family=\"Arial\">CNOT-control</text><rect x=\"232.500625\" y=\"175.0\" width=\"93.8928125\" height=\"40\" stroke=\"black\" fill=\"white\" stroke-width=\"1\" /><text x=\"279.44703125\" y=\"195.0\" dominant-baseline=\"middle\" text-anchor=\"middle\" font-size=\"14px\" font-family=\"Arial\">CNOT-target</text></svg>"
      ],
      "text/plain": [
       "<cirq.contrib.svg.svg.SVGCircuit at 0x16c4e12d9b0>"
      ]
     },
     "execution_count": 130,
     "metadata": {},
     "output_type": "execute_result"
    }
   ],
   "source": [
    "# Test 2 - prepare entangled qutrits\n",
    "\n",
    "qc_test = initCircuit(2)\n",
    "SVGCircuit(qc_test.circuit)"
   ]
  },
  {
   "cell_type": "markdown",
   "metadata": {},
   "source": [
    "## 2. Single-body Operators"
   ]
  },
  {
   "cell_type": "code",
   "execution_count": 156,
   "metadata": {},
   "outputs": [],
   "source": [
    "def getUnitaries(dimension: int) -> dict:\n",
    "    \"\"\" create d-dimension single-body operators\n",
    "    \n",
    "    according to: https://arxiv.org/pdf/quant-ph/0110112.pdf\n",
    "    \n",
    "    Args:\n",
    "        dimension: 3 for qutrit system\n",
    "    -------    \n",
    "    Returns:\n",
    "        dict[str, numpy.ndarray]\n",
    "    -------    \n",
    "    Example:\n",
    "        get the single-body operator U_20:\n",
    "        getUnitaries(3)['20']\n",
    "    \"\"\"\n",
    "    unitaries = dict()\n",
    "    \n",
    "    for n in range(dimension):\n",
    "        for m in range(dimension):\n",
    "            # U_nm\n",
    "            sup = str(n) + str(m)\n",
    "            U = np.eye(dimension).astype('complex64')\n",
    "            \n",
    "            for j in range(dimension):\n",
    "                for k in range(dimension):\n",
    "                    delta = 1 if j == (k + m) % dimension else 0\n",
    "                    \n",
    "                    U[j, k] = delta * np.exp(2 * np.pi * 1.0j * k * n / dimension)\n",
    "            \n",
    "            unitaries[sup] = U\n",
    "    \n",
    "    return unitaries"
   ]
  },
  {
   "cell_type": "code",
   "execution_count": 135,
   "metadata": {},
   "outputs": [
    {
     "name": "stdout",
     "output_type": "stream",
     "text": [
      "Shape of unitary: (3, 3)\n",
      "[[ 0. +0.j        -0.5-0.8660254j -0. +0.j       ]\n",
      " [ 0. +0.j         0. -0.j        -0.5+0.8660254j]\n",
      " [ 1. +0.j         0. -0.j        -0. +0.j       ]]\n"
     ]
    }
   ],
   "source": [
    "# Test 3 - get U\n",
    "\n",
    "print(f\"Shape of unitary: {getUnitaries(3)['00'].shape}\")\n",
    "print(getUnitaries(3)['22'])"
   ]
  },
  {
   "cell_type": "markdown",
   "metadata": {},
   "source": [
    "### - 2.1 single-body U gate"
   ]
  },
  {
   "cell_type": "code",
   "execution_count": 136,
   "metadata": {},
   "outputs": [],
   "source": [
    "class QutritUGates(SingleQubitGate):\n",
    "    def __init__(self, which: str):\n",
    "        super(QutritUGates, self)\n",
    "        \n",
    "        self.unitaries = getUnitaries(3)\n",
    "        self.which = which # eg. \"00\"\n",
    "        \n",
    "    def _qid_shape_(self):\n",
    "        return (3,)\n",
    "    \n",
    "    def _unitary_(self):\n",
    "        return self.unitaries[self.which]\n",
    "    \n",
    "    def _circuit_diagram_info_(self, args):\n",
    "        return f'U_{self.which}'"
   ]
  },
  {
   "cell_type": "code",
   "execution_count": 137,
   "metadata": {},
   "outputs": [
    {
     "data": {
      "image/svg+xml": [
       "<svg xmlns=\"http://www.w3.org/2000/svg\" width=\"446.3934375\" height=\"240.0\"><line x1=\"38.5016796875\" x2=\"416.3934375\" y1=\"45.0\" y2=\"45.0\" stroke=\"#1967d2\" stroke-width=\"1\" /><line x1=\"38.5016796875\" x2=\"416.3934375\" y1=\"95.0\" y2=\"95.0\" stroke=\"#1967d2\" stroke-width=\"1\" /><line x1=\"38.5016796875\" x2=\"416.3934375\" y1=\"145.0\" y2=\"145.0\" stroke=\"#1967d2\" stroke-width=\"1\" /><line x1=\"38.5016796875\" x2=\"416.3934375\" y1=\"195.0\" y2=\"195.0\" stroke=\"#1967d2\" stroke-width=\"1\" /><line x1=\"138.60781250000002\" x2=\"336.3934375\" y1=\"5.0\" y2=\"5.0\" stroke=\"black\" stroke-width=\"1\" /><line x1=\"138.60781250000002\" x2=\"336.3934375\" y1=\"235.0\" y2=\"235.0\" stroke=\"black\" stroke-width=\"1\" /><line x1=\"185.55421875000002\" x2=\"185.55421875000002\" y1=\"45.0\" y2=\"145.0\" stroke=\"black\" stroke-width=\"3\" /><line x1=\"279.44703125\" x2=\"279.44703125\" y1=\"95.0\" y2=\"195.0\" stroke=\"black\" stroke-width=\"3\" /><line x1=\"138.60781250000002\" x2=\"138.60781250000002\" y1=\"5.0\" y2=\"15.0\" stroke=\"black\" stroke-width=\"3\" /><line x1=\"336.3934375\" x2=\"336.3934375\" y1=\"5.0\" y2=\"15.0\" stroke=\"black\" stroke-width=\"3\" /><line x1=\"138.60781250000002\" x2=\"138.60781250000002\" y1=\"225.0\" y2=\"235.0\" stroke=\"black\" stroke-width=\"3\" /><line x1=\"336.3934375\" x2=\"336.3934375\" y1=\"225.0\" y2=\"235.0\" stroke=\"black\" stroke-width=\"3\" /><rect x=\"10.0\" y=\"25.0\" width=\"57.003359375\" height=\"40\" stroke=\"black\" fill=\"white\" stroke-width=\"0\" /><text x=\"38.5016796875\" y=\"45.0\" dominant-baseline=\"middle\" text-anchor=\"middle\" font-size=\"14px\" font-family=\"Arial\">0 (d=3): </text><rect x=\"10.0\" y=\"75.0\" width=\"57.003359375\" height=\"40\" stroke=\"black\" fill=\"white\" stroke-width=\"0\" /><text x=\"38.5016796875\" y=\"95.0\" dominant-baseline=\"middle\" text-anchor=\"middle\" font-size=\"14px\" font-family=\"Arial\">1 (d=3): </text><rect x=\"10.0\" y=\"125.0\" width=\"57.003359375\" height=\"40\" stroke=\"black\" fill=\"white\" stroke-width=\"0\" /><text x=\"38.5016796875\" y=\"145.0\" dominant-baseline=\"middle\" text-anchor=\"middle\" font-size=\"14px\" font-family=\"Arial\">2 (d=3): </text><rect x=\"10.0\" y=\"175.0\" width=\"57.003359375\" height=\"40\" stroke=\"black\" fill=\"white\" stroke-width=\"0\" /><text x=\"38.5016796875\" y=\"195.0\" dominant-baseline=\"middle\" text-anchor=\"middle\" font-size=\"14px\" font-family=\"Arial\">3 (d=3): </text><rect x=\"87.003359375\" y=\"25.0\" width=\"41.604453125000006\" height=\"40\" stroke=\"black\" fill=\"white\" stroke-width=\"1\" /><text x=\"107.80558593750001\" y=\"45.0\" dominant-baseline=\"middle\" text-anchor=\"middle\" font-size=\"14px\" font-family=\"Arial\">[H_3]</text><rect x=\"87.003359375\" y=\"75.0\" width=\"41.604453125000006\" height=\"40\" stroke=\"black\" fill=\"white\" stroke-width=\"1\" /><text x=\"107.80558593750001\" y=\"95.0\" dominant-baseline=\"middle\" text-anchor=\"middle\" font-size=\"14px\" font-family=\"Arial\">[H_3]</text><rect x=\"138.60781250000002\" y=\"25.0\" width=\"93.8928125\" height=\"40\" stroke=\"black\" fill=\"white\" stroke-width=\"1\" /><text x=\"185.55421875000002\" y=\"45.0\" dominant-baseline=\"middle\" text-anchor=\"middle\" font-size=\"14px\" font-family=\"Arial\">CNOT-control</text><rect x=\"138.60781250000002\" y=\"125.0\" width=\"93.8928125\" height=\"40\" stroke=\"black\" fill=\"white\" stroke-width=\"1\" /><text x=\"185.55421875000002\" y=\"145.0\" dominant-baseline=\"middle\" text-anchor=\"middle\" font-size=\"14px\" font-family=\"Arial\">CNOT-target</text><rect x=\"232.500625\" y=\"75.0\" width=\"93.8928125\" height=\"40\" stroke=\"black\" fill=\"white\" stroke-width=\"1\" /><text x=\"279.44703125\" y=\"95.0\" dominant-baseline=\"middle\" text-anchor=\"middle\" font-size=\"14px\" font-family=\"Arial\">CNOT-control</text><rect x=\"232.500625\" y=\"175.0\" width=\"93.8928125\" height=\"40\" stroke=\"black\" fill=\"white\" stroke-width=\"1\" /><text x=\"279.44703125\" y=\"195.0\" dominant-baseline=\"middle\" text-anchor=\"middle\" font-size=\"14px\" font-family=\"Arial\">CNOT-target</text><rect x=\"356.3934375\" y=\"25.0\" width=\"40\" height=\"40\" stroke=\"black\" fill=\"white\" stroke-width=\"1\" /><text x=\"376.3934375\" y=\"45.0\" dominant-baseline=\"middle\" text-anchor=\"middle\" font-size=\"14px\" font-family=\"Arial\">U_11</text></svg>"
      ],
      "text/plain": [
       "<cirq.contrib.svg.svg.SVGCircuit at 0x16c4da673c8>"
      ]
     },
     "execution_count": 137,
     "metadata": {},
     "output_type": "execute_result"
    }
   ],
   "source": [
    "# Test 3 - apply unitary gate\n",
    "\n",
    "qc_test = initCircuit(2)\n",
    "\n",
    "qc_test.circuit.append(\n",
    "    QutritUGates('11').on(qc_test.senders[0])\n",
    ")\n",
    "SVGCircuit(qc_test.circuit)"
   ]
  },
  {
   "cell_type": "markdown",
   "metadata": {},
   "source": [
    "## 3. get encoded circuit"
   ]
  },
  {
   "cell_type": "code",
   "execution_count": 157,
   "metadata": {},
   "outputs": [],
   "source": [
    "circuits_bits = dict()\n",
    "\n",
    "def getCircuit(qc: QC, classical_bits: list) -> cirq.Circuit:\n",
    "    \"\"\" get encoded circuit\n",
    "    \n",
    "    Args:\n",
    "        qc: QC(n, circuit, senders, receivers) object\n",
    "        classical_bits: eg. [\"01\", \"21\", ...]. The size of classical_bits\n",
    "            should be equal to the size of senders.\n",
    "    -------        \n",
    "    Returns:\n",
    "        return a encoded cirq.Circuit\n",
    "    \"\"\"\n",
    "    # [\"00\", \"01\"] => \"0001\" use as the hash key\n",
    "    bits_str = ''.join(classical_bits)\n",
    "    \n",
    "    # memoized\n",
    "    if bits_str in circuits_bits:\n",
    "        return circuits_bits[bits_str].copy()\n",
    "    \n",
    "    \"\"\"\n",
    "        getCircuit(circuit, [\"01\", \"21\", ...])\n",
    "            => U_01(A1), U_21(A2), ...\n",
    "    \"\"\"\n",
    "    circuit_copy = qc.circuit.copy()\n",
    "    \n",
    "    for i, sender in enumerate(qc.senders):\n",
    "        # eg. [\"21\", ...] => U_21( sender_0 ) ...\n",
    "        circuit_copy.append(\n",
    "            QutritUGates(classical_bits[i]).on(sender)\n",
    "        )\n",
    "        \n",
    "    circuits_bits[bits_str] = circuit_copy\n",
    "    \n",
    "    return circuit_copy.copy()"
   ]
  },
  {
   "cell_type": "code",
   "execution_count": 140,
   "metadata": {},
   "outputs": [
    {
     "data": {
      "image/svg+xml": [
       "<svg xmlns=\"http://www.w3.org/2000/svg\" width=\"448.0916796875\" height=\"240.0\"><line x1=\"38.5016796875\" x2=\"418.0916796875\" y1=\"45.0\" y2=\"45.0\" stroke=\"#1967d2\" stroke-width=\"1\" /><line x1=\"38.5016796875\" x2=\"418.0916796875\" y1=\"95.0\" y2=\"95.0\" stroke=\"#1967d2\" stroke-width=\"1\" /><line x1=\"38.5016796875\" x2=\"418.0916796875\" y1=\"145.0\" y2=\"145.0\" stroke=\"#1967d2\" stroke-width=\"1\" /><line x1=\"38.5016796875\" x2=\"418.0916796875\" y1=\"195.0\" y2=\"195.0\" stroke=\"#1967d2\" stroke-width=\"1\" /><line x1=\"138.60781250000002\" x2=\"336.3934375\" y1=\"5.0\" y2=\"5.0\" stroke=\"black\" stroke-width=\"1\" /><line x1=\"138.60781250000002\" x2=\"336.3934375\" y1=\"235.0\" y2=\"235.0\" stroke=\"black\" stroke-width=\"1\" /><line x1=\"185.55421875000002\" x2=\"185.55421875000002\" y1=\"45.0\" y2=\"145.0\" stroke=\"black\" stroke-width=\"3\" /><line x1=\"279.44703125\" x2=\"279.44703125\" y1=\"95.0\" y2=\"195.0\" stroke=\"black\" stroke-width=\"3\" /><line x1=\"138.60781250000002\" x2=\"138.60781250000002\" y1=\"5.0\" y2=\"15.0\" stroke=\"black\" stroke-width=\"3\" /><line x1=\"336.3934375\" x2=\"336.3934375\" y1=\"5.0\" y2=\"15.0\" stroke=\"black\" stroke-width=\"3\" /><line x1=\"138.60781250000002\" x2=\"138.60781250000002\" y1=\"225.0\" y2=\"235.0\" stroke=\"black\" stroke-width=\"3\" /><line x1=\"336.3934375\" x2=\"336.3934375\" y1=\"225.0\" y2=\"235.0\" stroke=\"black\" stroke-width=\"3\" /><rect x=\"10.0\" y=\"25.0\" width=\"57.003359375\" height=\"40\" stroke=\"black\" fill=\"white\" stroke-width=\"0\" /><text x=\"38.5016796875\" y=\"45.0\" dominant-baseline=\"middle\" text-anchor=\"middle\" font-size=\"14px\" font-family=\"Arial\">0 (d=3): </text><rect x=\"10.0\" y=\"75.0\" width=\"57.003359375\" height=\"40\" stroke=\"black\" fill=\"white\" stroke-width=\"0\" /><text x=\"38.5016796875\" y=\"95.0\" dominant-baseline=\"middle\" text-anchor=\"middle\" font-size=\"14px\" font-family=\"Arial\">1 (d=3): </text><rect x=\"10.0\" y=\"125.0\" width=\"57.003359375\" height=\"40\" stroke=\"black\" fill=\"white\" stroke-width=\"0\" /><text x=\"38.5016796875\" y=\"145.0\" dominant-baseline=\"middle\" text-anchor=\"middle\" font-size=\"14px\" font-family=\"Arial\">2 (d=3): </text><rect x=\"10.0\" y=\"175.0\" width=\"57.003359375\" height=\"40\" stroke=\"black\" fill=\"white\" stroke-width=\"0\" /><text x=\"38.5016796875\" y=\"195.0\" dominant-baseline=\"middle\" text-anchor=\"middle\" font-size=\"14px\" font-family=\"Arial\">3 (d=3): </text><rect x=\"87.003359375\" y=\"25.0\" width=\"41.604453125000006\" height=\"40\" stroke=\"black\" fill=\"white\" stroke-width=\"1\" /><text x=\"107.80558593750001\" y=\"45.0\" dominant-baseline=\"middle\" text-anchor=\"middle\" font-size=\"14px\" font-family=\"Arial\">[H_3]</text><rect x=\"87.003359375\" y=\"75.0\" width=\"41.604453125000006\" height=\"40\" stroke=\"black\" fill=\"white\" stroke-width=\"1\" /><text x=\"107.80558593750001\" y=\"95.0\" dominant-baseline=\"middle\" text-anchor=\"middle\" font-size=\"14px\" font-family=\"Arial\">[H_3]</text><rect x=\"138.60781250000002\" y=\"25.0\" width=\"93.8928125\" height=\"40\" stroke=\"black\" fill=\"white\" stroke-width=\"1\" /><text x=\"185.55421875000002\" y=\"45.0\" dominant-baseline=\"middle\" text-anchor=\"middle\" font-size=\"14px\" font-family=\"Arial\">CNOT-control</text><rect x=\"138.60781250000002\" y=\"125.0\" width=\"93.8928125\" height=\"40\" stroke=\"black\" fill=\"white\" stroke-width=\"1\" /><text x=\"185.55421875000002\" y=\"145.0\" dominant-baseline=\"middle\" text-anchor=\"middle\" font-size=\"14px\" font-family=\"Arial\">CNOT-target</text><rect x=\"232.500625\" y=\"75.0\" width=\"93.8928125\" height=\"40\" stroke=\"black\" fill=\"white\" stroke-width=\"1\" /><text x=\"279.44703125\" y=\"95.0\" dominant-baseline=\"middle\" text-anchor=\"middle\" font-size=\"14px\" font-family=\"Arial\">CNOT-control</text><rect x=\"232.500625\" y=\"175.0\" width=\"93.8928125\" height=\"40\" stroke=\"black\" fill=\"white\" stroke-width=\"1\" /><text x=\"279.44703125\" y=\"195.0\" dominant-baseline=\"middle\" text-anchor=\"middle\" font-size=\"14px\" font-family=\"Arial\">CNOT-target</text><rect x=\"356.3934375\" y=\"25.0\" width=\"41.6982421875\" height=\"40\" stroke=\"black\" fill=\"white\" stroke-width=\"1\" /><text x=\"377.24255859375\" y=\"45.0\" dominant-baseline=\"middle\" text-anchor=\"middle\" font-size=\"14px\" font-family=\"Arial\">U_10</text><rect x=\"356.3934375\" y=\"75.0\" width=\"41.6982421875\" height=\"40\" stroke=\"black\" fill=\"white\" stroke-width=\"1\" /><text x=\"377.24255859375\" y=\"95.0\" dominant-baseline=\"middle\" text-anchor=\"middle\" font-size=\"14px\" font-family=\"Arial\">U_21</text></svg>"
      ],
      "text/plain": [
       "<cirq.contrib.svg.svg.SVGCircuit at 0x16c4e13a320>"
      ]
     },
     "execution_count": 140,
     "metadata": {},
     "output_type": "execute_result"
    }
   ],
   "source": [
    "# Test 4 - get encoded circuit : ['10', '21']\n",
    "\n",
    "qc_test = initCircuit(2)\n",
    "\n",
    "SVGCircuit(getCircuit(qc_test, ['10', '21']))"
   ]
  },
  {
   "cell_type": "markdown",
   "metadata": {},
   "source": [
    "## 4. Build Unitary - (locking operator)"
   ]
  },
  {
   "cell_type": "markdown",
   "metadata": {},
   "source": [
    "### - 4.1 init bits Combinations"
   ]
  },
  {
   "cell_type": "code",
   "execution_count": 158,
   "metadata": {},
   "outputs": [],
   "source": [
    "def generateCombs(n: int, limit: int, combs: list, comb: str):\n",
    "    \"\"\" tool functions that recursively generates bits' combinations\n",
    "    \n",
    "    Args:\n",
    "        n: each combination's size\n",
    "        limit: the upper bound of the num occured in combination. \n",
    "            if limit = 2, will generate binary bits' combinations. \n",
    "        combs: combinations' container. Each combination is a str like \"010\".\n",
    "        comb: combination that already formed.\n",
    "    -------    \n",
    "    Returns:\n",
    "        No returns, but target combinations will all in container: <combs>\n",
    "    -------\n",
    "    Example:\n",
    "        container = []\n",
    "        generateCombs(2, 9, container, \"\")\n",
    "        \n",
    "        After call: container == [\"00\", \"01\", ... \"48\", \"50\" ... \"88\"]\n",
    "    \"\"\"\n",
    "    if len(comb) == n:\n",
    "        combs.append(comb)\n",
    "\n",
    "        return\n",
    "\n",
    "    for i in range(limit):\n",
    "        # recursively call\n",
    "        generateCombs(n, limit, combs, comb + str(i))"
   ]
  },
  {
   "cell_type": "code",
   "execution_count": 146,
   "metadata": {},
   "outputs": [
    {
     "name": "stdout",
     "output_type": "stream",
     "text": [
      "['00', '01', '02', '03', '04', '05', '06', '07', '08', '10', '11', '12', '13', '14', '15', '16', '17', '18', '20', '21', '22', '23', '24', '25', '26', '27', '28', '30', '31', '32', '33', '34', '35', '36', '37', '38', '40', '41', '42', '43', '44', '45', '46', '47', '48', '50', '51', '52', '53', '54', '55', '56', '57', '58', '60', '61', '62', '63', '64', '65', '66', '67', '68', '70', '71', '72', '73', '74', '75', '76', '77', '78', '80', '81', '82', '83', '84', '85', '86', '87', '88']\n",
      "combinations size: 81\n"
     ]
    }
   ],
   "source": [
    "# Test 5 - get Combs\n",
    "\n",
    "combs = []\n",
    "generateCombs(2, 3**2, combs, '')\n",
    "\n",
    "print(combs)\n",
    "print(f\"combinations size: {len(combs)}\")"
   ]
  },
  {
   "cell_type": "markdown",
   "metadata": {},
   "source": [
    "### - 4.2 simulate unitary"
   ]
  },
  {
   "cell_type": "code",
   "execution_count": 147,
   "metadata": {},
   "outputs": [],
   "source": [
    "# Gell-Mann matrices\n",
    "# see: https://en.wikipedia.org/wiki/Gell-Mann_matrices\n",
    "#\n",
    "# a set of eight linearly independent 3×3 traceless Hermitian matrices \n",
    "# that can generate unitary matrix group elements through exponentiation.\n",
    "\n",
    "matrixes = [\n",
    "    np.matrix([[1, 0, 0], [0, 1, 0], [0, 0, 1]]).astype('complex64'),\n",
    "    np.matrix([[0, 1, 0], [1, 0, 0], [0, 0, 0]]).astype('complex64'),\n",
    "    np.matrix([[0, -1.0j, 0], [1.0j, 0, 0], [0, 0, 0]]).astype('complex64'),\n",
    "    \n",
    "    np.matrix([[1, 0, 0], [0, -1, 0], [0, 0, 0]]).astype('complex64'),\n",
    "    np.matrix([[0, 0, 1], [0, 0, 0], [1, 0, 0]]).astype('complex64'),\n",
    "    np.matrix([[0, 0, -1.0j], [0, 0, 0], [1.0j, 0, 0]]).astype('complex64'),\n",
    "    \n",
    "    np.matrix([[0, 0, 0], [0, 0, 1], [0, 1, 0]]).astype('complex64'),\n",
    "    np.matrix([[0, 0, 0], [0, 0, -1.0j], [0, 1.0j, 0]]).astype('complex64'),\n",
    "    np.matrix([[1, 0, 0], [0, 1, 0], [0, 0, -2]]).astype('complex64') / np.sqrt(3),\n",
    "]"
   ]
  },
  {
   "cell_type": "code",
   "execution_count": 152,
   "metadata": {},
   "outputs": [],
   "source": [
    "from scipy.linalg import expm\n",
    "\n",
    "\n",
    "def buildU(n: int, p: np.array) -> np.ndarray:\n",
    "    \"\"\" generate a unitary matrix U by U = e^{iH}\n",
    "    \n",
    "    detail see: Variational learning the SDC quantum protocol with gradient-based optimization\n",
    "    in qubits system, use Pauli matrixes to simulate this U matrix.\n",
    "    in qutrit system, should use Gell-Mann matrices.\n",
    "    \n",
    "    Args: \n",
    "        n: it's the n in SDC-n: the size of receivers in SDC protocol.\n",
    "        p: parameters used to simulate/build a unitary Matrix\n",
    "    \"\"\"\n",
    "    H = np.zeros((3 ** n, 3 ** n)).astype('complex64')\n",
    "    pos = 0\n",
    "    \n",
    "    # global combs\n",
    "    for comb in combs:\n",
    "        temp = np.kron(matrixes[int(comb[0])], matrixes[int(comb[1])])\n",
    "        for i in range(2, n):\n",
    "            temp = np.kron(temp, matrixes[int(comb[i])])\n",
    "        \n",
    "        H += p[pos] * temp\n",
    "        pos += 1\n",
    "    \n",
    "    U = expm(-1.0j * H)\n",
    "    \n",
    "    return U"
   ]
  },
  {
   "cell_type": "code",
   "execution_count": 151,
   "metadata": {},
   "outputs": [],
   "source": [
    "# Test 6 - simulate Unitary\n",
    "\n",
    "n = 2\n",
    "U1 = buildU(n, np.random.uniform(-1, 1, 3 ** (2*n)))\n",
    "U2 = np.conj(U1).T # U-dagger\n",
    "I = np.eye(3 ** n)\n",
    "\n",
    "# print('U1 @ U2:\\n', U1 @ U2)\n",
    "# print('I:\\n',I)\n",
    "      \n",
    "# U * U_dagger = I => unitary\n",
    "assert np.allclose(U1 @ U2, I, atol=1e-06)"
   ]
  },
  {
   "cell_type": "markdown",
   "metadata": {},
   "source": [
    "### - 4.3 locking operator gate"
   ]
  },
  {
   "cell_type": "code",
   "execution_count": 153,
   "metadata": {},
   "outputs": [],
   "source": [
    "class QutritLockingGate(TwoQubitGate):\n",
    "    def __init__(self, parameters):\n",
    "        super(QutritLockingGate, self)\n",
    "        \n",
    "        self.parameters = parameters\n",
    "    \n",
    "    def _qid_shape_(self):\n",
    "        return (3, 3)\n",
    "    \n",
    "    def _unitary_(self):\n",
    "        return buildU(2, self.parameters)\n",
    "    \n",
    "    def _circuit_diagram_info_(self, args):\n",
    "        return \"Locking-control\", \"Locking-target\""
   ]
  },
  {
   "cell_type": "code",
   "execution_count": 154,
   "metadata": {},
   "outputs": [
    {
     "data": {
      "image/svg+xml": [
       "<svg xmlns=\"http://www.w3.org/2000/svg\" width=\"569.3208984375\" height=\"240.0\"><line x1=\"38.5016796875\" x2=\"539.3208984375\" y1=\"45.0\" y2=\"45.0\" stroke=\"#1967d2\" stroke-width=\"1\" /><line x1=\"38.5016796875\" x2=\"539.3208984375\" y1=\"95.0\" y2=\"95.0\" stroke=\"#1967d2\" stroke-width=\"1\" /><line x1=\"38.5016796875\" x2=\"539.3208984375\" y1=\"145.0\" y2=\"145.0\" stroke=\"#1967d2\" stroke-width=\"1\" /><line x1=\"38.5016796875\" x2=\"539.3208984375\" y1=\"195.0\" y2=\"195.0\" stroke=\"#1967d2\" stroke-width=\"1\" /><line x1=\"138.60781250000002\" x2=\"336.3934375\" y1=\"5.0\" y2=\"5.0\" stroke=\"black\" stroke-width=\"1\" /><line x1=\"138.60781250000002\" x2=\"336.3934375\" y1=\"235.0\" y2=\"235.0\" stroke=\"black\" stroke-width=\"1\" /><line x1=\"185.55421875000002\" x2=\"185.55421875000002\" y1=\"45.0\" y2=\"145.0\" stroke=\"black\" stroke-width=\"3\" /><line x1=\"279.44703125\" x2=\"279.44703125\" y1=\"95.0\" y2=\"195.0\" stroke=\"black\" stroke-width=\"3\" /><line x1=\"467.85716796875\" x2=\"467.85716796875\" y1=\"45.0\" y2=\"95.0\" stroke=\"black\" stroke-width=\"3\" /><line x1=\"138.60781250000002\" x2=\"138.60781250000002\" y1=\"5.0\" y2=\"15.0\" stroke=\"black\" stroke-width=\"3\" /><line x1=\"336.3934375\" x2=\"336.3934375\" y1=\"5.0\" y2=\"15.0\" stroke=\"black\" stroke-width=\"3\" /><line x1=\"138.60781250000002\" x2=\"138.60781250000002\" y1=\"225.0\" y2=\"235.0\" stroke=\"black\" stroke-width=\"3\" /><line x1=\"336.3934375\" x2=\"336.3934375\" y1=\"225.0\" y2=\"235.0\" stroke=\"black\" stroke-width=\"3\" /><rect x=\"10.0\" y=\"25.0\" width=\"57.003359375\" height=\"40\" stroke=\"black\" fill=\"white\" stroke-width=\"0\" /><text x=\"38.5016796875\" y=\"45.0\" dominant-baseline=\"middle\" text-anchor=\"middle\" font-size=\"14px\" font-family=\"Arial\">0 (d=3): </text><rect x=\"10.0\" y=\"75.0\" width=\"57.003359375\" height=\"40\" stroke=\"black\" fill=\"white\" stroke-width=\"0\" /><text x=\"38.5016796875\" y=\"95.0\" dominant-baseline=\"middle\" text-anchor=\"middle\" font-size=\"14px\" font-family=\"Arial\">1 (d=3): </text><rect x=\"10.0\" y=\"125.0\" width=\"57.003359375\" height=\"40\" stroke=\"black\" fill=\"white\" stroke-width=\"0\" /><text x=\"38.5016796875\" y=\"145.0\" dominant-baseline=\"middle\" text-anchor=\"middle\" font-size=\"14px\" font-family=\"Arial\">2 (d=3): </text><rect x=\"10.0\" y=\"175.0\" width=\"57.003359375\" height=\"40\" stroke=\"black\" fill=\"white\" stroke-width=\"0\" /><text x=\"38.5016796875\" y=\"195.0\" dominant-baseline=\"middle\" text-anchor=\"middle\" font-size=\"14px\" font-family=\"Arial\">3 (d=3): </text><rect x=\"87.003359375\" y=\"25.0\" width=\"41.604453125000006\" height=\"40\" stroke=\"black\" fill=\"white\" stroke-width=\"1\" /><text x=\"107.80558593750001\" y=\"45.0\" dominant-baseline=\"middle\" text-anchor=\"middle\" font-size=\"14px\" font-family=\"Arial\">[H_3]</text><rect x=\"87.003359375\" y=\"75.0\" width=\"41.604453125000006\" height=\"40\" stroke=\"black\" fill=\"white\" stroke-width=\"1\" /><text x=\"107.80558593750001\" y=\"95.0\" dominant-baseline=\"middle\" text-anchor=\"middle\" font-size=\"14px\" font-family=\"Arial\">[H_3]</text><rect x=\"138.60781250000002\" y=\"25.0\" width=\"93.8928125\" height=\"40\" stroke=\"black\" fill=\"white\" stroke-width=\"1\" /><text x=\"185.55421875000002\" y=\"45.0\" dominant-baseline=\"middle\" text-anchor=\"middle\" font-size=\"14px\" font-family=\"Arial\">CNOT-control</text><rect x=\"138.60781250000002\" y=\"125.0\" width=\"93.8928125\" height=\"40\" stroke=\"black\" fill=\"white\" stroke-width=\"1\" /><text x=\"185.55421875000002\" y=\"145.0\" dominant-baseline=\"middle\" text-anchor=\"middle\" font-size=\"14px\" font-family=\"Arial\">CNOT-target</text><rect x=\"232.500625\" y=\"75.0\" width=\"93.8928125\" height=\"40\" stroke=\"black\" fill=\"white\" stroke-width=\"1\" /><text x=\"279.44703125\" y=\"95.0\" dominant-baseline=\"middle\" text-anchor=\"middle\" font-size=\"14px\" font-family=\"Arial\">CNOT-control</text><rect x=\"232.500625\" y=\"175.0\" width=\"93.8928125\" height=\"40\" stroke=\"black\" fill=\"white\" stroke-width=\"1\" /><text x=\"279.44703125\" y=\"195.0\" dominant-baseline=\"middle\" text-anchor=\"middle\" font-size=\"14px\" font-family=\"Arial\">CNOT-target</text><rect x=\"356.3934375\" y=\"25.0\" width=\"40\" height=\"40\" stroke=\"black\" fill=\"white\" stroke-width=\"1\" /><text x=\"376.3934375\" y=\"45.0\" dominant-baseline=\"middle\" text-anchor=\"middle\" font-size=\"14px\" font-family=\"Arial\">U_11</text><rect x=\"356.3934375\" y=\"75.0\" width=\"40\" height=\"40\" stroke=\"black\" fill=\"white\" stroke-width=\"1\" /><text x=\"376.3934375\" y=\"95.0\" dominant-baseline=\"middle\" text-anchor=\"middle\" font-size=\"14px\" font-family=\"Arial\">U_21</text><rect x=\"416.3934375\" y=\"25.0\" width=\"102.92746093750002\" height=\"40\" stroke=\"black\" fill=\"white\" stroke-width=\"1\" /><text x=\"467.85716796875\" y=\"45.0\" dominant-baseline=\"middle\" text-anchor=\"middle\" font-size=\"14px\" font-family=\"Arial\">Locking-control</text><rect x=\"416.3934375\" y=\"75.0\" width=\"102.92746093750002\" height=\"40\" stroke=\"black\" fill=\"white\" stroke-width=\"1\" /><text x=\"467.85716796875\" y=\"95.0\" dominant-baseline=\"middle\" text-anchor=\"middle\" font-size=\"14px\" font-family=\"Arial\">Locking-target</text></svg>"
      ],
      "text/plain": [
       "<cirq.contrib.svg.svg.SVGCircuit at 0x16c4da449e8>"
      ]
     },
     "execution_count": 154,
     "metadata": {},
     "output_type": "execute_result"
    }
   ],
   "source": [
    "# Test 7 - Apply Locking Operator\n",
    "\n",
    "qc_test = initCircuit(2)\n",
    "circuit_test = getCircuit(qc_test, ['11', '21'])\n",
    "\n",
    "parameters_test = np.random.uniform(-1, 1, 3 ** (2*qc_test.n))\n",
    "\n",
    "circuit_test.append(\n",
    "    QutritLockingGate(parameters_test).on(*qc_test.senders)\n",
    ")\n",
    "\n",
    "SVGCircuit(circuit_test)"
   ]
  },
  {
   "cell_type": "markdown",
   "metadata": {},
   "source": [
    "## 5. Generate partial Rous"
   ]
  },
  {
   "cell_type": "code",
   "execution_count": 160,
   "metadata": {},
   "outputs": [],
   "source": [
    "def partial_trace(rho: np.ndarray, qubit_2_keep: list) -> np.ndarray:\n",
    "    \"\"\" partial trace calculate\n",
    "    \n",
    "    original implementation see: https://gist.github.com/neversakura/d6a60b4bb2990d252e9e89e5629d5553\n",
    "    already changed it to suit qutrit system.\n",
    "    \n",
    "    Args:\n",
    "        rho: Density matrix\n",
    "        qubit_2_keep: Index of qubit to be kept after taking the trace\n",
    "    -------\n",
    "    Returns:\n",
    "        rho_res: Density matrix after taking partial trace\n",
    "    \"\"\"\n",
    "    num_qubit = int(np.log(rho.shape[0]) / np.log(3))\n",
    "    \n",
    "    qubit_axis = [(i, num_qubit + i) for i in range(num_qubit)\n",
    "                  if i not in qubit_2_keep]\n",
    "    minus_factor = [(i, 2 * i) for i in range(len(qubit_axis))]\n",
    "    minus_qubit_axis = [(q[0] - m[0], q[1] - m[1])\n",
    "                        for q, m in zip(qubit_axis, minus_factor)]\n",
    "    \n",
    "    rho_res = np.reshape(rho, [3, 3] * num_qubit)\n",
    "    qubit_left = num_qubit - len(qubit_axis)\n",
    "    \n",
    "    for i, j in minus_qubit_axis:\n",
    "        rho_res = np.trace(rho_res, axis1=i, axis2=j)\n",
    "        \n",
    "    if qubit_left > 1:\n",
    "        rho_res = np.reshape(rho_res, [3 ** qubit_left] * 2)\n",
    "\n",
    "    return rho_res"
   ]
  },
  {
   "cell_type": "code",
   "execution_count": 162,
   "metadata": {},
   "outputs": [
    {
     "name": "stdout",
     "output_type": "stream",
     "text": [
      "['00', '01', '02', '10', '11', '12', '20', '21', '22']\n"
     ]
    }
   ],
   "source": [
    "bits_combs = []\n",
    "dimension = 3\n",
    "generateCombs(2, dimension, bits_combs, '')\n",
    "\n",
    "print(bits_combs)"
   ]
  },
  {
   "cell_type": "code",
   "execution_count": 164,
   "metadata": {},
   "outputs": [],
   "source": [
    "def generateRous(qc: QC, p: np.array, indexes: list) -> list:\n",
    "    \"\"\" generates subsystem states\n",
    "    \n",
    "    For example: Rou_A1B (b1b2c1c2) means the subsystem A1B after\n",
    "    the locking phase with the encoded bits being b1b2c1c2.\n",
    "    \n",
    "    Args:\n",
    "        qc: QC(n, circuit, senders, receivers) object.\n",
    "        p: parameters used to generate a unitary matrix/gate.\n",
    "        indexes: indexes of qubits need to keep in subsystem.\n",
    "    \"\"\"\n",
    "    rous = []\n",
    "    \n",
    "    # global combs\n",
    "    for comb in combs:\n",
    "        encoded_circuit = getCircuit( qc, [bits_combs[int(i)] for i in comb] )\n",
    "        encoded_circuit.append(\n",
    "            QutritLockingGate(p).on(*qc.senders)\n",
    "        )\n",
    "        \n",
    "        matrix = densityMatrixSimulator.simulate(encoded_circuit).final_density_matrix\n",
    "        rous.append( partial_trace(np.array(matrix), indexes) )\n",
    "#         print(f'append - rous[{comb}]')\n",
    "    \n",
    "    return rous"
   ]
  },
  {
   "cell_type": "code",
   "execution_count": 165,
   "metadata": {
    "scrolled": true
   },
   "outputs": [
    {
     "name": "stdout",
     "output_type": "stream",
     "text": [
      "partial trace states' num: 81\n",
      "shape of state: (9, 9)\n"
     ]
    }
   ],
   "source": [
    "# Test 8 - generate rous\n",
    "\n",
    "n = 2\n",
    "qc_test = initCircuit(n)\n",
    "p = np.random.uniform(-1, 1, 3 ** (2*n))\n",
    "rous = generateRous(qc_test, p, indexes=[0, 2])\n",
    "\n",
    "print(f\"partial trace states' num: {len(rous)}\")\n",
    "print(f\"shape of state: {rous[0].shape}\")"
   ]
  },
  {
   "cell_type": "markdown",
   "metadata": {},
   "source": [
    "## 6 Loss Function"
   ]
  },
  {
   "cell_type": "markdown",
   "metadata": {},
   "source": [
    "### - 6.1 distance calculate"
   ]
  },
  {
   "cell_type": "code",
   "execution_count": 177,
   "metadata": {},
   "outputs": [],
   "source": [
    "from scipy.linalg import sqrtm\n",
    "\n",
    "def sub_L(rou: np.ndarray, sigma: np.ndarray, loss_function: str) -> float:\n",
    "    \"\"\" subroutine of loss calculation.\n",
    "    \n",
    "    calculate the loss between just two states.\n",
    "    \n",
    "    Args:\n",
    "        rou/sigma: state about subsystem(get from partial trace).\n",
    "        loss_function: \"D\" - trace distance, or \"F\" - fidelity\n",
    "    --------\n",
    "    Returns:\n",
    "        loss. a float num >= 0 and <= 1, and not complex.\n",
    "    \n",
    "    \"\"\"\n",
    "    loss = 0\n",
    "    \n",
    "    if loss_function == \"F\":\n",
    "        # fidelity\n",
    "        # \n",
    "        # F(rou, sigma) = tr(√(√rou @ sigma @√rou))\n",
    "        # F(rou, sigma) = 1 if rou == sigma\n",
    "        # \n",
    "        rou_root = sqrtm(rou)\n",
    "        f = np.dot(rou_root, sigma)\n",
    "        f = np.dot(f, rou_root)\n",
    "        f = sqrtm(f)\n",
    "        \n",
    "        return np.linalg.norm( np.trace(f) )\n",
    "\n",
    "    elif loss_function == \"D\":\n",
    "        # trace\n",
    "        # \n",
    "        # D(rou, sigma) = 1/2 tr |rou - sigma|\n",
    "        # while |A| = √(A_dagger A)\n",
    "        # D(rou, sigma) = 0 iff rou == sigma\n",
    "        # \n",
    "        A = rou - sigma\n",
    "        A_ = sqrtm( np.dot( A.conj().T, A ) )\n",
    "        \n",
    "        return 0.5 * np.linalg.norm( np.trace(A_) )\n",
    "\n",
    "    return loss"
   ]
  },
  {
   "cell_type": "code",
   "execution_count": 174,
   "metadata": {},
   "outputs": [],
   "source": [
    "n = 2\n",
    "parameters_test = np.random.uniform(-1, 1, 3 ** (2*n))"
   ]
  },
  {
   "cell_type": "code",
   "execution_count": 175,
   "metadata": {},
   "outputs": [],
   "source": [
    "qc_test = initCircuit(n)\n",
    "rous = generateRous(qc_test, parameters_test, indexes=[0, 2])\n",
    "\n",
    "rou = rous[5]\n",
    "sigma = rous[9]"
   ]
  },
  {
   "cell_type": "code",
   "execution_count": 176,
   "metadata": {},
   "outputs": [
    {
     "name": "stdout",
     "output_type": "stream",
     "text": [
      "0.0\n",
      "1.0000001013420272\n",
      "\n",
      "0.6431919011831774\n",
      "0.6826862998533351\n"
     ]
    }
   ],
   "source": [
    "# Test 9 - distance calculate\n",
    "\n",
    "# same states: \n",
    "## expected: trace distance: 0, fidelity: 1\n",
    "print( sub_L(rou, rou, 'D') )\n",
    "print( sub_L(rou, rou, 'F') )\n",
    "\n",
    "print()\n",
    "\n",
    "# different states: \n",
    "print( sub_L(rou, sigma, 'D') )\n",
    "print( sub_L(rou, sigma, 'F') )"
   ]
  },
  {
   "cell_type": "markdown",
   "metadata": {},
   "source": [
    "### - 6.2 loss function"
   ]
  },
  {
   "cell_type": "code",
   "execution_count": 178,
   "metadata": {},
   "outputs": [],
   "source": [
    "def L(qc: QC, p: np.array, loss_function: str) -> float:\n",
    "    \"\"\" loss calculation.\n",
    "    \n",
    "    calculate the total loss between different subsystems\n",
    "    \n",
    "    Args:\n",
    "        qc: QC(n, circuit, senders, receivers) object.\n",
    "        p: parameters used to generate a unitary matrix/gate.\n",
    "        loss_function: \"D\" - trace distance, or \"F\" - fidelity\n",
    "    --------\n",
    "    Returns:\n",
    "        loss. a float num >= 0 and <= 1, and not complex.\n",
    "    \n",
    "    \"\"\"\n",
    "    rous = []\n",
    "    for i in range(n):\n",
    "        rous.append(generateRous(qc, p, [i, i + n]))\n",
    "    \n",
    "    loss = 0.0\n",
    "    size = 3 ** (2 * qc.n)\n",
    "    book = set()\n",
    "    count = 0\n",
    "    for i in range(size):\n",
    "        for j in range(size):\n",
    "            if i != j and f\"{i},{j}\" not in book:\n",
    "                for k in range(n):\n",
    "                    loss += sub_L(rous[k][i], rous[k][j], loss_function)\n",
    "                    count += 1\n",
    "\n",
    "                book.add(f\"{i},{j}\")\n",
    "                book.add(f\"{j},{i}\")\n",
    "    \n",
    "    loss /= count\n",
    "    # need to maximize it\n",
    "    if loss_function == \"F\":\n",
    "        loss *= -1\n",
    "    \n",
    "    return loss"
   ]
  },
  {
   "cell_type": "code",
   "execution_count": 179,
   "metadata": {},
   "outputs": [],
   "source": [
    "n = 2\n",
    "loss_parameters_test = np.random.uniform(-1, 1, 3 ** (2*n))"
   ]
  },
  {
   "cell_type": "code",
   "execution_count": 181,
   "metadata": {},
   "outputs": [],
   "source": [
    "from time import *\n",
    "\n",
    "class Timer:\n",
    "    indent = 0\n",
    "\n",
    "    def __init__(self, description=\"\"):\n",
    "        self.description = description\n",
    "    \n",
    "    def start(self, description=\"\"):\n",
    "        if description != \"\":\n",
    "            self.description = description\n",
    "\n",
    "        print('-' * (self.__class__.indent * 4) + \\\n",
    "            'Start Timer: [{}]'.format(self.description))\n",
    "        self.start_time = time()\n",
    "\n",
    "        self.__class__.indent += 1\n",
    "\n",
    "    def end(self):\n",
    "        self.__class__.indent -= 1\n",
    "        print('-' * (self.__class__.indent * 4) + \\\n",
    "            'End Timer [{}]:  {}\\n'.format(self.description, time() - self.start_time))\n",
    "\n",
    "    # context management protocol\n",
    "    # __enter__ and __exit__ \n",
    "    def __enter__(self):\n",
    "        self.start()\n",
    "    \n",
    "    def __exit__(self, exec_type, exec_value, traceback):\n",
    "        self.end()"
   ]
  },
  {
   "cell_type": "code",
   "execution_count": 182,
   "metadata": {},
   "outputs": [
    {
     "name": "stdout",
     "output_type": "stream",
     "text": [
      "Start Timer: [Trace distance]\n",
      "0.5153704026217423\n",
      "End Timer [Trace distance]:  10.593112230300903\n",
      "\n",
      "Start Timer: [Fidelity]\n",
      "-0.7782117156531067\n",
      "End Timer [Fidelity]:  13.72714352607727\n",
      "\n"
     ]
    }
   ],
   "source": [
    "# Test 10 - loss calculate\n",
    "\n",
    "qc_test = initCircuit(n)\n",
    "\n",
    "with Timer('Trace distance'):\n",
    "    print(L(qc_test, loss_parameters_test, 'D'))\n",
    "\n",
    "with Timer('Fidelity'):\n",
    "    print(L(qc_test, loss_parameters_test, 'F'))"
   ]
  },
  {
   "cell_type": "markdown",
   "metadata": {},
   "source": [
    "### - 6.3 GradientCalculate"
   ]
  },
  {
   "cell_type": "code",
   "execution_count": 183,
   "metadata": {},
   "outputs": [],
   "source": [
    "def GradientCalculator(qc: QC, p: np.array, epsilon: float, loss_function: str) -> float:\n",
    "    \"\"\" gradient calculate\n",
    "    \n",
    "    calculate gradient using the forward difference formula.\n",
    "    \n",
    "    Args:\n",
    "        qc: QC(n, circuit, senders, receivers) object.\n",
    "        p: parameters used to generate a unitary matrix/gate.\n",
    "        epsilon: stepsize of the forward difference.\n",
    "        loss_function: \"D\" - trace distance, or \"F\" - fidelity\n",
    "    --------\n",
    "    Returns:\n",
    "        Gradient, not complex.\n",
    "        Total loss when parameter is p.\n",
    "    \"\"\"\n",
    "    derivates = np.zeros(len(p))\n",
    "    \n",
    "    l_p = L(qc, p, loss_function)\n",
    "    \n",
    "    for i, param in enumerate(p):\n",
    "        p[i] += epsilon\n",
    "        l_pe = L(qc, p, loss_function)\n",
    "        p[i] -= epsilon\n",
    "        \n",
    "        derivates[i] = (l_pe - l_p)\n",
    "        \n",
    "    return derivates / epsilon, l_p"
   ]
  },
  {
   "cell_type": "markdown",
   "metadata": {},
   "source": [
    "## 7 SDC-n Learning"
   ]
  },
  {
   "cell_type": "code",
   "execution_count": 185,
   "metadata": {},
   "outputs": [],
   "source": [
    "params = []\n",
    "losses = []\n",
    "\n",
    "def SDCLearner(n: int, *, loss_function: str=\"D\", epoch: int=1000, epsilon: float=0.01):\n",
    "    \"\"\" SDC learner -> learn the parameters about the locking operator\n",
    "    \n",
    "    gradient-based optimization and using Adam optimization.\n",
    "    \n",
    "    Args:\n",
    "        n: it's the n in SDC-n: the size of receivers in SDC protocol.\n",
    "        loss_function: \"D\" - trace distance, or \"F\" - fidelity. default \"D\".\n",
    "        epoch: number of times of parameters' updates\n",
    "        epsilon: stepsize of the forward difference.\n",
    "    \"\"\"\n",
    "    # 0. init Circuit\n",
    "    qc = initCircuit(n)\n",
    "    \n",
    "    # 1. initialize the parameters with uniformly random nunbers\n",
    "    size = 3 ** (2 * n)\n",
    "    p = np.random.uniform(-1, 1, size)\n",
    "    \n",
    "    # Adam parameters:\n",
    "    momentum, s = 0, 0\n",
    "    alpha = 0.001\n",
    "    belta1 = 0.9; belta2 = 0.999\n",
    "    e = 1e-8\n",
    "    \n",
    "    global params\n",
    "    global losses\n",
    "    params = []\n",
    "    losses = []\n",
    "\n",
    "    t = 0\n",
    "    while t < epoch:\n",
    "        # repeat\n",
    "        t += 1\n",
    "        \n",
    "        # 2. Calculate the gradient.\n",
    "        grad, loss = GradientCalculator(qc, p, epsilon, loss_function)\n",
    "        losses.append(loss)\n",
    "        \n",
    "        # Adam Optimizer\n",
    "        momentum = belta1 * momentum + (1 - belta1) * grad\n",
    "        s = belta2 * s + (1 - belta2) * (grad ** 2)\n",
    "        m_ = momentum / (1 - belta1 ** t)\n",
    "        s_ = s / (1 - belta2 ** t)\n",
    "\n",
    "        # 3. update parameters using Adam optimization.\n",
    "        p = p - alpha * (m_ / ( s_ ** 0.5 + e ))\n",
    "        \n",
    "        # log\n",
    "        print('epoch: [{}/{}] - loss: {} end.'.format(t, epoch, loss))\n",
    "    \n",
    "    params = p"
   ]
  },
  {
   "cell_type": "code",
   "execution_count": 522,
   "metadata": {},
   "outputs": [
    {
     "name": "stdout",
     "output_type": "stream",
     "text": [
      "epoch: [1/5] - loss: 0.45835136657256387 end.\n",
      "epoch: [2/5] - loss: 0.4565429174173763 end.\n",
      "epoch: [3/5] - loss: 0.45473573166660247 end.\n",
      "epoch: [4/5] - loss: 0.4529298764392724 end.\n",
      "epoch: [5/5] - loss: 0.45112562474097834 end.\n"
     ]
    }
   ],
   "source": [
    "# Test 11 - SDC-n with qutrit learning\n",
    "\n",
    "SDCLearner(2, loss_function='D', epoch=5)"
   ]
  },
  {
   "cell_type": "markdown",
   "metadata": {},
   "source": [
    "## 8 Super Dense Coding with qutrit"
   ]
  },
  {
   "cell_type": "code",
   "execution_count": 188,
   "metadata": {},
   "outputs": [],
   "source": [
    "def create_superdense_coding_circuit(sending_bits: str=None) -> cirq.Circuit:\n",
    "    \"\"\" create qutrit superdense circuit\n",
    "    \n",
    "    this will just create a circuit contains one sender and one receiver\n",
    "    \n",
    "    Args:\n",
    "        sending_bits: a str like: \"12\" \n",
    "    -------\n",
    "    Returns:\n",
    "        superdense coding circuit(two qutrit)\n",
    "    \"\"\"\n",
    "    circuit = cirq.Circuit()\n",
    "    q_registers = [cirq.LineQid(i, dimension=3) for i in range(2)]\n",
    "    \n",
    "    # create entangled qutrit states\n",
    "    circuit.append([\n",
    "        QutritHGate().on(q_registers[0]),\n",
    "        QutritCNOTGate().on(*q_registers),\n",
    "    ])\n",
    "    \n",
    "    ########### operate U-gate according to sending_bits ###########\n",
    "    \n",
    "    if sending_bits != None:\n",
    "        circuit.append(QutritUGates(sending_bits).on(q_registers[1]))\n",
    "\n",
    "    ################################################################\n",
    "    \n",
    "    return circuit"
   ]
  },
  {
   "cell_type": "code",
   "execution_count": 189,
   "metadata": {},
   "outputs": [
    {
     "data": {
      "image/svg+xml": [
       "<svg xmlns=\"http://www.w3.org/2000/svg\" width=\"353.9604296875\" height=\"100.0\"><line x1=\"38.4163671875\" x2=\"323.9604296875\" y1=\"25.0\" y2=\"25.0\" stroke=\"#1967d2\" stroke-width=\"1\" /><line x1=\"38.4163671875\" x2=\"323.9604296875\" y1=\"75.0\" y2=\"75.0\" stroke=\"#1967d2\" stroke-width=\"1\" /><line x1=\"195.38359375\" x2=\"195.38359375\" y1=\"25.0\" y2=\"75.0\" stroke=\"black\" stroke-width=\"3\" /><rect x=\"10.0\" y=\"5.0\" width=\"56.832734375\" height=\"40\" stroke=\"black\" fill=\"white\" stroke-width=\"0\" /><text x=\"38.4163671875\" y=\"25.0\" dominant-baseline=\"middle\" text-anchor=\"middle\" font-size=\"14px\" font-family=\"Arial\">0 (d=3): </text><rect x=\"10.0\" y=\"55.0\" width=\"56.832734375\" height=\"40\" stroke=\"black\" fill=\"white\" stroke-width=\"0\" /><text x=\"38.4163671875\" y=\"75.0\" dominant-baseline=\"middle\" text-anchor=\"middle\" font-size=\"14px\" font-family=\"Arial\">1 (d=3): </text><rect x=\"86.832734375\" y=\"5.0\" width=\"41.604453125000006\" height=\"40\" stroke=\"black\" fill=\"white\" stroke-width=\"1\" /><text x=\"107.63496093750001\" y=\"25.0\" dominant-baseline=\"middle\" text-anchor=\"middle\" font-size=\"14px\" font-family=\"Arial\">[H_3]</text><rect x=\"148.4371875\" y=\"5.0\" width=\"93.8928125\" height=\"40\" stroke=\"black\" fill=\"white\" stroke-width=\"1\" /><text x=\"195.38359375\" y=\"25.0\" dominant-baseline=\"middle\" text-anchor=\"middle\" font-size=\"14px\" font-family=\"Arial\">CNOT-control</text><rect x=\"148.4371875\" y=\"55.0\" width=\"93.8928125\" height=\"40\" stroke=\"black\" fill=\"white\" stroke-width=\"1\" /><text x=\"195.38359375\" y=\"75.0\" dominant-baseline=\"middle\" text-anchor=\"middle\" font-size=\"14px\" font-family=\"Arial\">CNOT-target</text><rect x=\"262.33\" y=\"55.0\" width=\"41.630429687500005\" height=\"40\" stroke=\"black\" fill=\"white\" stroke-width=\"1\" /><text x=\"283.14521484375\" y=\"75.0\" dominant-baseline=\"middle\" text-anchor=\"middle\" font-size=\"14px\" font-family=\"Arial\">U_12</text></svg>"
      ],
      "text/plain": [
       "<cirq.contrib.svg.svg.SVGCircuit at 0x16c4e504ba8>"
      ]
     },
     "execution_count": 189,
     "metadata": {},
     "output_type": "execute_result"
    }
   ],
   "source": [
    "# Test 11 - create superdense coding circuit\n",
    "\n",
    "circuit_SDC = create_superdense_coding_circuit(\"12\")\n",
    "SVGCircuit(circuit_SDC)"
   ]
  },
  {
   "cell_type": "markdown",
   "metadata": {},
   "source": [
    "### - 8.1 get Measurements"
   ]
  },
  {
   "cell_type": "code",
   "execution_count": 193,
   "metadata": {},
   "outputs": [],
   "source": [
    "def getStates(dimension: int) -> dict:\n",
    "    \"\"\" get states like psi_ij\n",
    "    \n",
    "    \"\"\"\n",
    "    bases = getBases(dimension)\n",
    "    \n",
    "    states = dict()\n",
    "    \n",
    "    for n in range(dimension):\n",
    "        for m in range(dimension):\n",
    "            sup = str(n) + str(m) # eg. '01'\n",
    "            psi = np.zeros(dimension ** 2).astype('complex64')\n",
    "            \n",
    "            for j in range(dimension):\n",
    "                k = (j + m) % dimension\n",
    "                \n",
    "                p = np.exp(2 * np.pi * 1.0j * j * n / dimension)\n",
    "                    \n",
    "                psi += p * np.kron(bases[j], bases[k])\n",
    "            \n",
    "            psi /= np.sqrt(dimension)\n",
    "            states[sup] = psi\n",
    "    \n",
    "    return states"
   ]
  },
  {
   "cell_type": "code",
   "execution_count": 192,
   "metadata": {},
   "outputs": [
    {
     "name": "stdout",
     "output_type": "stream",
     "text": [
      "[0.        +0.j 0.57735026+0.j 0.        +0.j 0.        +0.j\n",
      " 0.        +0.j 0.57735026+0.j 0.57735026+0.j 0.        +0.j\n",
      " 0.        +0.j]\n",
      "\n",
      "[[ 0. +0.j        -0.5-0.8660254j -0. +0.j       ]\n",
      " [ 0. +0.j         0. -0.j        -0.5+0.8660254j]\n",
      " [ 1. +0.j         0. -0.j        -0. +0.j       ]]\n"
     ]
    }
   ],
   "source": [
    "# Test 12 - get psi & unitary\n",
    "\n",
    "print(getStates(3)['01'])\n",
    "print()\n",
    "print(getUnitaries(3)['22'])"
   ]
  },
  {
   "cell_type": "code",
   "execution_count": 194,
   "metadata": {},
   "outputs": [],
   "source": [
    "def getMeasurements(psi: dict, dimension: int) -> dict:\n",
    "    \"\"\" get measurements operators\n",
    "    \n",
    "    measurement operators created by: M_ij = |ij><ij|\n",
    "    \n",
    "    \"\"\"\n",
    "    size = len(psi)\n",
    "    measurements = dict()\n",
    "    \n",
    "    for k, p in psi.items():\n",
    "        col = p.reshape([size, 1])\n",
    "        row = p.reshape([1, size]).conj()\n",
    "        \n",
    "        M = col @ row\n",
    "        \n",
    "        measurements[k] = M\n",
    "    \n",
    "    return measurements"
   ]
  },
  {
   "cell_type": "code",
   "execution_count": 195,
   "metadata": {},
   "outputs": [
    {
     "name": "stdout",
     "output_type": "stream",
     "text": [
      "Shape of Measurement operator: (9, 9)\n",
      "probability about measuring psi_12: 0.9999997615814209\n"
     ]
    }
   ],
   "source": [
    "# Test 13 - measurement\n",
    "\n",
    "dimension_ = 3\n",
    "psi_ = getStates(dimension_)\n",
    "\n",
    "# col_12 = |12>, row_12 = <12|\n",
    "col_12 = psi_[\"12\"].reshape([dimension_ ** 2, 1])\n",
    "row_12 = psi_[\"12\"].conj().T\n",
    "\n",
    "M_12 = getMeasurements(psi_, dimension_)['12']\n",
    "print(f\"Shape of Measurement operator: {M_12.shape}\")\n",
    "\n",
    "# p = <ψ|M_dagger M|ψ>\n",
    "p_12 = row_12 @ ((M_12.conj().T) @ M_12) @ col_12\n",
    "\n",
    "# Expected ≈1.0\n",
    "print( f\"probability about measuring psi_12: {np.linalg.norm(p_12)}\" )"
   ]
  },
  {
   "cell_type": "markdown",
   "metadata": {},
   "source": [
    "### - 8.2 measure"
   ]
  },
  {
   "cell_type": "code",
   "execution_count": 197,
   "metadata": {},
   "outputs": [],
   "source": [
    "def measure(p: np.array, M: np.ndarray) -> (dict, tuple):\n",
    "    \"\"\" measure a state p\n",
    "    \n",
    "    measure through: p_ij = <row|M_ij|col>\n",
    "    \n",
    "    Args:\n",
    "        p: state need to measure\n",
    "        M: measurement operators. created by getMeasurements()\n",
    "    -------\n",
    "    Returns:\n",
    "        probability: dict[str, float]: like: {'00': 0.0, ... '12': 0.99999976, ...}\n",
    "        max_: tuple(str, float): like: ('12', 0.99999976) which give the max probability\n",
    "            of the result of measurement and the corresponding bits.\n",
    "    \"\"\"\n",
    "    size = len(p)\n",
    "    col = p.reshape([size, 1])\n",
    "    row = p.reshape([1, size]).conj()\n",
    "    \n",
    "    probability = dict()\n",
    "    \n",
    "    for k, m in M.items():\n",
    "        p = row @ m @ col\n",
    "        # p = [[..]] => return p[0, 0]\n",
    "        probability[k] = np.linalg.norm( p[0, 0] )\n",
    "        \n",
    "    max_ = sorted(list(probability.items()), key=lambda item: item[1], reverse=True)[0]\n",
    "    \n",
    "    return probability, max_"
   ]
  },
  {
   "cell_type": "code",
   "execution_count": 198,
   "metadata": {},
   "outputs": [
    {
     "name": "stdout",
     "output_type": "stream",
     "text": [
      "[ 0.57735026+0.j          0.        +0.j          0.        +0.j\n",
      "  0.        +0.j         -0.28867513+0.49999997j  0.        +0.j\n",
      "  0.        +0.j          0.        +0.j         -0.28867513-0.49999997j]\n"
     ]
    }
   ],
   "source": [
    "# Test 14 - measure\n",
    "\n",
    "dimension_ = 3\n",
    "psi_ = getStates(dimension_)\n",
    "M_ = getMeasurements(psi_, dimension_)\n",
    "\n",
    "print(psi_['10'])"
   ]
  },
  {
   "cell_type": "code",
   "execution_count": 199,
   "metadata": {},
   "outputs": [
    {
     "name": "stdout",
     "output_type": "stream",
     "text": [
      "Measure: circuit_12\n",
      "{'00': 0.0, '01': 0.0, '02': 0.0, '10': 0.0, '11': 0.0, '12': 0.99999976, '20': 0.0, '21': 0.0, '22': 2.7622338e-08}\n",
      "('12', 0.99999976)\n",
      "\n",
      "Measure: circuit_00\n",
      "{'00': 0.99999994, '01': 0.0, '02': 0.0, '10': 4.3015946e-09, '11': 0.0, '12': 0.0, '20': 4.3015946e-09, '21': 0.0, '22': 0.0}\n",
      "('00', 0.99999994)\n",
      "\n",
      "Measure: circuit_11\n",
      "{'00': 0.0, '01': 7.747658e-17, '02': 0.0, '10': 0.0, '11': 0.99999976, '12': 0.0, '20': 0.0, '21': 2.8179524e-08, '22': 0.0}\n",
      "('11', 0.99999976)\n",
      "\n",
      "Measure: circuit_20\n",
      "{'00': 0.0, '01': 0.0, '02': 0.0, '10': 3.934948e-08, '11': 0.0, '12': 0.0, '20': 0.99999976, '21': 0.0, '22': 0.0}\n",
      "('20', 0.99999976)\n",
      "\n"
     ]
    }
   ],
   "source": [
    "# Test 15 - measure circuit\n",
    "\n",
    "def measure_circuit_test(sending_bits: str):\n",
    "    # prepare measurement operator\n",
    "    dimension_ = 3\n",
    "    psi_ = getStates(dimension_)\n",
    "    M_ = getMeasurements(psi_, dimension_)\n",
    "\n",
    "    # prepare SDC circuit\n",
    "    circuit_SDC = create_superdense_coding_circuit(sending_bits)\n",
    "\n",
    "    # simulate\n",
    "    state = simulator.simulate(circuit_SDC).final_state_vector\n",
    "\n",
    "    # measure\n",
    "    probs, max_ = measure(state, M_)\n",
    "    assert max_[0] == sending_bits\n",
    "\n",
    "    print(f'Measure: circuit_{sending_bits}')\n",
    "    print(probs)\n",
    "    print(max_)\n",
    "    print()\n",
    "    \n",
    "tests = [\"12\", \"00\", \"11\", \"20\"]\n",
    "\n",
    "for test_bits in tests:\n",
    "    measure_circuit_test(test_bits)"
   ]
  },
  {
   "cell_type": "markdown",
   "metadata": {},
   "source": [
    "## 9 multiparties superdense coding through Qutrit"
   ]
  },
  {
   "cell_type": "markdown",
   "metadata": {},
   "source": [
    "### - 9.1 get states of multiparties system"
   ]
  },
  {
   "cell_type": "code",
   "execution_count": 200,
   "metadata": {},
   "outputs": [
    {
     "name": "stdout",
     "output_type": "stream",
     "text": [
      "['000', '001', '002', '010', '011', '012', '020', '021', '022', '100', '101', '102', '110', '111', '112', '120', '121', '122', '200', '201', '202', '210', '211', '212', '220', '221', '222']\n"
     ]
    }
   ],
   "source": [
    "combs_ = []\n",
    "generateCombs(3, 3, combs_, '')\n",
    "\n",
    "print(combs_)"
   ]
  },
  {
   "cell_type": "code",
   "execution_count": 201,
   "metadata": {},
   "outputs": [],
   "source": [
    "from functools import reduce\n",
    "\n",
    "\"\"\"\n",
    "tool functon:\n",
    "    Kron(a, b, c) measn:\n",
    "    np.kron(np.kron(a, b), c)\n",
    "\"\"\"\n",
    "Kron = lambda *matrices: reduce(np.kron, matrices)"
   ]
  },
  {
   "cell_type": "code",
   "execution_count": 203,
   "metadata": {},
   "outputs": [],
   "source": [
    "def getMultiStates(dimension: int, senders_num: int=1) -> dict:\n",
    "    \"\"\" get states in multiparties system\n",
    "    \n",
    "    Args:\n",
    "        dimension: 3 means using qutrit\n",
    "        senders_num: thus total qudits size is senders_num + 1.\n",
    "    -------\n",
    "    Returns:\n",
    "        states: dict[str, np.array]: eg. states[\"001\"] means psi_001\n",
    "    \n",
    "    \"\"\"\n",
    "    size = senders_num + 1\n",
    "    bases = getBases(dimension)\n",
    "    \n",
    "    states = dict()\n",
    "    combs = []\n",
    "    generateCombs(size, dimension, combs, '')\n",
    "    \n",
    "    for comb in combs:\n",
    "        k = int(comb[0])\n",
    "        senders = comb[1:]\n",
    "        \n",
    "        psi = np.zeros(dimension ** size).astype('complex64')\n",
    "        items = []\n",
    "        for j in range(dimension):\n",
    "            p = np.exp(2 * np.pi * 1.0j * j * k / dimension)\n",
    "            items.append(bases[j])\n",
    "            \n",
    "            for n in senders:\n",
    "                index = (j + int(n)) % dimension\n",
    "                items.append(bases[index])\n",
    "                \n",
    "            psi += p * Kron(*items)\n",
    "            items = []\n",
    "        \n",
    "        psi /= np.sqrt(dimension)\n",
    "        states[comb] = psi\n",
    "    \n",
    "    return states"
   ]
  },
  {
   "cell_type": "code",
   "execution_count": 204,
   "metadata": {},
   "outputs": [],
   "source": [
    "# Test 16 - get state of multiparties system\n",
    "\n",
    "assert np.allclose( getStates(3)['21'], getMultiStates(3)['21'] )\n",
    "\n",
    "dimension_ = 3\n",
    "bases_ = getBases(dimension_)\n",
    "\n",
    "psi_002_manual = np.zeros(3 ** 3).astype('complex64')\n",
    "psi_002_manual += Kron(bases_[0], bases_[0], bases_[2])\n",
    "psi_002_manual += Kron(bases_[1], bases_[1], bases_[0])\n",
    "psi_002_manual += Kron(bases_[2], bases_[2], bases_[1])\n",
    "psi_002_manual /= np.sqrt(dimension_)\n",
    "\n",
    "assert np.allclose( psi_002_manual, getMultiStates(3, 2)['002'] )"
   ]
  },
  {
   "cell_type": "markdown",
   "metadata": {},
   "source": [
    "### - 9.2 get unitaries of multiparties system"
   ]
  },
  {
   "cell_type": "code",
   "execution_count": 205,
   "metadata": {},
   "outputs": [
    {
     "name": "stdout",
     "output_type": "stream",
     "text": [
      "[[ 0. +0.j        -0.5-0.8660254j -0. +0.j       ]\n",
      " [ 0. +0.j         0. -0.j        -0.5+0.8660254j]\n",
      " [ 1. +0.j         0. -0.j        -0. +0.j       ]]\n"
     ]
    }
   ],
   "source": [
    "# already achieved\n",
    "# eg. U_22\n",
    "print(getUnitaries(3)['22'])"
   ]
  },
  {
   "cell_type": "markdown",
   "metadata": {},
   "source": [
    "### - 9.3 multiparties superdense coding"
   ]
  },
  {
   "cell_type": "code",
   "execution_count": 207,
   "metadata": {},
   "outputs": [],
   "source": [
    "def create_multiparties_superdense_coding_circuit(system_size: int, sending_bits: list=None) -> cirq.Circuit:\n",
    "    \"\"\" create multiparties qutrit superdense circuit\n",
    "    \n",
    "    default using qutrit.\n",
    "    this will create a circuit contains one sender and [system_size - 1] receivers\n",
    "    \n",
    "    Args:\n",
    "        system_size: size of qutrits.\n",
    "        sending_bits: a list of str like: [\"12\", \"00\"] \n",
    "    -------\n",
    "    Returns:\n",
    "        a multiparties superdense coding circuit.\n",
    "    \"\"\"\n",
    "    circuit = cirq.Circuit()\n",
    "    q_registers = [cirq.LineQid(i, dimension=3) for i in range(system_size)]\n",
    "    \n",
    "    circuit.append(\n",
    "        QutritHGate().on(q_registers[0])\n",
    "    )\n",
    "    \n",
    "    # create multiparties entangled states.\n",
    "    # when system_size = 3, get qutrit's GHZ states.\n",
    "    for i in range(system_size - 1):\n",
    "        circuit.append(\n",
    "            QutritCNOTGate().on(\n",
    "                q_registers[0],\n",
    "                q_registers[i + 1]\n",
    "            )\n",
    "        )\n",
    "    \n",
    "    ################ operate U-gate according to sending_bits ################\n",
    "    \n",
    "    if sending_bits != None:\n",
    "        if len(sending_bits) != system_size - 1:\n",
    "            raise ValueError(f\"sending_bits should have size: {system_size - 1}\")\n",
    "        \n",
    "        for i in range(system_size - 1):\n",
    "            circuit.append(QutritUGates(sending_bits[i]).on(q_registers[i + 1]))\n",
    "\n",
    "    ##########################################################################\n",
    "    \n",
    "    return circuit"
   ]
  },
  {
   "cell_type": "code",
   "execution_count": 213,
   "metadata": {},
   "outputs": [
    {
     "data": {
      "image/svg+xml": [
       "<svg xmlns=\"http://www.w3.org/2000/svg\" width=\"508.0238671875\" height=\"190.0\"><line x1=\"38.5016796875\" x2=\"478.0238671875\" y1=\"45.0\" y2=\"45.0\" stroke=\"#1967d2\" stroke-width=\"1\" /><line x1=\"38.5016796875\" x2=\"478.0238671875\" y1=\"95.0\" y2=\"95.0\" stroke=\"#1967d2\" stroke-width=\"1\" /><line x1=\"38.5016796875\" x2=\"478.0238671875\" y1=\"145.0\" y2=\"145.0\" stroke=\"#1967d2\" stroke-width=\"1\" /><line x1=\"252.500625\" x2=\"396.3934375\" y1=\"5.0\" y2=\"5.0\" stroke=\"black\" stroke-width=\"1\" /><line x1=\"252.500625\" x2=\"396.3934375\" y1=\"185.0\" y2=\"185.0\" stroke=\"black\" stroke-width=\"1\" /><line x1=\"195.55421875000002\" x2=\"195.55421875000002\" y1=\"45.0\" y2=\"95.0\" stroke=\"black\" stroke-width=\"3\" /><line x1=\"299.44703125\" x2=\"299.44703125\" y1=\"45.0\" y2=\"145.0\" stroke=\"black\" stroke-width=\"3\" /><line x1=\"252.500625\" x2=\"252.500625\" y1=\"5.0\" y2=\"15.0\" stroke=\"black\" stroke-width=\"3\" /><line x1=\"396.3934375\" x2=\"396.3934375\" y1=\"5.0\" y2=\"15.0\" stroke=\"black\" stroke-width=\"3\" /><line x1=\"252.500625\" x2=\"252.500625\" y1=\"175.0\" y2=\"185.0\" stroke=\"black\" stroke-width=\"3\" /><line x1=\"396.3934375\" x2=\"396.3934375\" y1=\"175.0\" y2=\"185.0\" stroke=\"black\" stroke-width=\"3\" /><rect x=\"10.0\" y=\"25.0\" width=\"57.003359375\" height=\"40\" stroke=\"black\" fill=\"white\" stroke-width=\"0\" /><text x=\"38.5016796875\" y=\"45.0\" dominant-baseline=\"middle\" text-anchor=\"middle\" font-size=\"14px\" font-family=\"Arial\">0 (d=3): </text><rect x=\"10.0\" y=\"75.0\" width=\"57.003359375\" height=\"40\" stroke=\"black\" fill=\"white\" stroke-width=\"0\" /><text x=\"38.5016796875\" y=\"95.0\" dominant-baseline=\"middle\" text-anchor=\"middle\" font-size=\"14px\" font-family=\"Arial\">1 (d=3): </text><rect x=\"10.0\" y=\"125.0\" width=\"57.003359375\" height=\"40\" stroke=\"black\" fill=\"white\" stroke-width=\"0\" /><text x=\"38.5016796875\" y=\"145.0\" dominant-baseline=\"middle\" text-anchor=\"middle\" font-size=\"14px\" font-family=\"Arial\">2 (d=3): </text><rect x=\"87.003359375\" y=\"25.0\" width=\"41.604453125000006\" height=\"40\" stroke=\"black\" fill=\"white\" stroke-width=\"1\" /><text x=\"107.80558593750001\" y=\"45.0\" dominant-baseline=\"middle\" text-anchor=\"middle\" font-size=\"14px\" font-family=\"Arial\">[H_3]</text><rect x=\"148.60781250000002\" y=\"25.0\" width=\"93.8928125\" height=\"40\" stroke=\"black\" fill=\"white\" stroke-width=\"1\" /><text x=\"195.55421875000002\" y=\"45.0\" dominant-baseline=\"middle\" text-anchor=\"middle\" font-size=\"14px\" font-family=\"Arial\">CNOT-control</text><rect x=\"148.60781250000002\" y=\"75.0\" width=\"93.8928125\" height=\"40\" stroke=\"black\" fill=\"white\" stroke-width=\"1\" /><text x=\"195.55421875000002\" y=\"95.0\" dominant-baseline=\"middle\" text-anchor=\"middle\" font-size=\"14px\" font-family=\"Arial\">CNOT-target</text><rect x=\"252.500625\" y=\"25.0\" width=\"93.8928125\" height=\"40\" stroke=\"black\" fill=\"white\" stroke-width=\"1\" /><text x=\"299.44703125\" y=\"45.0\" dominant-baseline=\"middle\" text-anchor=\"middle\" font-size=\"14px\" font-family=\"Arial\">CNOT-control</text><rect x=\"252.500625\" y=\"125.0\" width=\"93.8928125\" height=\"40\" stroke=\"black\" fill=\"white\" stroke-width=\"1\" /><text x=\"299.44703125\" y=\"145.0\" dominant-baseline=\"middle\" text-anchor=\"middle\" font-size=\"14px\" font-family=\"Arial\">CNOT-target</text><rect x=\"346.3934375\" y=\"75.0\" width=\"40\" height=\"40\" stroke=\"black\" fill=\"white\" stroke-width=\"1\" /><text x=\"366.3934375\" y=\"95.0\" dominant-baseline=\"middle\" text-anchor=\"middle\" font-size=\"14px\" font-family=\"Arial\">U_01</text><rect x=\"416.3934375\" y=\"125.0\" width=\"41.630429687500005\" height=\"40\" stroke=\"black\" fill=\"white\" stroke-width=\"1\" /><text x=\"437.20865234375003\" y=\"145.0\" dominant-baseline=\"middle\" text-anchor=\"middle\" font-size=\"14px\" font-family=\"Arial\">U_12</text></svg>"
      ],
      "text/plain": [
       "<cirq.contrib.svg.svg.SVGCircuit at 0x16c4e278c18>"
      ]
     },
     "execution_count": 213,
     "metadata": {},
     "output_type": "execute_result"
    }
   ],
   "source": [
    "# Test 17 - create multiparties superdense coding circuit\n",
    "\n",
    "circuit_multi_SDC = create_multiparties_superdense_coding_circuit(3, [\"01\", \"12\"])\n",
    "SVGCircuit(circuit_multi_SDC)"
   ]
  },
  {
   "cell_type": "code",
   "execution_count": 208,
   "metadata": {},
   "outputs": [
    {
     "name": "stdout",
     "output_type": "stream",
     "text": [
      "GHZ state with qutrit: \n",
      "[0.57735026+0.j 0.        +0.j 0.        +0.j 0.        +0.j\n",
      " 0.        +0.j 0.        +0.j 0.        +0.j 0.        +0.j\n",
      " 0.        +0.j 0.        +0.j 0.        +0.j 0.        +0.j\n",
      " 0.        +0.j 0.57735026+0.j 0.        +0.j 0.        +0.j\n",
      " 0.        +0.j 0.        +0.j 0.        +0.j 0.        +0.j\n",
      " 0.        +0.j 0.        +0.j 0.        +0.j 0.        +0.j\n",
      " 0.        +0.j 0.        +0.j 0.57735026+0.j]\n",
      "state size: (27,)\n"
     ]
    }
   ],
   "source": [
    "# Test 18 - get GHZ states from circuit\n",
    "\n",
    "circuit_multi_SDC = create_multiparties_superdense_coding_circuit(3)\n",
    "state = simulator.simulate(circuit_multi_SDC).final_state_vector\n",
    "\n",
    "print('GHZ state with qutrit: ')\n",
    "print(state)\n",
    "print(f'state size: {state.shape}')\n",
    "\n",
    "assert np.allclose( state, getMultiStates(3, 2)['000'] )"
   ]
  },
  {
   "cell_type": "markdown",
   "metadata": {},
   "source": [
    "### - 9.4 multiparties system's measurement"
   ]
  },
  {
   "cell_type": "code",
   "execution_count": 209,
   "metadata": {},
   "outputs": [],
   "source": [
    "# Test 18 - get Transformation table\n",
    "\n",
    "def getTransformationTable(dimension: int, senders_num: int) -> dict:\n",
    "    \"\"\" create transformation table for U_B U_C psi_00\n",
    "    \n",
    "    \"\"\"\n",
    "    # prepare states and measurement operators.\n",
    "    psi = getMultiStates(dimension, senders_num=senders_num)\n",
    "    M_multi = getMeasurements(psi, dimension)\n",
    "\n",
    "    def getTransformAnswer(U_B: str, U_C: str) -> str:\n",
    "        \"\"\"\n",
    "        Example:\n",
    "            getTransformAnswer(\"00\", \"10\") expected: \"100\"\n",
    "        \"\"\"\n",
    "        circuit_multi_SDC = create_multiparties_superdense_coding_circuit(3, [U_B, U_C])\n",
    "\n",
    "        simulator = cirq.Simulator()\n",
    "        state = simulator.simulate(circuit_multi_SDC).final_state_vector\n",
    "\n",
    "        for k, v in psi.items():\n",
    "            if np.allclose( v, state ):\n",
    "                return k\n",
    "\n",
    "        raise ValueError(\"Can't find a matched state!\")\n",
    "        \n",
    "    combs = []\n",
    "    generateCombs(2, dimension, combs, '')\n",
    "    \n",
    "    table = {}\n",
    "    for U_B in combs:\n",
    "        table[U_B] = {}\n",
    "        \n",
    "        for U_C in combs:\n",
    "            table[U_B][U_C] = getTransformAnswer(U_B, U_C)\n",
    "    \n",
    "    return table"
   ]
  },
  {
   "cell_type": "code",
   "execution_count": 210,
   "metadata": {
    "scrolled": true
   },
   "outputs": [
    {
     "name": "stdout",
     "output_type": "stream",
     "text": [
      "{'00': {'00': '000',\n",
      "        '01': '001',\n",
      "        '02': '002',\n",
      "        '10': '100',\n",
      "        '11': '101',\n",
      "        '12': '102',\n",
      "        '20': '200',\n",
      "        '21': '201',\n",
      "        '22': '202'},\n",
      " '01': {'00': '010',\n",
      "        '01': '011',\n",
      "        '02': '012',\n",
      "        '10': '110',\n",
      "        '11': '111',\n",
      "        '12': '112',\n",
      "        '20': '210',\n",
      "        '21': '211',\n",
      "        '22': '212'},\n",
      " '02': {'00': '020',\n",
      "        '01': '021',\n",
      "        '02': '022',\n",
      "        '10': '120',\n",
      "        '11': '121',\n",
      "        '12': '122',\n",
      "        '20': '220',\n",
      "        '21': '221',\n",
      "        '22': '222'},\n",
      " '10': {'00': '100',\n",
      "        '01': '101',\n",
      "        '02': '102',\n",
      "        '10': '200',\n",
      "        '11': '201',\n",
      "        '12': '202',\n",
      "        '20': '000',\n",
      "        '21': '001',\n",
      "        '22': '002'},\n",
      " '11': {'00': '110',\n",
      "        '01': '111',\n",
      "        '02': '112',\n",
      "        '10': '210',\n",
      "        '11': '211',\n",
      "        '12': '212',\n",
      "        '20': '010',\n",
      "        '21': '011',\n",
      "        '22': '012'},\n",
      " '12': {'00': '120',\n",
      "        '01': '121',\n",
      "        '02': '122',\n",
      "        '10': '220',\n",
      "        '11': '221',\n",
      "        '12': '222',\n",
      "        '20': '020',\n",
      "        '21': '021',\n",
      "        '22': '022'},\n",
      " '20': {'00': '200',\n",
      "        '01': '201',\n",
      "        '02': '202',\n",
      "        '10': '000',\n",
      "        '11': '001',\n",
      "        '12': '002',\n",
      "        '20': '100',\n",
      "        '21': '101',\n",
      "        '22': '102'},\n",
      " '21': {'00': '210',\n",
      "        '01': '211',\n",
      "        '02': '212',\n",
      "        '10': '010',\n",
      "        '11': '011',\n",
      "        '12': '012',\n",
      "        '20': '110',\n",
      "        '21': '111',\n",
      "        '22': '112'},\n",
      " '22': {'00': '220',\n",
      "        '01': '221',\n",
      "        '02': '222',\n",
      "        '10': '020',\n",
      "        '11': '021',\n",
      "        '12': '022',\n",
      "        '20': '120',\n",
      "        '21': '121',\n",
      "        '22': '122'}}\n"
     ]
    }
   ],
   "source": [
    "from pprint import pprint\n",
    "\n",
    "table = getTransformationTable(3, 2)\n",
    "pprint( table )"
   ]
  },
  {
   "cell_type": "code",
   "execution_count": 211,
   "metadata": {},
   "outputs": [
    {
     "name": "stdout",
     "output_type": "stream",
     "text": [
      "================================================================================================================\n",
      "                                                           U_nm(C)                                              \n",
      "             ---------------------------------------------------------------------------------------------------\n",
      " U_nm(B)        U_00      U_10      U_20         U_01      U_11      U_21         U_02      U_12      U_22      \n",
      "----------------------------------------------------------------------------------------------------------------\n",
      "   U_00       psi^0_00  psi^1_00  psi^2_00     psi^0_01  psi^1_01  psi^2_01     psi^0_02  psi^1_02  psi^2_02    \n",
      "   U_10       psi^1_00  psi^2_00  psi^0_00     psi^1_01  psi^2_01  psi^0_01     psi^1_02  psi^2_02  psi^0_02    \n",
      "   U_20       psi^2_00  psi^0_00  psi^1_00     psi^2_01  psi^0_01  psi^1_01     psi^2_02  psi^0_02  psi^1_02    \n",
      "   U_01       psi^0_10  psi^1_10  psi^2_10     psi^0_11  psi^1_11  psi^2_11     psi^0_12  psi^1_12  psi^2_12    \n",
      "   U_11       psi^1_10  psi^2_10  psi^0_10     psi^1_11  psi^2_11  psi^0_11     psi^1_12  psi^2_12  psi^0_12    \n",
      "   U_21       psi^2_10  psi^0_10  psi^1_10     psi^2_11  psi^0_11  psi^1_11     psi^2_12  psi^0_12  psi^1_12    \n",
      "   U_02       psi^0_20  psi^1_20  psi^2_20     psi^0_21  psi^1_21  psi^2_21     psi^0_22  psi^1_22  psi^2_22    \n",
      "   U_12       psi^1_20  psi^2_20  psi^0_20     psi^1_21  psi^2_21  psi^0_21     psi^1_22  psi^2_22  psi^0_22    \n",
      "   U_22       psi^2_20  psi^0_20  psi^1_20     psi^2_21  psi^0_21  psi^1_21     psi^2_22  psi^0_22  psi^1_22    \n",
      "----------------------------------------------------------------------------------------------------------------\n"
     ]
    }
   ],
   "source": [
    "def printTransformationTable(table: dict):\n",
    "    \"\"\"\n",
    "    print transformation table like table 1. in https://arxiv.org/pdf/quant-ph/0110112.pdf\n",
    "    \n",
    "    \"\"\"\n",
    "    order = [\"00\", \"10\", \"20\", \"01\", \"11\", \"21\", \"02\", \"12\", \"22\"]\n",
    "\n",
    "    unit_length = 10; sep = 3\n",
    "\n",
    "    print('=' * (unit_length * 10 + sep * 4))\n",
    "    print(' ' * (unit_length + sep) + f\"{'U_nm(C)':^{unit_length * 9 + sep * 3}}\")\n",
    "    print(' ' * (unit_length + sep) + '-' * (unit_length * 9 + sep * 3))\n",
    "    \n",
    "    def showIndex(index):\n",
    "        if len(index) == 2:\n",
    "            return f\"U_{index[0]}{index[1]}\"\n",
    "        elif len(index) == 3:\n",
    "            return f\"psi^{index[0]}_{index[1]}{index[2]}\"\n",
    "\n",
    "    def printRaw(elems):\n",
    "        string = f\"{elems[0]:^{unit_length}}\" + ' ' * sep\n",
    "        for i in range(3):\n",
    "            string += f\"{elems[i * 3 + 1]:^{unit_length}}\"\n",
    "            string += f\"{elems[i * 3 + 2]:^{unit_length}}\"\n",
    "            string += f\"{elems[i * 3 + 3]:^{unit_length}}\"\n",
    "            string += ' ' * sep\n",
    "\n",
    "        print(string)\n",
    "\n",
    "    printRaw([\"U_nm(B)\"] + [showIndex(index) for index in order])\n",
    "    print('-' * (unit_length * 10 + sep * 4))\n",
    "\n",
    "    for elem in order:\n",
    "        printRaw([showIndex(elem)] + [showIndex(table[elem][k]) for k in order]) \n",
    "\n",
    "    print('-' * (unit_length * 10 + sep * 4))\n",
    "    \n",
    "printTransformationTable(table)"
   ]
  },
  {
   "cell_type": "code",
   "execution_count": 212,
   "metadata": {},
   "outputs": [
    {
     "name": "stdout",
     "output_type": "stream",
     "text": [
      "Measure: circuit_['22', '12']\n",
      "{'000': 0.0, '001': 0.0, '002': 0.0, '010': 0.0, '011': 0.0, '012': 0.0, '020': 0.0, '021': 0.0, '022': 0.99999994, '100': 0.0, '101': 0.0, '102': 0.0, '110': 0.0, '111': 0.0, '112': 0.0, '120': 0.0, '121': 0.0, '122': 1.2939735e-08, '200': 0.0, '201': 0.0, '202': 0.0, '210': 0.0, '211': 0.0, '212': 0.0, '220': 0.0, '221': 0.0, '222': 1.2939735e-08}\n",
      "('022', 0.99999994)\n",
      "\n",
      "Measure: circuit_['00', '21']\n",
      "{'000': 0.0, '001': 0.0, '002': 0.0, '010': 0.0, '011': 0.0, '012': 0.0, '020': 0.0, '021': 0.0, '022': 0.0, '100': 0.0, '101': 3.934948e-08, '102': 0.0, '110': 0.0, '111': 0.0, '112': 0.0, '120': 0.0, '121': 0.0, '122': 0.0, '200': 0.0, '201': 0.99999976, '202': 0.0, '210': 0.0, '211': 0.0, '212': 0.0, '220': 0.0, '221': 0.0, '222': 0.0}\n",
      "('201', 0.99999976)\n",
      "\n",
      "Measure: circuit_['11', '20']\n",
      "{'000': 0.0, '001': 0.0, '002': 0.0, '010': 0.99999994, '011': 0.0, '012': 0.0, '020': 0.0, '021': 0.0, '022': 0.0, '100': 0.0, '101': 0.0, '102': 0.0, '110': 4.3015946e-09, '111': 0.0, '112': 0.0, '120': 0.0, '121': 0.0, '122': 0.0, '200': 0.0, '201': 0.0, '202': 0.0, '210': 4.3015946e-09, '211': 0.0, '212': 0.0, '220': 0.0, '221': 0.0, '222': 0.0}\n",
      "('010', 0.99999994)\n",
      "\n",
      "Measure: circuit_['00', '00']\n",
      "{'000': 0.99999994, '001': 0.0, '002': 0.0, '010': 0.0, '011': 0.0, '012': 0.0, '020': 0.0, '021': 0.0, '022': 0.0, '100': 4.3015946e-09, '101': 0.0, '102': 0.0, '110': 0.0, '111': 0.0, '112': 0.0, '120': 0.0, '121': 0.0, '122': 0.0, '200': 4.3015946e-09, '201': 0.0, '202': 0.0, '210': 0.0, '211': 0.0, '212': 0.0, '220': 0.0, '221': 0.0, '222': 0.0}\n",
      "('000', 0.99999994)\n",
      "\n"
     ]
    }
   ],
   "source": [
    "# Test 19 - measure multiparties system's circuit\n",
    "\n",
    "def measure_multiparties_circuit_test(sending_bits):\n",
    "    # prepare measurement operator\n",
    "    dimension = 3\n",
    "    psi = getMultiStates(dimension, senders_num=2)\n",
    "    M_multi = getMeasurements(psi, dimension)\n",
    "\n",
    "    # prepare SDC circuit\n",
    "    circuit_multi_SDC = create_multiparties_superdense_coding_circuit(3, sending_bits)\n",
    "\n",
    "    # init simulator & simulate\n",
    "    state = simulator.simulate(circuit_multi_SDC).final_state_vector\n",
    "\n",
    "    # measure\n",
    "    probs, max_ = measure(state, M_multi)\n",
    "\n",
    "    print(f'Measure: circuit_{sending_bits}')\n",
    "    print(probs)\n",
    "    print(max_)\n",
    "    print()\n",
    "\n",
    "    assert max_[0] == table[sending_bits[0]][sending_bits[1]] \n",
    "    \n",
    "tests = [[\"22\", \"12\"], [\"00\", \"21\"], [\"11\", \"20\"], [\"00\", \"00\"]]\n",
    "\n",
    "for test_bits in tests:\n",
    "    measure_multiparties_circuit_test(test_bits)"
   ]
  },
  {
   "cell_type": "code",
   "execution_count": null,
   "metadata": {},
   "outputs": [],
   "source": []
  }
 ],
 "metadata": {
  "kernelspec": {
   "display_name": "Python 3",
   "language": "python",
   "name": "python3"
  },
  "language_info": {
   "codemirror_mode": {
    "name": "ipython",
    "version": 3
   },
   "file_extension": ".py",
   "mimetype": "text/x-python",
   "name": "python",
   "nbconvert_exporter": "python",
   "pygments_lexer": "ipython3",
   "version": "3.6.8"
  }
 },
 "nbformat": 4,
 "nbformat_minor": 4
}
