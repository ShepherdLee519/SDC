{
 "cells": [
  {
   "cell_type": "code",
   "execution_count": 1,
   "metadata": {},
   "outputs": [],
   "source": [
    "import cirq\n",
    "import numpy as np\n",
    "\n",
    "from cirq.contrib.svg import SVGCircuit"
   ]
  },
  {
   "cell_type": "code",
   "execution_count": 2,
   "metadata": {},
   "outputs": [],
   "source": [
    "def initCircuit(n):\n",
    "    circuit = cirq.Circuit()\n",
    "    senders = [cirq.LineQubit(i) for i in range(n)]\n",
    "    receivers = [cirq.LineQubit(i) for i in range(n, 2 * n)]\n",
    "\n",
    "    for sender, receiver in zip(senders, receivers):\n",
    "        circuit.append([\n",
    "            cirq.H(sender),\n",
    "            cirq.CNOT(control=sender, target=receiver)\n",
    "        ])\n",
    "    \n",
    "    return senders, receivers, circuit"
   ]
  },
  {
   "cell_type": "code",
   "execution_count": 3,
   "metadata": {},
   "outputs": [],
   "source": [
    "circuits_bits = dict()\n",
    "\n",
    "def operate(circuit, target, bits):\n",
    "    \"\"\"\n",
    "        => Z^(b_1) * X^(b_2)\n",
    "    \"\"\"\n",
    "    if bits[0] == '1':\n",
    "        circuit.append(cirq.Z(target))\n",
    "    if bits[1] == '1':\n",
    "        circuit.append(cirq.X(target))\n",
    "\n",
    "    return circuit\n",
    "\n",
    "def getCircuit(classical_bits):\n",
    "    bits_str = ''.join(classical_bits)\n",
    "    if bits_str in circuits_bits:\n",
    "        return circuits_bits[bits_str].copy()\n",
    "    \n",
    "    \"\"\"\n",
    "        getCircuit(circuit, [\"01\", \"10\", \"00\"])\n",
    "            => X(A1), Z(A2), I(A3)\n",
    "    \"\"\"\n",
    "    # global circuit\n",
    "    circuit_copy = circuit.copy()\n",
    "    \n",
    "    for i, sender in enumerate(senders):\n",
    "        operate(circuit_copy, sender, classical_bits[i])\n",
    "    \n",
    "    circuits_bits[bits_str] = circuit_copy\n",
    "\n",
    "    return circuit_copy"
   ]
  },
  {
   "cell_type": "code",
   "execution_count": 4,
   "metadata": {},
   "outputs": [],
   "source": [
    "def generateCombs(n, combs, comb):\n",
    "    \"\"\"\n",
    "        n = 3 => 000 ... 333\n",
    "    \"\"\"\n",
    "    if len(comb) == n:\n",
    "        combs.append(comb)\n",
    "        \n",
    "        return\n",
    "\n",
    "    for i in range(4):\n",
    "        generateCombs(n, combs, comb + str(i))"
   ]
  },
  {
   "cell_type": "code",
   "execution_count": 5,
   "metadata": {},
   "outputs": [
    {
     "name": "stderr",
     "output_type": "stream",
     "text": [
      "c:\\users\\lenovo\\appdata\\local\\programs\\python\\python36\\lib\\site-packages\\qiskit\\__init__.py:67: DeprecationWarning: Using Qiskit with Python 3.6 is deprecated as of the 0.17.0 release. Support for running Qiskit with Python 3.6 will be removed in a future release.\n",
      "  \"future release.\", DeprecationWarning)\n"
     ]
    }
   ],
   "source": [
    "from qiskit.extensions import HamiltonianGate\n",
    "from cirq.sim import DensityMatrixSimulator\n",
    "\n",
    "matrixes = [\n",
    "    cirq.unitary(cirq.I),cirq.unitary(cirq.X),\n",
    "    cirq.unitary(cirq.Y),cirq.unitary(cirq.Z)\n",
    "]\n",
    "\n",
    "def buildU(n, p):\n",
    "    U = np.zeros((2 ** n, 2 ** n)).astype('complex64')\n",
    "    pos = 0\n",
    "    # global combs\n",
    "    for comb in combs:\n",
    "        temp = np.kron(matrixes[int(comb[0])], matrixes[int(comb[1])])\n",
    "        for i in range(2, n):\n",
    "            temp = np.kron(temp, matrixes[int(comb[i])])\n",
    "        \n",
    "        U += p[pos] * temp\n",
    "        pos += 1\n",
    "    \n",
    "    # simulation time: t = 0.1\n",
    "#     return type => DensityMatrix (qiskit)\n",
    "    op = HamiltonianGate(U, 0.1)\n",
    "    \n",
    "    return op.to_matrix()"
   ]
  },
  {
   "cell_type": "code",
   "execution_count": 6,
   "metadata": {},
   "outputs": [],
   "source": [
    "from qiskit.quantum_info import partial_trace\n",
    "from qutip import Qobj\n",
    "\n",
    "def norm(data):\n",
    "    return Qobj(data.data).unit()\n",
    "\n",
    "def generateRous(n, U, indexes):\n",
    "    \"\"\"\n",
    "        generates subsystems' states\n",
    "        indexes => indexes of qubits need to keep in subsystem\n",
    "    \"\"\"\n",
    "    bits = [\"00\", \"01\", \"10\", \"11\"]\n",
    "    rous = []\n",
    "    \n",
    "    # global combs\n",
    "    for comb in combs:\n",
    "        circuit = getCircuit( [bits[int(i)] for i in comb] )\n",
    "        # cirq.ops.MatrixGate(U):\n",
    "        # matrix representation => Unitary Gate in cirq\n",
    "        circuit.append(cirq.ops.MatrixGate(U)(*senders))\n",
    "        \n",
    "        rous.append( norm(partial_trace(cirq.unitary(circuit), indexes)) )\n",
    "    \n",
    "    return rous"
   ]
  },
  {
   "cell_type": "code",
   "execution_count": 7,
   "metadata": {},
   "outputs": [],
   "source": [
    "from qutip.metrics import tracedist, fidelity\n",
    "\n",
    "def sub_L(rou, sigma, loss_function):\n",
    "    \n",
    "    if loss_function == \"F\":\n",
    "        # fidelity\n",
    "        return fidelity(rou, sigma)\n",
    "    \n",
    "    elif loss_function == \"D\":\n",
    "        # trace\n",
    "        return tracedist(rou, sigma)\n",
    "    else:\n",
    "        return 0"
   ]
  },
  {
   "cell_type": "code",
   "execution_count": 8,
   "metadata": {},
   "outputs": [],
   "source": [
    "def L(n, p, loss_function):\n",
    "    U = buildU(n, p)\n",
    "    rous = []\n",
    "    for i in range(n):\n",
    "        rous.append(generateRous(n, U, [i, i + n]))\n",
    "    \n",
    "    loss = 0.0\n",
    "    size = 2 ** (2 * n)\n",
    "    book = set()\n",
    "    count = 0\n",
    "    for i in range(size):\n",
    "        for j in range(size):\n",
    "            if i != j and f\"{i},{j}\" not in book:\n",
    "                for k in range(n):\n",
    "                    loss += sub_L(rous[k][i], rous[k][j], loss_function)\n",
    "                    count += 1\n",
    "\n",
    "                book.add(f\"{i},{j}\")\n",
    "                book.add(f\"{j},{i}\")\n",
    "    \n",
    "    loss /= count\n",
    "    if loss_function == \"F\":\n",
    "        loss *= -1\n",
    "    \n",
    "    return loss"
   ]
  },
  {
   "cell_type": "code",
   "execution_count": 16,
   "metadata": {},
   "outputs": [],
   "source": [
    "def GradientCalculator(n, p, epsilon, loss_function):\n",
    "    derivates = np.zeros(len(p))\n",
    "    \n",
    "    l_p = L(n, p, loss_function)\n",
    "    for i, param in enumerate(p):\n",
    "        p[i] += epsilon\n",
    "        l_pe = L(n, p, loss_function)\n",
    "        p[i] -= epsilon\n",
    "        \n",
    "        print(\"param:\", i)\n",
    "        print(f\"{l_pe}, {l_p}\")\n",
    "        \n",
    "        derivates[i] = (l_pe - l_p)\n",
    "        \n",
    "    return derivates / epsilon, l_p"
   ]
  },
  {
   "cell_type": "code",
   "execution_count": 14,
   "metadata": {},
   "outputs": [],
   "source": [
    "params = []\n",
    "\n",
    "def SDCLearner(n, *, loss_function=\"D\", epoch=1000, epsilon=0.01):\n",
    "    \"\"\"\n",
    "        param: \n",
    "    \"\"\"\n",
    "    # 1. initialize the parameters with uniformly random nunbers\n",
    "    size = 2 ** (2 * n)\n",
    "    p = np.random.uniform(-1, 1, size)\n",
    "    \n",
    "    # Adam parameters:\n",
    "    momentum, s = 0, 0\n",
    "    alpha = 0.001\n",
    "    belta1 = 0.9; belta2 = 0.999\n",
    "    e = 1e-8\n",
    "    \n",
    "    global params\n",
    "    \n",
    "    t = 0\n",
    "    while t < epoch:\n",
    "        # repeat\n",
    "        t += 1\n",
    "        grad, loss = GradientCalculator(n, p, epsilon, loss_function)\n",
    "#         print(grad)\n",
    "        \n",
    "        # Adam Optimizer\n",
    "        momentum = belta1 * momentum + (1 - belta1) * grad\n",
    "        s = belta2 * s + (1 - belta2) * (grad ** 2)\n",
    "        m_ = momentum / (1 - belta1 ** t)\n",
    "        s_ = s / (1 - belta2 ** t)\n",
    "\n",
    "        # update parameters\n",
    "        p = p - alpha * (m_ / ( s_ ** 0.5 + e ))\n",
    "#         p = p - alpha * grad\n",
    "        \n",
    "        # log\n",
    "        print('epoch: [{}/{}] - loss: {} end.'.format(t, epoch, loss))\n",
    "    \n",
    "    params = p"
   ]
  },
  {
   "cell_type": "code",
   "execution_count": 17,
   "metadata": {
    "scrolled": true
   },
   "outputs": [
    {
     "name": "stdout",
     "output_type": "stream",
     "text": [
      "param: 0\n",
      "0.5079056677216279, 0.5079056677480941\n",
      "param: 1\n",
      "0.5079057458756873, 0.5079056677480941\n",
      "param: 2\n",
      "0.5079056704170145, 0.5079056677480941\n",
      "param: 3\n",
      "0.5079058802356224, 0.5079056677480941\n",
      "param: 4\n",
      "0.5079056876264937, 0.5079056677480941\n",
      "param: 5\n",
      "0.5079056572142491, 0.5079056677480941\n",
      "param: 6\n",
      "0.5079058884092292, 0.5079056677480941\n",
      "param: 7\n",
      "0.5079060914392749, 0.5079056677480941\n",
      "param: 8\n",
      "0.5079058248050086, 0.5079056677480941\n",
      "param: 9\n",
      "0.5079062240436678, 0.5079056677480941\n",
      "param: 10\n",
      "0.5079052359611448, 0.5079056677480941\n",
      "param: 11\n",
      "0.5079065447491826, 0.5079056677480941\n",
      "param: 12\n",
      "0.5079055256332624, 0.5079056677480941\n",
      "param: 13\n",
      "0.5079051884296989, 0.5079056677480941\n",
      "param: 14\n",
      "0.5079067269179768, 0.5079056677480941\n",
      "param: 15\n",
      "0.5079045967261997, 0.5079056677480941\n",
      "epoch: [1/1] - loss: 0.5079056677480941 end.\n"
     ]
    }
   ],
   "source": [
    "n = 2\n",
    "senders, receivers, circuit = initCircuit(n)\n",
    "combs = []\n",
    "generateCombs(n, combs, '')\n",
    "\n",
    "SVGCircuit(circuit)\n",
    "SDCLearner(n, loss_function=\"D\", epoch=1)"
   ]
  },
  {
   "cell_type": "code",
   "execution_count": 76,
   "metadata": {},
   "outputs": [
    {
     "data": {
      "image/svg+xml": [
       "<svg xmlns=\"http://www.w3.org/2000/svg\" width=\"4492.40359375\" height=\"240.0\"><line x1=\"30.0\" x2=\"4462.40359375\" y1=\"45.0\" y2=\"45.0\" stroke=\"#1967d2\" stroke-width=\"1\" /><line x1=\"30.0\" x2=\"4462.40359375\" y1=\"95.0\" y2=\"95.0\" stroke=\"#1967d2\" stroke-width=\"1\" /><line x1=\"30.0\" x2=\"4462.40359375\" y1=\"145.0\" y2=\"145.0\" stroke=\"#1967d2\" stroke-width=\"1\" /><line x1=\"30.0\" x2=\"4462.40359375\" y1=\"195.0\" y2=\"195.0\" stroke=\"#1967d2\" stroke-width=\"1\" /><line x1=\"4292.40359375\" x2=\"4382.40359375\" y1=\"5.0\" y2=\"5.0\" stroke=\"black\" stroke-width=\"1\" /><line x1=\"4292.40359375\" x2=\"4382.40359375\" y1=\"235.0\" y2=\"235.0\" stroke=\"black\" stroke-width=\"1\" /><line x1=\"120.0\" x2=\"210.0\" y1=\"5.0\" y2=\"5.0\" stroke=\"black\" stroke-width=\"1\" /><line x1=\"120.0\" x2=\"210.0\" y1=\"235.0\" y2=\"235.0\" stroke=\"black\" stroke-width=\"1\" /><line x1=\"140.0\" x2=\"140.0\" y1=\"45.0\" y2=\"145.0\" stroke=\"black\" stroke-width=\"3\" /><line x1=\"180.0\" x2=\"180.0\" y1=\"95.0\" y2=\"195.0\" stroke=\"black\" stroke-width=\"3\" /><line x1=\"1329.27517578125\" x2=\"1329.27517578125\" y1=\"45.0\" y2=\"95.0\" stroke=\"black\" stroke-width=\"3\" /><line x1=\"3305.47697265625\" x2=\"3305.47697265625\" y1=\"45.0\" y2=\"95.0\" stroke=\"black\" stroke-width=\"3\" /><line x1=\"4312.40359375\" x2=\"4312.40359375\" y1=\"45.0\" y2=\"145.0\" stroke=\"black\" stroke-width=\"3\" /><line x1=\"4352.40359375\" x2=\"4352.40359375\" y1=\"95.0\" y2=\"195.0\" stroke=\"black\" stroke-width=\"3\" /><line x1=\"4292.40359375\" x2=\"4292.40359375\" y1=\"5.0\" y2=\"15.0\" stroke=\"black\" stroke-width=\"3\" /><line x1=\"4382.40359375\" x2=\"4382.40359375\" y1=\"5.0\" y2=\"15.0\" stroke=\"black\" stroke-width=\"3\" /><line x1=\"4292.40359375\" x2=\"4292.40359375\" y1=\"225.0\" y2=\"235.0\" stroke=\"black\" stroke-width=\"3\" /><line x1=\"4382.40359375\" x2=\"4382.40359375\" y1=\"225.0\" y2=\"235.0\" stroke=\"black\" stroke-width=\"3\" /><line x1=\"120.0\" x2=\"120.0\" y1=\"5.0\" y2=\"15.0\" stroke=\"black\" stroke-width=\"3\" /><line x1=\"210.0\" x2=\"210.0\" y1=\"5.0\" y2=\"15.0\" stroke=\"black\" stroke-width=\"3\" /><line x1=\"120.0\" x2=\"120.0\" y1=\"225.0\" y2=\"235.0\" stroke=\"black\" stroke-width=\"3\" /><line x1=\"210.0\" x2=\"210.0\" y1=\"225.0\" y2=\"235.0\" stroke=\"black\" stroke-width=\"3\" /><rect x=\"10.0\" y=\"25.0\" width=\"40\" height=\"40\" stroke=\"black\" fill=\"white\" stroke-width=\"0\" /><text x=\"30.0\" y=\"45.0\" dominant-baseline=\"middle\" text-anchor=\"middle\" font-size=\"14px\">0: </text><rect x=\"10.0\" y=\"75.0\" width=\"40\" height=\"40\" stroke=\"black\" fill=\"white\" stroke-width=\"0\" /><text x=\"30.0\" y=\"95.0\" dominant-baseline=\"middle\" text-anchor=\"middle\" font-size=\"14px\">1: </text><rect x=\"10.0\" y=\"125.0\" width=\"40\" height=\"40\" stroke=\"black\" fill=\"white\" stroke-width=\"0\" /><text x=\"30.0\" y=\"145.0\" dominant-baseline=\"middle\" text-anchor=\"middle\" font-size=\"14px\">2: </text><rect x=\"10.0\" y=\"175.0\" width=\"40\" height=\"40\" stroke=\"black\" fill=\"white\" stroke-width=\"0\" /><text x=\"30.0\" y=\"195.0\" dominant-baseline=\"middle\" text-anchor=\"middle\" font-size=\"14px\">3: </text><rect x=\"70.0\" y=\"25.0\" width=\"40\" height=\"40\" stroke=\"black\" fill=\"white\" stroke-width=\"1\" /><text x=\"90.0\" y=\"45.0\" dominant-baseline=\"middle\" text-anchor=\"middle\" font-size=\"18px\">H</text><rect x=\"70.0\" y=\"75.0\" width=\"40\" height=\"40\" stroke=\"black\" fill=\"white\" stroke-width=\"1\" /><text x=\"90.0\" y=\"95.0\" dominant-baseline=\"middle\" text-anchor=\"middle\" font-size=\"18px\">H</text><circle cx=\"140.0\" cy=\"45.0\" r=\"10.0\" /><rect x=\"120.0\" y=\"125.0\" width=\"40\" height=\"40\" stroke=\"black\" fill=\"white\" stroke-width=\"1\" /><text x=\"140.0\" y=\"145.0\" dominant-baseline=\"middle\" text-anchor=\"middle\" font-size=\"18px\">X</text><circle cx=\"180.0\" cy=\"95.0\" r=\"10.0\" /><rect x=\"160.0\" y=\"175.0\" width=\"40\" height=\"40\" stroke=\"black\" fill=\"white\" stroke-width=\"1\" /><text x=\"180.0\" y=\"195.0\" dominant-baseline=\"middle\" text-anchor=\"middle\" font-size=\"18px\">X</text><rect x=\"230.0\" y=\"25.0\" width=\"40\" height=\"40\" stroke=\"black\" fill=\"white\" stroke-width=\"1\" /><text x=\"250.0\" y=\"45.0\" dominant-baseline=\"middle\" text-anchor=\"middle\" font-size=\"18px\">Z</text><rect x=\"230.0\" y=\"75.0\" width=\"40\" height=\"40\" stroke=\"black\" fill=\"white\" stroke-width=\"1\" /><text x=\"250.0\" y=\"95.0\" dominant-baseline=\"middle\" text-anchor=\"middle\" font-size=\"18px\">X</text><rect x=\"290.0\" y=\"25.0\" width=\"40\" height=\"40\" stroke=\"black\" fill=\"white\" stroke-width=\"1\" /><text x=\"310.0\" y=\"45.0\" dominant-baseline=\"middle\" text-anchor=\"middle\" font-size=\"18px\">X</text><rect x=\"350.0\" y=\"25.0\" width=\"1958.5503515625\" height=\"40\" stroke=\"black\" fill=\"white\" stroke-width=\"1\" /><text x=\"1329.27517578125\" y=\"45.0\" dominant-baseline=\"middle\" text-anchor=\"middle\" font-size=\"14px\">┌                                                       ┐\n",
       "│ 0.99 +0.008j -0.058+0.038j -0.008+0.076j -0.09 -0.041j│\n",
       "│ 0.066+0.03j   0.973-0.19j   0.092+0.024j  0.05 -0.022j│\n",
       "│ 0.001+0.088j -0.082+0.03j   0.981-0.014j -0.071+0.133j│\n",
       "│ 0.076-0.037j -0.068-0.015j  0.071+0.136j  0.982-0.001j│\n",
       "└                                                       ┘</text><rect x=\"350.0\" y=\"75.0\" width=\"1958.5503515625\" height=\"40\" stroke=\"black\" fill=\"white\" stroke-width=\"1\" /><text x=\"1329.27517578125\" y=\"95.0\" dominant-baseline=\"middle\" text-anchor=\"middle\" font-size=\"14px\">#2</text><rect x=\"2328.5503515624996\" y=\"25.0\" width=\"1953.8532421875002\" height=\"40\" stroke=\"black\" fill=\"white\" stroke-width=\"1\" /><text x=\"3305.47697265625\" y=\"45.0\" dominant-baseline=\"middle\" text-anchor=\"middle\" font-size=\"14px\">┌                                                       ┐\n",
       "│ 0.985-0.057j  0.002-0.038j  0.035-0.131j  0.076+0.017j│\n",
       "│ 0.007-0.022j  0.984+0.135j -0.092-0.008j -0.027-0.06j │\n",
       "│-0.044-0.119j  0.081-0.001j  0.979-0.033j -0.004-0.132j│\n",
       "│-0.091+0.031j  0.032-0.066j -0.011-0.114j  0.984-0.059j│\n",
       "└                                                       ┘</text><rect x=\"2328.5503515624996\" y=\"75.0\" width=\"1953.8532421875002\" height=\"40\" stroke=\"black\" fill=\"white\" stroke-width=\"1\" /><text x=\"3305.47697265625\" y=\"95.0\" dominant-baseline=\"middle\" text-anchor=\"middle\" font-size=\"14px\">#2</text><circle cx=\"4312.40359375\" cy=\"45.0\" r=\"10.0\" /><rect x=\"4292.40359375\" y=\"125.0\" width=\"40\" height=\"40\" stroke=\"black\" fill=\"white\" stroke-width=\"1\" /><text x=\"4312.40359375\" y=\"145.0\" dominant-baseline=\"middle\" text-anchor=\"middle\" font-size=\"18px\">X</text><circle cx=\"4352.40359375\" cy=\"95.0\" r=\"10.0\" /><rect x=\"4332.40359375\" y=\"175.0\" width=\"40\" height=\"40\" stroke=\"black\" fill=\"white\" stroke-width=\"1\" /><text x=\"4352.40359375\" y=\"195.0\" dominant-baseline=\"middle\" text-anchor=\"middle\" font-size=\"18px\">X</text><rect x=\"4402.40359375\" y=\"25.0\" width=\"40\" height=\"40\" stroke=\"black\" fill=\"white\" stroke-width=\"1\" /><text x=\"4422.40359375\" y=\"45.0\" dominant-baseline=\"middle\" text-anchor=\"middle\" font-size=\"18px\">H</text><rect x=\"4402.40359375\" y=\"75.0\" width=\"40\" height=\"40\" stroke=\"black\" fill=\"white\" stroke-width=\"1\" /><text x=\"4422.40359375\" y=\"95.0\" dominant-baseline=\"middle\" text-anchor=\"middle\" font-size=\"18px\">H</text></svg>"
      ],
      "text/plain": [
       "<cirq.contrib.svg.svg.SVGCircuit at 0x1f327317a90>"
      ]
     },
     "execution_count": 76,
     "metadata": {},
     "output_type": "execute_result"
    }
   ],
   "source": [
    "import random\n",
    "\n",
    "def initFullCircuit(n, params):\n",
    "    global senders\n",
    "    global receivers\n",
    "    \n",
    "    bits = [\"00\", \"01\", \"10\", \"11\"]\n",
    "    infos = [random.choice(bits) for i in range(n)]\n",
    "    circuit_test = getCircuit(infos)\n",
    "    circuit_test.append(cirq.ops.MatrixGate(buildU(n, params))(*senders))\n",
    "\n",
    "    for sender, receiver in zip(senders, receivers):\n",
    "        circuit_test.append([cirq.CNOT(control=sender, target=receiver), \n",
    "                             cirq.H(sender)])\n",
    "    \n",
    "    return circuit_test, infos\n",
    "    \n",
    "circuit_test, infos = initFullCircuit(n, params)\n",
    "SVGCircuit(circuit_test)"
   ]
  },
  {
   "cell_type": "code",
   "execution_count": 77,
   "metadata": {},
   "outputs": [],
   "source": [
    "def measureTest(circuit, infos, repetitions=1000):\n",
    "    global senders\n",
    "    global receivers\n",
    "    \n",
    "    sim = cirq.Simulator()\n",
    "    for i in range(len(infos)):\n",
    "        measure_key = \"measure_\" + str(i + 1)\n",
    "        circuit.append(cirq.measure(senders[i], receivers[i], key=measure_key))\n",
    "        \n",
    "        output = sim.run(circuit, repetitions=repetitions)\n",
    "        \n",
    "        print(output.histogram(key=measure_key))\n",
    "        print('expected output: {}'.format(int(infos[i], 2)))"
   ]
  },
  {
   "cell_type": "code",
   "execution_count": 78,
   "metadata": {},
   "outputs": [
    {
     "name": "stdout",
     "output_type": "stream",
     "text": [
      "Counter({3: 997, 2: 3})\n",
      "expected output: 3\n",
      "Counter({1: 994, 2: 5, 0: 1})\n",
      "expected output: 1\n"
     ]
    }
   ],
   "source": [
    "measureTest(circuit_test, infos)"
   ]
  },
  {
   "cell_type": "code",
   "execution_count": 79,
   "metadata": {},
   "outputs": [
    {
     "name": "stdout",
     "output_type": "stream",
     "text": [
      "0.4585010768558637\n",
      "-0.5862448976720304\n"
     ]
    }
   ],
   "source": [
    "print(L(n, params, 'D'))\n",
    "print(L(n, params, 'F'))"
   ]
  },
  {
   "cell_type": "code",
   "execution_count": null,
   "metadata": {},
   "outputs": [],
   "source": []
  }
 ],
 "metadata": {
  "kernelspec": {
   "display_name": "Python 3",
   "language": "python",
   "name": "python3"
  },
  "language_info": {
   "codemirror_mode": {
    "name": "ipython",
    "version": 3
   },
   "file_extension": ".py",
   "mimetype": "text/x-python",
   "name": "python",
   "nbconvert_exporter": "python",
   "pygments_lexer": "ipython3",
   "version": "3.6.8"
  }
 },
 "nbformat": 4,
 "nbformat_minor": 4
}
