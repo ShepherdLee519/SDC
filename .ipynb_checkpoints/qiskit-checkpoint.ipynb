{
 "cells": [
  {
   "cell_type": "code",
   "execution_count": 1,
   "metadata": {},
   "outputs": [
    {
     "name": "stderr",
     "output_type": "stream",
     "text": [
      "c:\\users\\lenovo\\appdata\\local\\programs\\python\\python36\\lib\\site-packages\\qiskit\\__init__.py:67: DeprecationWarning: Using Qiskit with Python 3.6 is deprecated as of the 0.17.0 release. Support for running Qiskit with Python 3.6 will be removed in a future release.\n",
      "  \"future release.\", DeprecationWarning)\n"
     ]
    }
   ],
   "source": [
    "import qiskit\n",
    "import numpy as np"
   ]
  },
  {
   "cell_type": "code",
   "execution_count": 2,
   "metadata": {},
   "outputs": [],
   "source": [
    "from qiskit import QuantumCircuit\n",
    "\n",
    "def initCircuit(n):\n",
    "    circuit = QuantumCircuit(2 * n)\n",
    "    senders = circuit.qubits[0:n]\n",
    "    receivers = circuit.qubits[n:]\n",
    "    \n",
    "    for sender, receiver in zip(senders, receivers):\n",
    "        circuit.h(sender)\n",
    "        circuit.cx(sender, receiver)\n",
    "        \n",
    "    return senders, receivers, circuit"
   ]
  },
  {
   "cell_type": "markdown",
   "metadata": {},
   "source": [
    "#### Test 1: Init citcuit"
   ]
  },
  {
   "cell_type": "code",
   "execution_count": 3,
   "metadata": {},
   "outputs": [
    {
     "data": {
      "text/html": [
       "<pre style=\"word-wrap: normal;white-space: pre;background: #fff0;line-height: 1.1;font-family: &quot;Courier New&quot;,Courier,monospace\">     ┌───┐          \n",
       "q_0: ┤ H ├──■───────\n",
       "     ├───┤  │       \n",
       "q_1: ┤ H ├──┼────■──\n",
       "     └───┘┌─┴─┐  │  \n",
       "q_2: ─────┤ X ├──┼──\n",
       "          └───┘┌─┴─┐\n",
       "q_3: ──────────┤ X ├\n",
       "               └───┘</pre>"
      ],
      "text/plain": [
       "     ┌───┐          \n",
       "q_0: ┤ H ├──■───────\n",
       "     ├───┤  │       \n",
       "q_1: ┤ H ├──┼────■──\n",
       "     └───┘┌─┴─┐  │  \n",
       "q_2: ─────┤ X ├──┼──\n",
       "          └───┘┌─┴─┐\n",
       "q_3: ──────────┤ X ├\n",
       "               └───┘"
      ]
     },
     "execution_count": 3,
     "metadata": {},
     "output_type": "execute_result"
    }
   ],
   "source": [
    "senders_test, receivers_test, circuit_test = initCircuit(2)\n",
    "circuit_test.draw()"
   ]
  },
  {
   "cell_type": "code",
   "execution_count": 4,
   "metadata": {},
   "outputs": [],
   "source": [
    "circuits_bits = dict()\n",
    "\n",
    "def operate(circuit, target, bits):\n",
    "    \"\"\"\n",
    "        => Z^(b_1) * X^(b_2)\n",
    "    \"\"\"\n",
    "    if bits[0] == '1':\n",
    "        circuit.z(target)\n",
    "    if bits[1] == '1':\n",
    "        circuit.x(target)\n",
    "\n",
    "    return circuit\n",
    "\n",
    "def getCircuit(classical_bits):\n",
    "    bits_str = ''.join(classical_bits)\n",
    "    if bits_str in circuits_bits:\n",
    "        return circuits_bits[bits_str].copy()\n",
    "    \n",
    "    \"\"\"\n",
    "        getCircuit(circuit, [\"01\", \"10\", \"00\"])\n",
    "            => X(A1), Z(A2), I(A3)\n",
    "    \"\"\"\n",
    "    # global circuit\n",
    "    circuit_copy = circuit.copy()\n",
    "    \n",
    "    circuit_copy.barrier(senders)\n",
    "    for i, sender in enumerate(senders):\n",
    "        operate(circuit_copy, sender, classical_bits[i])\n",
    "    \n",
    "    # memoized\n",
    "    circuits_bits[bits_str] = circuit_copy\n",
    "\n",
    "    return circuit_copy"
   ]
  },
  {
   "cell_type": "markdown",
   "metadata": {},
   "source": [
    "#### Test 2: Get citcuit"
   ]
  },
  {
   "cell_type": "code",
   "execution_count": 5,
   "metadata": {},
   "outputs": [
    {
     "data": {
      "text/html": [
       "<pre style=\"word-wrap: normal;white-space: pre;background: #fff0;line-height: 1.1;font-family: &quot;Courier New&quot;,Courier,monospace\">     ┌───┐           ░ ┌───┐     \n",
       "q_0: ┤ H ├──■────────░─┤ Z ├─────\n",
       "     ├───┤  │        ░ ├───┤┌───┐\n",
       "q_1: ┤ H ├──┼────■───░─┤ Z ├┤ X ├\n",
       "     └───┘┌─┴─┐  │   ░ └───┘└───┘\n",
       "q_2: ─────┤ X ├──┼───────────────\n",
       "          └───┘┌─┴─┐             \n",
       "q_3: ──────────┤ X ├─────────────\n",
       "               └───┘             </pre>"
      ],
      "text/plain": [
       "     ┌───┐           ░ ┌───┐     \n",
       "q_0: ┤ H ├──■────────░─┤ Z ├─────\n",
       "     ├───┤  │        ░ ├───┤┌───┐\n",
       "q_1: ┤ H ├──┼────■───░─┤ Z ├┤ X ├\n",
       "     └───┘┌─┴─┐  │   ░ └───┘└───┘\n",
       "q_2: ─────┤ X ├──┼───────────────\n",
       "          └───┘┌─┴─┐             \n",
       "q_3: ──────────┤ X ├─────────────\n",
       "               └───┘             "
      ]
     },
     "execution_count": 5,
     "metadata": {},
     "output_type": "execute_result"
    }
   ],
   "source": [
    "senders, receivers, circuit = initCircuit(2)\n",
    "circuit_1011 = getCircuit(['10', '11'])\n",
    "circuit_1011.draw()"
   ]
  },
  {
   "cell_type": "code",
   "execution_count": 6,
   "metadata": {},
   "outputs": [],
   "source": [
    "def generateCombs(n, combs, comb):\n",
    "    \"\"\"\n",
    "        n = 3 => 000 ... 333\n",
    "    \"\"\"\n",
    "    if len(comb) == n:\n",
    "        combs.append(comb)\n",
    "        \n",
    "        return\n",
    "\n",
    "    for i in range(4):\n",
    "        generateCombs(n, combs, comb + str(i))"
   ]
  },
  {
   "cell_type": "code",
   "execution_count": 7,
   "metadata": {
    "scrolled": true
   },
   "outputs": [
    {
     "name": "stdout",
     "output_type": "stream",
     "text": [
      "['00', '01', '02', '03', '10', '11', '12', '13', '20', '21', '22', '23', '30', '31', '32', '33']\n"
     ]
    }
   ],
   "source": [
    "combs = []\n",
    "generateCombs(2, combs, '')\n",
    "\n",
    "print(combs)"
   ]
  },
  {
   "cell_type": "code",
   "execution_count": 8,
   "metadata": {},
   "outputs": [
    {
     "name": "stderr",
     "output_type": "stream",
     "text": [
      "c:\\users\\lenovo\\appdata\\local\\programs\\python\\python36\\lib\\site-packages\\qiskit\\quantum_info\\operators\\symplectic\\pauli.py:187: DeprecationWarning: Initializing Pauli from `Pauli(label=l)` kwarg is deprecated as of version 0.17.0 and will be removed no earlier than 3 months after the release date. Use `Pauli(l)` instead.\n",
      "  base_z, base_x, base_phase = self._from_label_deprecated(label)\n"
     ]
    }
   ],
   "source": [
    "from collections import defaultdict\n",
    "\n",
    "from qiskit.quantum_info.operators import Operator, Pauli\n",
    "from qiskit.extensions import HamiltonianGate\n",
    "\n",
    "matrixes = [\n",
    "    Pauli(label='I').to_matrix(),\n",
    "    Pauli(label='X').to_matrix(),\n",
    "    Pauli(label='Y').to_matrix(),\n",
    "    Pauli(label='Z').to_matrix(),\n",
    "]\n",
    "\n",
    "Hermitians = defaultdict(list)\n",
    "\n",
    "def buildU(n, p, time):\n",
    "    H = np.zeros((2 ** n, 2 ** n)).astype('complex64')\n",
    "    \n",
    "    # global Hermitians\n",
    "    if n not in Hermitians:\n",
    "        # global combs\n",
    "        for comb in combs:\n",
    "            temp = np.kron(matrixes[int(comb[0])], matrixes[int(comb[1])])\n",
    "            \n",
    "            for i in range(2, n):\n",
    "                temp = np.kron(temp, matrixes[int(comb[i])])\n",
    "                \n",
    "            Hermitians[n].append(temp)\n",
    "            \n",
    "    for para, hermitian in zip(p, Hermitians[n]):\n",
    "        H += para * hermitian\n",
    "    \n",
    "    # time: simulation time\n",
    "    # return type => DensityMatrix (qiskit)\n",
    "    U = HamiltonianGate(H, time)\n",
    "    \n",
    "    return U.to_matrix()"
   ]
  },
  {
   "cell_type": "markdown",
   "metadata": {},
   "source": [
    "#### Test 3: build unitary U"
   ]
  },
  {
   "cell_type": "code",
   "execution_count": 9,
   "metadata": {},
   "outputs": [
    {
     "name": "stdout",
     "output_type": "stream",
     "text": [
      "[[-0.44972618+0.08345362j -0.73440474-0.05701787j -0.24882814-0.09213522j\n",
      "  -0.34385117+0.24401339j]\n",
      " [-0.73751328-0.23479888j  0.02613798+0.12246161j  0.38127963+0.10241183j\n",
      "   0.4725008 -0.07838532j]\n",
      " [ 0.01012836+0.39077994j -0.09604489-0.58944091j -0.07901476+0.62507972j\n",
      "   0.30313154+0.04082315j]\n",
      " [-0.16314911+0.1108888j   0.29138068+0.01227561j  0.50108111+0.35451806j\n",
      "  -0.65681927+0.26049139j]]\n"
     ]
    },
    {
     "data": {
      "text/plain": [
       "True"
      ]
     },
     "execution_count": 9,
     "metadata": {},
     "output_type": "execute_result"
    }
   ],
   "source": [
    "n = 2\n",
    "U1 = buildU(n, np.random.uniform(-1, 1, 2 ** (2*n)), time=1.2)\n",
    "print(U1)\n",
    "U2 = np.conj(U1).T # U-dagger\n",
    "I = np.eye(2 ** n)\n",
    "\n",
    "# U * U_dagger = I => unitary\n",
    "# expected: true\n",
    "np.allclose(U1 @ U2, I)"
   ]
  },
  {
   "cell_type": "code",
   "execution_count": 10,
   "metadata": {},
   "outputs": [
    {
     "name": "stdout",
     "output_type": "stream",
     "text": [
      "[[-0.03646089+0.3642064j   0.01937987+0.30514892j -0.63137264-0.5678634j\n",
      "   0.04619293+0.22203336j]\n",
      " [-0.42359935+0.32808928j  0.38825193+0.61236027j  0.21028536+0.31533524j\n",
      "  -0.20553437-0.03599628j]\n",
      " [-0.53852469+0.25279291j -0.06227527-0.28937604j  0.04146501+0.1122987j\n",
      "   0.72116258+0.15512701j]\n",
      " [ 0.20077224-0.42979382j  0.35004413+0.41308147j  0.18943008-0.29159801j\n",
      "   0.57114211-0.18623675j]]\n"
     ]
    },
    {
     "data": {
      "text/plain": [
       "True"
      ]
     },
     "execution_count": 10,
     "metadata": {},
     "output_type": "execute_result"
    }
   ],
   "source": [
    "p = np.array([ 0.44332251,  0.95173244,  0.38083929, -0.81940288, -0.5750838 ,\n",
    "        0.05175562, -0.54766393, -0.66660402,  0.07657007, -0.32907866,\n",
    "       -0.71792834,  0.61934533,  0.83726311,  0.58138995,  0.74442807,\n",
    "       -0.31855637])\n",
    "U1 = buildU(2, p, time=1.2)\n",
    "print(U1)\n",
    "U2 = np.conj(U1).T # U-dagger\n",
    "I = np.eye(2 ** n)\n",
    "\n",
    "# U * U_dagger = I => unitary\n",
    "# expected: true\n",
    "np.allclose(U1 @ U2, I)"
   ]
  },
  {
   "cell_type": "code",
   "execution_count": 11,
   "metadata": {},
   "outputs": [],
   "source": [
    "from qiskit.quantum_info import partial_trace, DensityMatrix\n",
    "from qiskit.extensions import UnitaryGate\n",
    "import qiskit.quantum_info as qi\n",
    "\n",
    "def generateRous(n, U, indexes):\n",
    "    \"\"\"\n",
    "        generates subsystems' states\n",
    "        indexes => indexes of qubits need to keep in subsystem\n",
    "    \"\"\"\n",
    "    bits = [\"00\", \"01\", \"10\", \"11\"]\n",
    "    rous = []\n",
    "    \n",
    "    # global combs\n",
    "    for comb in combs:\n",
    "        circuit = getCircuit( [bits[int(i)] for i in comb] )\n",
    "        \n",
    "        # cirq.ops.MatrixGate(U):\n",
    "        # matrix representation => Unitary Gate in cirq\n",
    "        circuit.append(UnitaryGate(U), senders)\n",
    "        \n",
    "        rous.append( partial_trace(DensityMatrix(circuit), indexes) )\n",
    "    \n",
    "    return rous"
   ]
  },
  {
   "cell_type": "markdown",
   "metadata": {},
   "source": [
    "#### Test 4: calculate rou_AB"
   ]
  },
  {
   "cell_type": "code",
   "execution_count": 26,
   "metadata": {},
   "outputs": [
    {
     "name": "stdout",
     "output_type": "stream",
     "text": [
      "[DensityMatrix([[ 0.24281234+1.73472348e-18j, -0.02414275+8.46803236e-02j,\n",
      "                 0.07839707+3.87108781e-02j,  0.08077375-1.61822708e-01j],\n",
      "               [-0.02414275-8.46803236e-02j,  0.25718766+2.00577402e-18j,\n",
      "                -0.10590688-1.74217873e-01j, -0.07839707-3.87108781e-02j],\n",
      "               [ 0.07839707-3.87108781e-02j, -0.10590688+1.74217873e-01j,\n",
      "                 0.25718766-5.20417043e-18j,  0.02414275-8.46803236e-02j],\n",
      "               [ 0.08077375+1.61822708e-01j, -0.07839707+3.87108781e-02j,\n",
      "                 0.02414275+8.46803236e-02j,  0.24281234+5.20417043e-18j]],\n",
      "              dims=(2, 2)), DensityMatrix([[ 0.25718766-5.20417043e-18j,  0.02414275-8.46803236e-02j,\n",
      "                 0.07839707-3.87108781e-02j, -0.10590688+1.74217873e-01j],\n",
      "               [ 0.02414275+8.46803236e-02j,  0.24281234+5.20417043e-18j,\n",
      "                 0.08077375+1.61822708e-01j, -0.07839707+3.87108781e-02j],\n",
      "               [ 0.07839707+3.87108781e-02j,  0.08077375-1.61822708e-01j,\n",
      "                 0.24281234+1.73472348e-18j, -0.02414275+8.46803236e-02j],\n",
      "               [-0.10590688-1.74217873e-01j, -0.07839707-3.87108781e-02j,\n",
      "                -0.02414275-8.46803236e-02j,  0.25718766+2.00577402e-18j]],\n",
      "              dims=(2, 2)), DensityMatrix([[ 0.24281234+1.73472348e-18j, -0.02414275+8.46803236e-02j,\n",
      "                -0.07839707-3.87108781e-02j, -0.08077375+1.61822708e-01j],\n",
      "               [-0.02414275-8.46803236e-02j,  0.25718766+2.00577402e-18j,\n",
      "                 0.10590688+1.74217873e-01j,  0.07839707+3.87108781e-02j],\n",
      "               [-0.07839707+3.87108781e-02j,  0.10590688-1.74217873e-01j,\n",
      "                 0.25718766-5.20417043e-18j,  0.02414275-8.46803236e-02j],\n",
      "               [-0.08077375-1.61822708e-01j,  0.07839707-3.87108781e-02j,\n",
      "                 0.02414275+8.46803236e-02j,  0.24281234+5.20417043e-18j]],\n",
      "              dims=(2, 2)), DensityMatrix([[ 0.25718766-5.20417043e-18j,  0.02414275-8.46803236e-02j,\n",
      "                -0.07839707+3.87108781e-02j,  0.10590688-1.74217873e-01j],\n",
      "               [ 0.02414275+8.46803236e-02j,  0.24281234+5.20417043e-18j,\n",
      "                -0.08077375-1.61822708e-01j,  0.07839707-3.87108781e-02j],\n",
      "               [-0.07839707-3.87108781e-02j, -0.08077375+1.61822708e-01j,\n",
      "                 0.24281234+1.73472348e-18j, -0.02414275+8.46803236e-02j],\n",
      "               [ 0.10590688+1.74217873e-01j,  0.07839707+3.87108781e-02j,\n",
      "                -0.02414275-8.46803236e-02j,  0.25718766+2.00577402e-18j]],\n",
      "              dims=(2, 2)), DensityMatrix([[ 0.24281234+1.73472348e-18j, -0.02414275+8.46803236e-02j,\n",
      "                 0.07839707+3.87108781e-02j,  0.08077375-1.61822708e-01j],\n",
      "               [-0.02414275-8.46803236e-02j,  0.25718766+2.00577402e-18j,\n",
      "                -0.10590688-1.74217873e-01j, -0.07839707-3.87108781e-02j],\n",
      "               [ 0.07839707-3.87108781e-02j, -0.10590688+1.74217873e-01j,\n",
      "                 0.25718766-5.20417043e-18j,  0.02414275-8.46803236e-02j],\n",
      "               [ 0.08077375+1.61822708e-01j, -0.07839707+3.87108781e-02j,\n",
      "                 0.02414275+8.46803236e-02j,  0.24281234+5.20417043e-18j]],\n",
      "              dims=(2, 2)), DensityMatrix([[ 0.25718766-5.20417043e-18j,  0.02414275-8.46803236e-02j,\n",
      "                 0.07839707-3.87108781e-02j, -0.10590688+1.74217873e-01j],\n",
      "               [ 0.02414275+8.46803236e-02j,  0.24281234+5.20417043e-18j,\n",
      "                 0.08077375+1.61822708e-01j, -0.07839707+3.87108781e-02j],\n",
      "               [ 0.07839707+3.87108781e-02j,  0.08077375-1.61822708e-01j,\n",
      "                 0.24281234+1.73472348e-18j, -0.02414275+8.46803236e-02j],\n",
      "               [-0.10590688-1.74217873e-01j, -0.07839707-3.87108781e-02j,\n",
      "                -0.02414275-8.46803236e-02j,  0.25718766+2.00577402e-18j]],\n",
      "              dims=(2, 2)), DensityMatrix([[ 0.24281234+1.73472348e-18j, -0.02414275+8.46803236e-02j,\n",
      "                -0.07839707-3.87108781e-02j, -0.08077375+1.61822708e-01j],\n",
      "               [-0.02414275-8.46803236e-02j,  0.25718766+2.00577402e-18j,\n",
      "                 0.10590688+1.74217873e-01j,  0.07839707+3.87108781e-02j],\n",
      "               [-0.07839707+3.87108781e-02j,  0.10590688-1.74217873e-01j,\n",
      "                 0.25718766-5.20417043e-18j,  0.02414275-8.46803236e-02j],\n",
      "               [-0.08077375-1.61822708e-01j,  0.07839707-3.87108781e-02j,\n",
      "                 0.02414275+8.46803236e-02j,  0.24281234+5.20417043e-18j]],\n",
      "              dims=(2, 2)), DensityMatrix([[ 0.25718766-5.20417043e-18j,  0.02414275-8.46803236e-02j,\n",
      "                -0.07839707+3.87108781e-02j,  0.10590688-1.74217873e-01j],\n",
      "               [ 0.02414275+8.46803236e-02j,  0.24281234+5.20417043e-18j,\n",
      "                -0.08077375-1.61822708e-01j,  0.07839707-3.87108781e-02j],\n",
      "               [-0.07839707-3.87108781e-02j, -0.08077375+1.61822708e-01j,\n",
      "                 0.24281234+1.73472348e-18j, -0.02414275+8.46803236e-02j],\n",
      "               [ 0.10590688+1.74217873e-01j,  0.07839707+3.87108781e-02j,\n",
      "                -0.02414275-8.46803236e-02j,  0.25718766+2.00577402e-18j]],\n",
      "              dims=(2, 2)), DensityMatrix([[ 0.24281234+1.73472348e-18j, -0.02414275+8.46803236e-02j,\n",
      "                 0.07839707+3.87108781e-02j,  0.08077375-1.61822708e-01j],\n",
      "               [-0.02414275-8.46803236e-02j,  0.25718766+2.00577402e-18j,\n",
      "                -0.10590688-1.74217873e-01j, -0.07839707-3.87108781e-02j],\n",
      "               [ 0.07839707-3.87108781e-02j, -0.10590688+1.74217873e-01j,\n",
      "                 0.25718766-5.20417043e-18j,  0.02414275-8.46803236e-02j],\n",
      "               [ 0.08077375+1.61822708e-01j, -0.07839707+3.87108781e-02j,\n",
      "                 0.02414275+8.46803236e-02j,  0.24281234+5.20417043e-18j]],\n",
      "              dims=(2, 2)), DensityMatrix([[ 0.25718766-5.20417043e-18j,  0.02414275-8.46803236e-02j,\n",
      "                 0.07839707-3.87108781e-02j, -0.10590688+1.74217873e-01j],\n",
      "               [ 0.02414275+8.46803236e-02j,  0.24281234+5.20417043e-18j,\n",
      "                 0.08077375+1.61822708e-01j, -0.07839707+3.87108781e-02j],\n",
      "               [ 0.07839707+3.87108781e-02j,  0.08077375-1.61822708e-01j,\n",
      "                 0.24281234+1.73472348e-18j, -0.02414275+8.46803236e-02j],\n",
      "               [-0.10590688-1.74217873e-01j, -0.07839707-3.87108781e-02j,\n",
      "                -0.02414275-8.46803236e-02j,  0.25718766+2.00577402e-18j]],\n",
      "              dims=(2, 2)), DensityMatrix([[ 0.24281234+1.73472348e-18j, -0.02414275+8.46803236e-02j,\n",
      "                -0.07839707-3.87108781e-02j, -0.08077375+1.61822708e-01j],\n",
      "               [-0.02414275-8.46803236e-02j,  0.25718766+2.00577402e-18j,\n",
      "                 0.10590688+1.74217873e-01j,  0.07839707+3.87108781e-02j],\n",
      "               [-0.07839707+3.87108781e-02j,  0.10590688-1.74217873e-01j,\n",
      "                 0.25718766-5.20417043e-18j,  0.02414275-8.46803236e-02j],\n",
      "               [-0.08077375-1.61822708e-01j,  0.07839707-3.87108781e-02j,\n",
      "                 0.02414275+8.46803236e-02j,  0.24281234+5.20417043e-18j]],\n",
      "              dims=(2, 2)), DensityMatrix([[ 0.26616477+8.67361738e-19j,  0.03834888+4.49419170e-03j,\n",
      "                 0.02333468+4.08729503e-02j,  0.07876144-2.82914898e-02j],\n",
      "               [ 0.03834888-4.49419170e-03j,  0.23383523-3.46944695e-18j,\n",
      "                 0.02691209+7.53344421e-02j, -0.02333468-4.08729503e-02j],\n",
      "               [ 0.02333468-4.08729503e-02j,  0.02691209-7.53344421e-02j,\n",
      "                 0.23383523-1.73472348e-18j, -0.03834888-4.49419170e-03j],\n",
      "               [ 0.07876144+2.82914898e-02j, -0.02333468+4.08729503e-02j,\n",
      "                -0.03834888+4.49419170e-03j,  0.26616477-1.73472348e-18j]],\n",
      "              dims=(2, 2)), DensityMatrix([[ 0.24281234+1.73472348e-18j, -0.02414275+8.46803236e-02j,\n",
      "                 0.07839707+3.87108781e-02j,  0.08077375-1.61822708e-01j],\n",
      "               [-0.02414275-8.46803236e-02j,  0.25718766+2.00577402e-18j,\n",
      "                -0.10590688-1.74217873e-01j, -0.07839707-3.87108781e-02j],\n",
      "               [ 0.07839707-3.87108781e-02j, -0.10590688+1.74217873e-01j,\n",
      "                 0.25718766-5.20417043e-18j,  0.02414275-8.46803236e-02j],\n",
      "               [ 0.08077375+1.61822708e-01j, -0.07839707+3.87108781e-02j,\n",
      "                 0.02414275+8.46803236e-02j,  0.24281234+5.20417043e-18j]],\n",
      "              dims=(2, 2)), DensityMatrix([[ 0.25718766-5.20417043e-18j,  0.02414275-8.46803236e-02j,\n",
      "                 0.07839707-3.87108781e-02j, -0.10590688+1.74217873e-01j],\n",
      "               [ 0.02414275+8.46803236e-02j,  0.24281234+5.20417043e-18j,\n",
      "                 0.08077375+1.61822708e-01j, -0.07839707+3.87108781e-02j],\n",
      "               [ 0.07839707+3.87108781e-02j,  0.08077375-1.61822708e-01j,\n",
      "                 0.24281234+1.73472348e-18j, -0.02414275+8.46803236e-02j],\n",
      "               [-0.10590688-1.74217873e-01j, -0.07839707-3.87108781e-02j,\n",
      "                -0.02414275-8.46803236e-02j,  0.25718766+2.00577402e-18j]],\n",
      "              dims=(2, 2)), DensityMatrix([[ 0.24281234+1.73472348e-18j, -0.02414275+8.46803236e-02j,\n",
      "                -0.07839707-3.87108781e-02j, -0.08077375+1.61822708e-01j],\n",
      "               [-0.02414275-8.46803236e-02j,  0.25718766+2.00577402e-18j,\n",
      "                 0.10590688+1.74217873e-01j,  0.07839707+3.87108781e-02j],\n",
      "               [-0.07839707+3.87108781e-02j,  0.10590688-1.74217873e-01j,\n",
      "                 0.25718766-5.20417043e-18j,  0.02414275-8.46803236e-02j],\n",
      "               [-0.08077375-1.61822708e-01j,  0.07839707-3.87108781e-02j,\n",
      "                 0.02414275+8.46803236e-02j,  0.24281234+5.20417043e-18j]],\n",
      "              dims=(2, 2)), DensityMatrix([[ 0.25718766-5.20417043e-18j,  0.02414275-8.46803236e-02j,\n",
      "                -0.07839707+3.87108781e-02j,  0.10590688-1.74217873e-01j],\n",
      "               [ 0.02414275+8.46803236e-02j,  0.24281234+5.20417043e-18j,\n",
      "                -0.08077375-1.61822708e-01j,  0.07839707-3.87108781e-02j],\n",
      "               [-0.07839707-3.87108781e-02j, -0.08077375+1.61822708e-01j,\n",
      "                 0.24281234+1.73472348e-18j, -0.02414275+8.46803236e-02j],\n",
      "               [ 0.10590688+1.74217873e-01j,  0.07839707+3.87108781e-02j,\n",
      "                -0.02414275-8.46803236e-02j,  0.25718766+2.00577402e-18j]],\n",
      "              dims=(2, 2))]\n"
     ]
    }
   ],
   "source": [
    "n = 2\n",
    "p = np.array([-0.96007332,  0.19811892,  0.02909524, -0.7903949 , -0.87109773,\n",
    "        0.50548779,  0.93497829, -0.07709957,  0.8608604 , -0.0903555 ,\n",
    "        0.57477598,  0.64402944,  0.26530859, -0.18519221, -0.45444989,\n",
    "       -0.54795223])\n",
    "tempU = buildU(n, p, time=1)\n",
    "rous = generateRous(n, tempU, [0, 2])\n",
    "print(rous)\n",
    "# print(rous[0].data.shape)\n",
    "# print(rous[4].data)"
   ]
  },
  {
   "cell_type": "markdown",
   "metadata": {},
   "source": [
    "#### Test 5: fidelity"
   ]
  },
  {
   "cell_type": "code",
   "execution_count": 13,
   "metadata": {},
   "outputs": [
    {
     "name": "stdout",
     "output_type": "stream",
     "text": [
      "0.2500000000000001\n",
      "0.5\n"
     ]
    }
   ],
   "source": [
    "from qiskit.quantum_info import state_fidelity\n",
    "from scipy.linalg import sqrtm\n",
    "\n",
    "rou = np.array([[ 0.5, 0, 0, 0],\n",
    "                 [ 0, 0.5, 0, 0],\n",
    "                 [ 0, 0, 0, 0],\n",
    "                 [ 0, 0, 0, 0]])\n",
    "\n",
    "sigma = np.array([[ 0.5, 0, 0, 0],\n",
    "              [ 0,   0, 0, 0   ],\n",
    "              [ 0 ,  0, 0, 0   ],\n",
    "              [0, 0, 0,  0.5]])\n",
    "\n",
    "print(state_fidelity(rou, sigma))\n",
    "\n",
    "rou_root = sqrtm(rou)\n",
    "f = np.dot(rou_root, sigma)\n",
    "f = np.dot(f, rou_root)\n",
    "f = sqrtm(f)\n",
    "\n",
    "print(np.trace(f))"
   ]
  },
  {
   "cell_type": "code",
   "execution_count": 14,
   "metadata": {},
   "outputs": [],
   "source": [
    "from qiskit.quantum_info import state_fidelity\n",
    "from scipy.linalg import sqrtm\n",
    "\n",
    "def sub_L(rou, sigma, loss_function):\n",
    "    loss = 0\n",
    "    \n",
    "    if loss_function == \"F\":\n",
    "        # fidelity\n",
    "        rou_root = sqrtm(rou)\n",
    "        f = np.dot(rou_root, sigma)\n",
    "        f = np.dot(f, rou_root)\n",
    "        f = sqrtm(f)\n",
    "        \n",
    "        return np.linalg.norm( np.trace(f) )\n",
    "\n",
    "    elif loss_function == \"D\":\n",
    "        # trace\n",
    "        A = rou - sigma\n",
    "        A_ = sqrtm( np.dot( A.conj().T, A ) )\n",
    "        \n",
    "        return 0.5 * np.linalg.norm( np.trace(A_) )\n",
    "\n",
    "#     print(loss)\n",
    "    return loss"
   ]
  },
  {
   "cell_type": "markdown",
   "metadata": {},
   "source": [
    "#### Test 6: distance calculate"
   ]
  },
  {
   "cell_type": "code",
   "execution_count": 27,
   "metadata": {},
   "outputs": [
    {
     "name": "stdout",
     "output_type": "stream",
     "text": [
      "0.0\n",
      "1.000000000000001\n"
     ]
    }
   ],
   "source": [
    "p = np.array([-0.96007332,  0.19811892,  0.02909524, -0.7903949 , -0.87109773,\n",
    "        0.50548779,  0.93497829, -0.07709957,  0.8608604 , -0.0903555 ,\n",
    "        0.57477598,  0.64402944,  0.26530859, -0.18519221, -0.45444989,\n",
    "       -0.54795223])\n",
    "\n",
    "n = 2\n",
    "tempU = buildU(n, p, time=1)\n",
    "rous = generateRous(n, tempU, [0, 2])\n",
    "rou = rous[9].data\n",
    "sigma = rous[2].data\n",
    "\n",
    "print( sub_L(rou, sigma, 'D') )\n",
    "print( sub_L(rou, sigma, 'F') )"
   ]
  },
  {
   "cell_type": "code",
   "execution_count": 16,
   "metadata": {},
   "outputs": [],
   "source": [
    "def L(n, p, loss_function, time):\n",
    "    U = buildU(n, p, time)\n",
    "    rous = []\n",
    "    for i in range(n):\n",
    "        rous.append(generateRous(n, U, [i, i + n]))\n",
    "    \n",
    "    loss = 0.0\n",
    "    size = 2 ** (2 * n)\n",
    "    book = set()\n",
    "    count = 0\n",
    "    for i in range(size):\n",
    "        for j in range(size):\n",
    "            if i != j and f\"{i},{j}\" not in book:\n",
    "                for k in range(n):\n",
    "                    loss += sub_L(rous[k][i].data, rous[k][j].data, loss_function)\n",
    "                    count += 1\n",
    "\n",
    "                book.add(f\"{i},{j}\")\n",
    "                book.add(f\"{j},{i}\")\n",
    "    \n",
    "    loss /= count\n",
    "    if loss_function == \"F\":\n",
    "        loss *= -1\n",
    "    \n",
    "    return loss"
   ]
  },
  {
   "cell_type": "markdown",
   "metadata": {},
   "source": [
    "#### Test 7: loss calculate"
   ]
  },
  {
   "cell_type": "code",
   "execution_count": 17,
   "metadata": {},
   "outputs": [
    {
     "name": "stdout",
     "output_type": "stream",
     "text": [
      "0.31838000635280544\n",
      "-0.914600607465573\n"
     ]
    }
   ],
   "source": [
    "p = np.array([-0.96007332,  0.19811892,  0.02909524, -0.7903949 , -0.87109773,\n",
    "        0.50548779,  0.93497829, -0.07709957,  0.8608604 , -0.0903555 ,\n",
    "        0.57477598,  0.64402944,  0.26530859, -0.18519221, -0.45444989,\n",
    "       -0.54795223])\n",
    "\n",
    "print( L(2, p, 'D', 0.2) )\n",
    "print( L(2, p, 'F', 0.2) )"
   ]
  },
  {
   "cell_type": "code",
   "execution_count": 18,
   "metadata": {},
   "outputs": [],
   "source": [
    "def GradientCalculator(n, p, epsilon, loss_function, time):\n",
    "    derivates = np.zeros(len(p))\n",
    "    \n",
    "    l_p = L(n, p, loss_function, time)\n",
    "    for i, param in enumerate(p):\n",
    "        p[i] += epsilon\n",
    "        l_pe = L(n, p, loss_function, time)\n",
    "        p[i] -= epsilon\n",
    "        \n",
    "        derivates[i] = (l_pe - l_p)\n",
    "        \n",
    "    return derivates / epsilon, l_p"
   ]
  },
  {
   "cell_type": "code",
   "execution_count": 19,
   "metadata": {},
   "outputs": [],
   "source": [
    "params = []\n",
    "losses = []\n",
    "\n",
    "def SDCLearner(n, *, loss_function=\"D\", epoch=1000, epsilon=0.01, time=0.2):\n",
    "    \"\"\"\n",
    "        param: \n",
    "    \"\"\"\n",
    "    # 1. initialize the parameters with uniformly random nunbers\n",
    "    size = 2 ** (2 * n)\n",
    "    p = np.random.uniform(-1, 1, size)\n",
    "    \n",
    "    # Adam parameters:\n",
    "    momentum, s = 0, 0\n",
    "    alpha = 0.001\n",
    "    belta1 = 0.9; belta2 = 0.999\n",
    "    e = 1e-8\n",
    "    \n",
    "    global params\n",
    "    global losses\n",
    "    params = []\n",
    "    losses = []\n",
    "\n",
    "    t = 0\n",
    "    while t < epoch:\n",
    "        # repeat\n",
    "        t += 1\n",
    "        grad, loss = GradientCalculator(n, p, epsilon, loss_function, time)\n",
    "        losses.append(loss)\n",
    "        \n",
    "        # Adam Optimizer\n",
    "        momentum = belta1 * momentum + (1 - belta1) * grad\n",
    "        s = belta2 * s + (1 - belta2) * (grad ** 2)\n",
    "        m_ = momentum / (1 - belta1 ** t)\n",
    "        s_ = s / (1 - belta2 ** t)\n",
    "\n",
    "        # update parameters\n",
    "        p = p - alpha * (m_ / ( s_ ** 0.5 + e ))\n",
    "#         p = p - alpha * grad\n",
    "        \n",
    "        # log\n",
    "        print('epoch: [{}/{}] - loss: {} end.'.format(t, epoch, loss))\n",
    "    \n",
    "    params = p"
   ]
  },
  {
   "cell_type": "code",
   "execution_count": 31,
   "metadata": {},
   "outputs": [],
   "source": [
    "def findTime():\n",
    "    times = [0.5, 0.7, 0.8, 0.9, 1, 1.2, 1.5, 1.8, 2, 2.5, 3, 3.2, 3.5, 4]\n",
    "    \n",
    "    def delta(targets):\n",
    "        l = len(targets)\n",
    "        d = 0\n",
    "        for i in range(1, l):\n",
    "            d += targets[i] - targets[i - 1]\n",
    "        \n",
    "        return -1 * d / (l - 1)\n",
    "    \n",
    "    print(':::::::::: D ::::::::::')\n",
    "    for time in times:\n",
    "        print(f'time:{time}, loss: D')\n",
    "        SDCLearner(2, loss_function='D', epoch=5, time=time)\n",
    "        print(f'loss: {losses[0]}, delta: {delta(losses)}')\n",
    "        \n",
    "    print(':::::::::: F ::::::::::')\n",
    "    for time in times:\n",
    "        print(f'time:{time}, loss: F')\n",
    "        SDCLearner(2, loss_function='F', epoch=5, time=time)\n",
    "        print(f'loss: {losses[0]}, delta: {delta(losses)}')\n"
   ]
  },
  {
   "cell_type": "code",
   "execution_count": 32,
   "metadata": {},
   "outputs": [
    {
     "name": "stdout",
     "output_type": "stream",
     "text": [
      ":::::::::: D ::::::::::\n",
      "time:0.5, loss: D\n",
      "epoch: [1/5] - loss: 0.42321315539000803 end.\n",
      "epoch: [2/5] - loss: 0.42211037051114075 end.\n",
      "epoch: [3/5] - loss: 0.4210068817531635 end.\n",
      "epoch: [4/5] - loss: 0.4199027108358312 end.\n",
      "epoch: [5/5] - loss: 0.4187978513101292 end.\n",
      "loss: 0.42321315539000803, delta: 0.0011038260199697086\n",
      "time:0.7, loss: D\n",
      "epoch: [1/5] - loss: 0.45536275332880766 end.\n",
      "epoch: [2/5] - loss: 0.45373277380639027 end.\n",
      "epoch: [3/5] - loss: 0.45210029543970154 end.\n",
      "epoch: [4/5] - loss: 0.4504653527593729 end.\n",
      "epoch: [5/5] - loss: 0.44882793914120617 end.\n",
      "loss: 0.45536275332880766, delta: 0.0016337035469003724\n",
      "time:0.8, loss: D\n",
      "epoch: [1/5] - loss: 0.2248821792810777 end.\n",
      "epoch: [2/5] - loss: 0.22310816349412962 end.\n",
      "epoch: [3/5] - loss: 0.2213355622429803 end.\n",
      "epoch: [4/5] - loss: 0.219564536947831 end.\n",
      "epoch: [5/5] - loss: 0.21779517222529568 end.\n",
      "loss: 0.2248821792810777, delta: 0.001771751763945506\n",
      "time:0.9, loss: D\n",
      "epoch: [1/5] - loss: 0.22440939588668113 end.\n",
      "epoch: [2/5] - loss: 0.22249293176363802 end.\n",
      "epoch: [3/5] - loss: 0.22057751630474332 end.\n",
      "epoch: [4/5] - loss: 0.21866336714811732 end.\n",
      "epoch: [5/5] - loss: 0.21675039242671854 end.\n",
      "loss: 0.22440939588668113, delta: 0.0019147508649906483\n",
      "time:1, loss: D\n",
      "epoch: [1/5] - loss: 0.5828241594034068 end.\n",
      "epoch: [2/5] - loss: 0.5811461415422744 end.\n",
      "epoch: [3/5] - loss: 0.5794623493819094 end.\n",
      "epoch: [4/5] - loss: 0.5777727825378851 end.\n",
      "epoch: [5/5] - loss: 0.5760773913809942 end.\n",
      "loss: 0.5828241594034068, delta: 0.0016866920056031465\n",
      "time:1.2, loss: D\n",
      "epoch: [1/5] - loss: 0.5486446224815296 end.\n",
      "epoch: [2/5] - loss: 0.5468298644238236 end.\n",
      "epoch: [3/5] - loss: 0.5449989688584974 end.\n",
      "epoch: [4/5] - loss: 0.5431518036783289 end.\n",
      "epoch: [5/5] - loss: 0.5412882409956599 end.\n",
      "loss: 0.5486446224815296, delta: 0.0018390953714674252\n",
      "time:1.5, loss: D\n",
      "epoch: [1/5] - loss: 0.5719922068299568 end.\n",
      "epoch: [2/5] - loss: 0.570056547431453 end.\n",
      "epoch: [3/5] - loss: 0.5680969853971105 end.\n",
      "epoch: [4/5] - loss: 0.5661133400011263 end.\n",
      "epoch: [5/5] - loss: 0.5641053456621213 end.\n",
      "loss: 0.5719922068299568, delta: 0.0019717152919588588\n",
      "time:1.8, loss: D\n",
      "epoch: [1/5] - loss: 0.6812383154213306 end.\n",
      "epoch: [2/5] - loss: 0.6803741294730457 end.\n",
      "epoch: [3/5] - loss: 0.6794850282912711 end.\n",
      "epoch: [4/5] - loss: 0.6785674292250586 end.\n",
      "epoch: [5/5] - loss: 0.677620256554359 end.\n",
      "loss: 0.6812383154213306, delta: 0.0009045147167429102\n",
      "time:2, loss: D\n",
      "epoch: [1/5] - loss: 0.3432658152852974 end.\n",
      "epoch: [2/5] - loss: 0.34058230707203535 end.\n",
      "epoch: [3/5] - loss: 0.3379102336935932 end.\n",
      "epoch: [4/5] - loss: 0.33524121294616 end.\n",
      "epoch: [5/5] - loss: 0.3325712364579967 end.\n",
      "loss: 0.3432658152852974, delta: 0.0026736447068251845\n",
      "time:2.5, loss: D\n",
      "epoch: [1/5] - loss: 0.5028454702477106 end.\n",
      "epoch: [2/5] - loss: 0.4992174219040612 end.\n",
      "epoch: [3/5] - loss: 0.49563096906216064 end.\n",
      "epoch: [4/5] - loss: 0.49208288549636947 end.\n",
      "epoch: [5/5] - loss: 0.4885636416446478 end.\n",
      "loss: 0.5028454702477106, delta: 0.0035704571507657185\n",
      "time:3, loss: D\n",
      "epoch: [1/5] - loss: 0.3047509769748332 end.\n",
      "epoch: [2/5] - loss: 0.2981644464064709 end.\n",
      "epoch: [3/5] - loss: 0.291503538916431 end.\n",
      "epoch: [4/5] - loss: 0.28477345788289626 end.\n",
      "epoch: [5/5] - loss: 0.2779794614086858 end.\n",
      "loss: 0.3047509769748332, delta: 0.0066928788915368576\n",
      "time:3.2, loss: D\n",
      "epoch: [1/5] - loss: 0.5997142014902487 end.\n",
      "epoch: [2/5] - loss: 0.59605648905589 end.\n",
      "epoch: [3/5] - loss: 0.5923870302536918 end.\n",
      "epoch: [4/5] - loss: 0.5887110309107426 end.\n",
      "epoch: [5/5] - loss: 0.5850346219364485 end.\n",
      "loss: 0.5997142014902487, delta: 0.0036698948884500426\n",
      "time:3.5, loss: D\n",
      "epoch: [1/5] - loss: 0.19275327123844668 end.\n",
      "epoch: [2/5] - loss: 0.1887202083474586 end.\n",
      "epoch: [3/5] - loss: 0.1848625666082337 end.\n",
      "epoch: [4/5] - loss: 0.1811830366225025 end.\n",
      "epoch: [5/5] - loss: 0.17766717359479853 end.\n",
      "loss: 0.19275327123844668, delta: 0.003771524410912039\n",
      "time:4, loss: D\n",
      "epoch: [1/5] - loss: 0.4527769966322971 end.\n",
      "epoch: [2/5] - loss: 0.44312653324392387 end.\n",
      "epoch: [3/5] - loss: 0.4333823277214502 end.\n",
      "epoch: [4/5] - loss: 0.4235518068582657 end.\n",
      "epoch: [5/5] - loss: 0.4136421983822308 end.\n",
      "loss: 0.4527769966322971, delta: 0.009783699562516568\n",
      ":::::::::: F ::::::::::\n",
      "time:0.5, loss: F\n",
      "epoch: [1/5] - loss: -0.7120315832274006 end.\n",
      "epoch: [2/5] - loss: -0.7131267148132081 end.\n",
      "epoch: [3/5] - loss: -0.7142230416053295 end.\n",
      "epoch: [4/5] - loss: -0.7153205255474192 end.\n",
      "epoch: [5/5] - loss: -0.7164191321272185 end.\n",
      "loss: -0.7120315832274006, delta: 0.0010968872249544903\n",
      "time:0.7, loss: F\n",
      "epoch: [1/5] - loss: -0.9121613622281135 end.\n",
      "epoch: [2/5] - loss: -0.9130384499706601 end.\n",
      "epoch: [3/5] - loss: -0.9139095229854151 end.\n",
      "epoch: [4/5] - loss: -0.9147744604486651 end.\n",
      "epoch: [5/5] - loss: -0.915633140472173 end.\n",
      "loss: -0.9121613622281135, delta: 0.0008679445610148828\n",
      "time:0.8, loss: F\n",
      "epoch: [1/5] - loss: -0.9280692771796386 end.\n",
      "epoch: [2/5] - loss: -0.9290883047303623 end.\n",
      "epoch: [3/5] - loss: -0.9300987132385714 end.\n",
      "epoch: [4/5] - loss: -0.9311003663529764 end.\n",
      "epoch: [5/5] - loss: -0.9320930966177566 end.\n",
      "loss: -0.9280692771796386, delta: 0.0010059548595295065\n",
      "time:0.9, loss: F\n",
      "epoch: [1/5] - loss: -0.9840104741340572 end.\n",
      "epoch: [2/5] - loss: -0.9844733110491009 end.\n",
      "epoch: [3/5] - loss: -0.9849271824729036 end.\n",
      "epoch: [4/5] - loss: -0.9853719339100068 end.\n",
      "epoch: [5/5] - loss: -0.9858074397783358 end.\n",
      "loss: -0.9840104741340572, delta: 0.0004492414110696674\n",
      "time:1, loss: F\n",
      "epoch: [1/5] - loss: -0.7645218971574753 end.\n",
      "epoch: [2/5] - loss: -0.7665151311925381 end.\n",
      "epoch: [3/5] - loss: -0.7685075839237699 end.\n",
      "epoch: [4/5] - loss: -0.7704990145824042 end.\n",
      "epoch: [5/5] - loss: -0.7724892442422734 end.\n",
      "loss: -0.7645218971574753, delta: 0.0019918367711995177\n",
      "time:1.2, loss: F\n",
      "epoch: [1/5] - loss: -0.9098065802810924 end.\n",
      "epoch: [2/5] - loss: -0.9110940008919702 end.\n",
      "epoch: [3/5] - loss: -0.9123663635514324 end.\n",
      "epoch: [4/5] - loss: -0.9136232947420011 end.\n",
      "epoch: [5/5] - loss: -0.914864434608935 end.\n",
      "loss: -0.9098065802810924, delta: 0.0012644635819606398\n",
      "time:1.5, loss: F\n",
      "epoch: [1/5] - loss: -0.8000910984845623 end.\n",
      "epoch: [2/5] - loss: -0.8025851592259549 end.\n",
      "epoch: [3/5] - loss: -0.8050763104651887 end.\n",
      "epoch: [4/5] - loss: -0.8075639094350411 end.\n",
      "epoch: [5/5] - loss: -0.8100474893115605 end.\n",
      "loss: -0.8000910984845623, delta: 0.0024890977067495434\n",
      "time:1.8, loss: F\n",
      "epoch: [1/5] - loss: -0.8715691284348152 end.\n",
      "epoch: [2/5] - loss: -0.8743629406064108 end.\n",
      "epoch: [3/5] - loss: -0.8771321162462702 end.\n",
      "epoch: [4/5] - loss: -0.8798757126169375 end.\n",
      "epoch: [5/5] - loss: -0.8825927259385776 end.\n",
      "loss: -0.8715691284348152, delta: 0.002755899375940618\n",
      "time:2, loss: F\n",
      "epoch: [1/5] - loss: -0.7929344503675737 end.\n",
      "epoch: [2/5] - loss: -0.7957090728206454 end.\n",
      "epoch: [3/5] - loss: -0.7984733649954102 end.\n",
      "epoch: [4/5] - loss: -0.8012260975575641 end.\n",
      "epoch: [5/5] - loss: -0.803966313520138 end.\n",
      "loss: -0.7929344503675737, delta: 0.0027579657881410813\n",
      "time:2.5, loss: F\n",
      "epoch: [1/5] - loss: -0.9669468011483988 end.\n",
      "epoch: [2/5] - loss: -0.969159845882044 end.\n",
      "epoch: [3/5] - loss: -0.9712936657802028 end.\n",
      "epoch: [4/5] - loss: -0.9733465656711638 end.\n",
      "epoch: [5/5] - loss: -0.9753169266992007 end.\n",
      "loss: -0.9669468011483988, delta: 0.0020925313877004637\n",
      "time:3, loss: F\n",
      "epoch: [1/5] - loss: -0.8791303280651345 end.\n",
      "epoch: [2/5] - loss: -0.8817483854887453 end.\n",
      "epoch: [3/5] - loss: -0.8843218029241434 end.\n",
      "epoch: [4/5] - loss: -0.8868484030012337 end.\n",
      "epoch: [5/5] - loss: -0.8893259516530425 end.\n",
      "loss: -0.8791303280651345, delta: 0.0025489058969770106\n",
      "time:3.2, loss: F\n",
      "epoch: [1/5] - loss: -0.738081658441338 end.\n",
      "epoch: [2/5] - loss: -0.7420741531204013 end.\n",
      "epoch: [3/5] - loss: -0.7460413769808769 end.\n",
      "epoch: [4/5] - loss: -0.7499803353187704 end.\n",
      "epoch: [5/5] - loss: -0.7538879600715268 end.\n",
      "loss: -0.738081658441338, delta: 0.003951575407547203\n",
      "time:3.5, loss: F\n",
      "epoch: [1/5] - loss: -0.8419358157862982 end.\n",
      "epoch: [2/5] - loss: -0.848276234559142 end.\n",
      "epoch: [3/5] - loss: -0.8545180666024287 end.\n",
      "epoch: [4/5] - loss: -0.8606543151006163 end.\n",
      "epoch: [5/5] - loss: -0.8666785654268369 end.\n",
      "loss: -0.8419358157862982, delta: 0.0061856874101346715\n",
      "time:4, loss: F\n",
      "epoch: [1/5] - loss: -0.9251618372656981 end.\n"
     ]
    },
    {
     "name": "stdout",
     "output_type": "stream",
     "text": [
      "epoch: [2/5] - loss: -0.9286945114401673 end.\n",
      "epoch: [3/5] - loss: -0.9320450228392861 end.\n",
      "epoch: [4/5] - loss: -0.9352106155338625 end.\n",
      "epoch: [5/5] - loss: -0.9381898626629523 end.\n",
      "loss: -0.9251618372656981, delta: 0.003257006349313557\n"
     ]
    }
   ],
   "source": [
    "findTime()"
   ]
  },
  {
   "cell_type": "code",
   "execution_count": 190,
   "metadata": {},
   "outputs": [],
   "source": [
    "import pickle\n",
    "\n",
    "def saveParams(params, n, loss_function):\n",
    "    path = f\"./data/params_{loss_function}_{n}.pkl\"\n",
    "    \n",
    "    with open(path, 'wb') as file:\n",
    "        pickle.dump(params, file)"
   ]
  },
  {
   "cell_type": "code",
   "execution_count": 234,
   "metadata": {},
   "outputs": [],
   "source": [
    "saveParams(params, n, 'D')"
   ]
  },
  {
   "cell_type": "code",
   "execution_count": 224,
   "metadata": {},
   "outputs": [],
   "source": [
    "def saveLosses(losses, n, loss_function):\n",
    "    path = f\"./data/losses_{loss_function}_{n}.pkl\"\n",
    "    \n",
    "    with open(path, 'wb') as file:\n",
    "        pickle.dump(losses, file)"
   ]
  },
  {
   "cell_type": "code",
   "execution_count": 233,
   "metadata": {},
   "outputs": [],
   "source": [
    "saveLosses(losses, n, 'D')"
   ]
  },
  {
   "cell_type": "markdown",
   "metadata": {},
   "source": [
    "### Variational learning the SDC quantum protocol"
   ]
  },
  {
   "cell_type": "code",
   "execution_count": 20,
   "metadata": {},
   "outputs": [],
   "source": [
    "n = 2 # SDC-n\n",
    "senders, receivers, circuit = initCircuit(n)\n",
    "circuit.draw()\n",
    "\n",
    "combs = []\n",
    "generateCombs(n, combs, '')"
   ]
  },
  {
   "cell_type": "code",
   "execution_count": 21,
   "metadata": {
    "scrolled": true
   },
   "outputs": [
    {
     "name": "stdout",
     "output_type": "stream",
     "text": [
      "epoch: [1/2] - loss: 0.5120873795618457 end.\n",
      "epoch: [2/2] - loss: 0.50997406887879 end.\n"
     ]
    }
   ],
   "source": [
    "SDCLearner(n, loss_function=\"D\", epoch=2, time=1.2)"
   ]
  },
  {
   "cell_type": "markdown",
   "metadata": {},
   "source": [
    "### SDC-2"
   ]
  },
  {
   "cell_type": "code",
   "execution_count": 198,
   "metadata": {},
   "outputs": [],
   "source": [
    "import matplotlib.pyplot as plt \n",
    "\n",
    "palette = {\n",
    "    \"D\": \"skyblue\", \"F\": \"red\"\n",
    "}\n",
    "\n",
    "def plotLosses(n, loss_function):\n",
    "    path = f\"./data/losses_{loss_function}_{n}.pkl\"\n",
    "    \n",
    "    with open(path, 'rb') as data:\n",
    "        y = pickle.load(data)\n",
    "        x = range(1, len(y) + 1)\n",
    "        \n",
    "    plt.plot(x, y, color=palette[loss_function], linewidth=2.0, linestyle='--')"
   ]
  },
  {
   "cell_type": "code",
   "execution_count": 235,
   "metadata": {},
   "outputs": [
    {
     "data": {
      "image/png": "[encoded data removed]",
      "text/plain": [
       "<Figure size 432x288 with 1 Axes>"
      ]
     },
     "metadata": {
      "needs_background": "light"
     },
     "output_type": "display_data"
    }
   ],
   "source": [
    "plotLosses(n, 'D')"
   ]
  },
  {
   "cell_type": "code",
   "execution_count": 214,
   "metadata": {},
   "outputs": [
    {
     "data": {
      "image/png": "[encoded data removed]",
      "text/plain": [
       "<Figure size 432x288 with 1 Axes>"
      ]
     },
     "metadata": {
      "needs_background": "light"
     },
     "output_type": "display_data"
    }
   ],
   "source": [
    "plotLosses(n, 'F')"
   ]
  },
  {
   "cell_type": "code",
   "execution_count": 195,
   "metadata": {},
   "outputs": [],
   "source": [
    "def loadParams(n, loss_function):\n",
    "    path = f\"./data/params_{loss_function}_{n}.pkl\"\n",
    "    \n",
    "    with open(path, 'rb') as file:\n",
    "        params = pickle.load(file)\n",
    "    \n",
    "    return params"
   ]
  },
  {
   "cell_type": "code",
   "execution_count": 202,
   "metadata": {},
   "outputs": [],
   "source": [
    "p = loadParams(2, 'F')"
   ]
  },
  {
   "cell_type": "code",
   "execution_count": 203,
   "metadata": {},
   "outputs": [
    {
     "data": {
      "text/plain": [
       "array([ 0.43365543, -0.18302868,  0.65015547,  0.08609206, -0.33774013,\n",
       "        0.78422776,  0.43426452, -0.68614531,  1.06998523,  0.59087558,\n",
       "        0.5570418 ,  0.96475278,  0.13630521,  0.50148675, -0.12936494,\n",
       "       -0.53303599])"
      ]
     },
     "execution_count": 203,
     "metadata": {},
     "output_type": "execute_result"
    }
   ],
   "source": [
    "p"
   ]
  },
  {
   "cell_type": "code",
   "execution_count": null,
   "metadata": {},
   "outputs": [],
   "source": []
  }
 ],
 "metadata": {
  "kernelspec": {
   "display_name": "Python 3",
   "language": "python",
   "name": "python3"
  },
  "language_info": {
   "codemirror_mode": {
    "name": "ipython",
    "version": 3
   },
   "file_extension": ".py",
   "mimetype": "text/x-python",
   "name": "python",
   "nbconvert_exporter": "python",
   "pygments_lexer": "ipython3",
   "version": "3.6.8"
  }
 },
 "nbformat": 4,
 "nbformat_minor": 4
}
