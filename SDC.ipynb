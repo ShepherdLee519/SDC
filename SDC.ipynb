{
 "cells": [
  {
   "cell_type": "code",
   "execution_count": 1,
   "metadata": {},
   "outputs": [
    {
     "name": "stderr",
     "output_type": "stream",
     "text": [
      "c:\\users\\lenovo\\appdata\\local\\programs\\python\\python36\\lib\\site-packages\\qiskit\\__init__.py:67: DeprecationWarning: Using Qiskit with Python 3.6 is deprecated as of the 0.17.0 release. Support for running Qiskit with Python 3.6 will be removed in a future release.\n",
      "  \"future release.\", DeprecationWarning)\n"
     ]
    }
   ],
   "source": [
    "import cirq\n",
    "import qiskit\n",
    "import random\n",
    "import numpy as np\n",
    "\n",
    "from cirq.contrib.svg import SVGCircuit"
   ]
  },
  {
   "cell_type": "code",
   "execution_count": 2,
   "metadata": {},
   "outputs": [
    {
     "data": {
      "image/svg+xml": [
       "<svg xmlns=\"http://www.w3.org/2000/svg\" width=\"264.49359375\" height=\"240.0\"><line x1=\"32.246796875\" x2=\"234.49359375\" y1=\"45.0\" y2=\"45.0\" stroke=\"#1967d2\" stroke-width=\"1\" /><line x1=\"32.246796875\" x2=\"234.49359375\" y1=\"95.0\" y2=\"95.0\" stroke=\"#1967d2\" stroke-width=\"1\" /><line x1=\"32.246796875\" x2=\"234.49359375\" y1=\"145.0\" y2=\"145.0\" stroke=\"#1967d2\" stroke-width=\"1\" /><line x1=\"32.246796875\" x2=\"234.49359375\" y1=\"195.0\" y2=\"195.0\" stroke=\"#1967d2\" stroke-width=\"1\" /><line x1=\"124.49359375\" x2=\"214.49359375\" y1=\"5.0\" y2=\"5.0\" stroke=\"black\" stroke-width=\"1\" /><line x1=\"124.49359375\" x2=\"214.49359375\" y1=\"235.0\" y2=\"235.0\" stroke=\"black\" stroke-width=\"1\" /><line x1=\"144.49359375\" x2=\"144.49359375\" y1=\"45.0\" y2=\"145.0\" stroke=\"black\" stroke-width=\"3\" /><line x1=\"184.49359375\" x2=\"184.49359375\" y1=\"95.0\" y2=\"195.0\" stroke=\"black\" stroke-width=\"3\" /><line x1=\"124.49359375\" x2=\"124.49359375\" y1=\"5.0\" y2=\"15.0\" stroke=\"black\" stroke-width=\"3\" /><line x1=\"214.49359375\" x2=\"214.49359375\" y1=\"5.0\" y2=\"15.0\" stroke=\"black\" stroke-width=\"3\" /><line x1=\"124.49359375\" x2=\"124.49359375\" y1=\"225.0\" y2=\"235.0\" stroke=\"black\" stroke-width=\"3\" /><line x1=\"214.49359375\" x2=\"214.49359375\" y1=\"225.0\" y2=\"235.0\" stroke=\"black\" stroke-width=\"3\" /><rect x=\"10.0\" y=\"25.0\" width=\"44.49359375\" height=\"40\" stroke=\"black\" fill=\"white\" stroke-width=\"0\" /><text x=\"32.246796875\" y=\"45.0\" dominant-baseline=\"middle\" text-anchor=\"middle\" font-size=\"14px\">(0, 0): </text><rect x=\"10.0\" y=\"75.0\" width=\"44.49359375\" height=\"40\" stroke=\"black\" fill=\"white\" stroke-width=\"0\" /><text x=\"32.246796875\" y=\"95.0\" dominant-baseline=\"middle\" text-anchor=\"middle\" font-size=\"14px\">(0, 1): </text><rect x=\"10.0\" y=\"125.0\" width=\"44.49359375\" height=\"40\" stroke=\"black\" fill=\"white\" stroke-width=\"0\" /><text x=\"32.246796875\" y=\"145.0\" dominant-baseline=\"middle\" text-anchor=\"middle\" font-size=\"14px\">(0, 2): </text><rect x=\"10.0\" y=\"175.0\" width=\"44.49359375\" height=\"40\" stroke=\"black\" fill=\"white\" stroke-width=\"0\" /><text x=\"32.246796875\" y=\"195.0\" dominant-baseline=\"middle\" text-anchor=\"middle\" font-size=\"14px\">(0, 3): </text><rect x=\"74.49359375\" y=\"25.0\" width=\"40\" height=\"40\" stroke=\"black\" fill=\"white\" stroke-width=\"1\" /><text x=\"94.49359375\" y=\"45.0\" dominant-baseline=\"middle\" text-anchor=\"middle\" font-size=\"18px\">H</text><rect x=\"74.49359375\" y=\"75.0\" width=\"40\" height=\"40\" stroke=\"black\" fill=\"white\" stroke-width=\"1\" /><text x=\"94.49359375\" y=\"95.0\" dominant-baseline=\"middle\" text-anchor=\"middle\" font-size=\"18px\">H</text><circle cx=\"144.49359375\" cy=\"45.0\" r=\"10.0\" /><rect x=\"124.49359375\" y=\"125.0\" width=\"40\" height=\"40\" stroke=\"black\" fill=\"white\" stroke-width=\"1\" /><text x=\"144.49359375\" y=\"145.0\" dominant-baseline=\"middle\" text-anchor=\"middle\" font-size=\"18px\">X</text><circle cx=\"184.49359375\" cy=\"95.0\" r=\"10.0\" /><rect x=\"164.49359375\" y=\"175.0\" width=\"40\" height=\"40\" stroke=\"black\" fill=\"white\" stroke-width=\"1\" /><text x=\"184.49359375\" y=\"195.0\" dominant-baseline=\"middle\" text-anchor=\"middle\" font-size=\"18px\">X</text></svg>"
      ],
      "text/plain": [
       "<cirq.contrib.svg.svg.SVGCircuit at 0x13113ee6438>"
      ]
     },
     "execution_count": 2,
     "metadata": {},
     "output_type": "execute_result"
    }
   ],
   "source": [
    "A1, A2, B, C = cirq.GridQubit.rect(1,4)\n",
    "\n",
    "circuit = cirq.Circuit(\n",
    "    cirq.H(A1), cirq.CNOT(control=A1, target=B),\n",
    "    cirq.H(A2), cirq.CNOT(control=A2, target=C)\n",
    ")\n",
    "\n",
    "\n",
    "SVGCircuit(circuit)"
   ]
  },
  {
   "cell_type": "code",
   "execution_count": 3,
   "metadata": {},
   "outputs": [],
   "source": [
    "def getCircuit(classical_bits):\n",
    "    \"\"\"\n",
    "        getCircuit(circuit, [\"01\", \"10\"])\n",
    "            => X(A1), Z(A2)\n",
    "    \"\"\"\n",
    "    global circuit\n",
    "    circuit_copy = circuit.copy()\n",
    "    \n",
    "    def operate(circuit, target, bits):\n",
    "        if bits[0] == '1':\n",
    "            circuit.append(cirq.Z(target))\n",
    "        if bits[1] == '1':\n",
    "            circuit.append(cirq.X(target))\n",
    "        \n",
    "        return circuit\n",
    "    \n",
    "    operate(circuit_copy, A1, classical_bits[0])\n",
    "    operate(circuit_copy, A2, classical_bits[1])\n",
    "\n",
    "    return circuit_copy"
   ]
  },
  {
   "cell_type": "code",
   "execution_count": 4,
   "metadata": {},
   "outputs": [],
   "source": [
    "def buildU(p):\n",
    "    matrixes = [\n",
    "        cirq.unitary(cirq.I),cirq.unitary(cirq.X),\n",
    "        cirq.unitary(cirq.Y),cirq.unitary(cirq.Z)\n",
    "    ]\n",
    "    \n",
    "    U = np.zeros((4,4)).astype('complex128')\n",
    "    pos = 0\n",
    "    for i in range(4):\n",
    "        for j in range(4):\n",
    "            U += p[pos] * np.kron(matrixes[i], matrixes[j]).astype('complex128')\n",
    "            pos += 1\n",
    "            \n",
    "    from qiskit.extensions import HamiltonianGate\n",
    "    op = HamiltonianGate(U, 0.1)\n",
    "    \n",
    "    return op.to_matrix()"
   ]
  },
  {
   "cell_type": "code",
   "execution_count": 5,
   "metadata": {},
   "outputs": [],
   "source": [
    "def generateRous(U, targets):\n",
    "    bits = [\"00\", \"01\", \"10\", \"11\"]\n",
    "    indexes = [0, 2] if targets == \"AB\" else [1, 3]\n",
    "    rous = []\n",
    "    \n",
    "    from qiskit.quantum_info import partial_trace\n",
    "    \n",
    "    for i in range(4):\n",
    "        for j in range(4):\n",
    "            circuit = getCircuit([bits[i], bits[j]])\n",
    "            circuit.append(cirq.ops.MatrixGate(U)(A1, A2))\n",
    "            \n",
    "            rous.append( partial_trace(cirq.unitary(circuit), indexes) )\n",
    "    \n",
    "    return rous"
   ]
  },
  {
   "cell_type": "code",
   "execution_count": 6,
   "metadata": {},
   "outputs": [],
   "source": [
    "def sub_L(rou, sigma, loss_function):\n",
    "    if loss_function == \"F\":\n",
    "        # fidelity\n",
    "        from cirq.qis import fidelity\n",
    "        \n",
    "        return fidelity(rou.data, sigma.data)\n",
    "    \n",
    "    elif loss_function == \"D\":\n",
    "        # trace\n",
    "        A = (rou - sigma)\n",
    "        A = A.data\n",
    "        tr = 0.5 * np.trace( (A.conj().T @ A) * 0.5 )\n",
    "        \n",
    "        return tr\n",
    "    else:\n",
    "        return 0"
   ]
  },
  {
   "cell_type": "code",
   "execution_count": 7,
   "metadata": {},
   "outputs": [],
   "source": [
    "def L(p, loss_function):\n",
    "    n = 2\n",
    "    U = buildU(p)\n",
    "    rous = []\n",
    "    for i in range(n):\n",
    "        rous.append(generateRous(n, U, [i, i + n]))\n",
    "    \n",
    "    loss = 0.0\n",
    "    size = 2 ** (2 * n)\n",
    "    book = set()\n",
    "    for i in range(size):\n",
    "        for j in range(size):\n",
    "            if i != j and f\"{i},{j}\" not in book:\n",
    "                for k in range(n):\n",
    "                    l = sub_L(rous[k][i], rous[k][j], loss_function)\n",
    "                    print(l)\n",
    "                    loss += l\n",
    "\n",
    "                book.add(f\"{i},{j}\")\n",
    "                book.add(f\"{j},{i}\")\n",
    "                \n",
    "    print(rous[0][0])\n",
    "    print(rous[0][2])\n",
    "    \n",
    "    loss = 1 / (n * ((size ** 2 - size)/2)) * loss\n",
    "    if loss_function == \"F\":\n",
    "        loss *= -1\n",
    "    \n",
    "    return loss\n"
   ]
  },
  {
   "cell_type": "code",
   "execution_count": 14,
   "metadata": {},
   "outputs": [],
   "source": [
    "def GradientCalculator(bits, p, epsilon, loss_function):\n",
    "    derivates = np.zeros(len(p))\n",
    "    \n",
    "    for i, param in enumerate(p):\n",
    "        p[i] += epsilon\n",
    "        l_pe = L(bits, p, loss_function)\n",
    "        p[i] -= epsilon\n",
    "        l_p = L(bits, p, loss_function)\n",
    "        \n",
    "        derivates[i] = (l_pe - l_p) / epsilon\n",
    "        \n",
    "#     print(derivates)\n",
    "    return derivates, l_p"
   ]
  },
  {
   "cell_type": "code",
   "execution_count": 15,
   "metadata": {
    "scrolled": true
   },
   "outputs": [],
   "source": [
    "params = []\n",
    "\n",
    "def SDCLearner(n, *, loss_function=\"D\", epoch=1000, epsilon=0.01):\n",
    "    # 1. initialize the parameters with uniformly random nunbers\n",
    "    size = 2 ** (2 * n)\n",
    "    bits = [\"01\", \"10\"]\n",
    "    p = np.random.uniform(-1, 1, size)\n",
    "    \n",
    "    # Adam parameters:\n",
    "    momentum, s = 0, 0\n",
    "    alpha = 0.001\n",
    "    belta1 = 0.9; belta2 = 0.999\n",
    "    e = 1e-8\n",
    "    \n",
    "    global params\n",
    "    \n",
    "    t = 0\n",
    "    while t < epoch:\n",
    "        # repeat\n",
    "        t += 1\n",
    "        grad, loss = GradientCalculator(bits, p, epsilon, loss_function)\n",
    "        \n",
    "        # Adam Optimizer\n",
    "        momentum = belta1 * momentum + (1 - belta1) * grad\n",
    "        s = belta2 * s + (1 - belta2) * (grad ** 2)\n",
    "        m_ = momentum / (1 - belta1 ** t)\n",
    "        s_ = s / (1 - belta2 ** t)\n",
    "\n",
    "        # update parameters\n",
    "        p = p - alpha * (m_ / ( s_ ** 0.5 + e ))\n",
    "        \n",
    "        # log\n",
    "        print('epoch: [{}/{}] - loss: {} end.'.format(t, epoch, loss))\n",
    "    \n",
    "    params = p"
   ]
  },
  {
   "cell_type": "code",
   "execution_count": 16,
   "metadata": {},
   "outputs": [
    {
     "name": "stderr",
     "output_type": "stream",
     "text": [
      "c:\\users\\lenovo\\appdata\\local\\programs\\python\\python36\\lib\\site-packages\\ipykernel_launcher.py:10: ComplexWarning: Casting complex values to real discards the imaginary part\n",
      "  # Remove the CWD from sys.path while we load stuff.\n"
     ]
    },
    {
     "name": "stdout",
     "output_type": "stream",
     "text": [
      "epoch: [1/1] - loss: (6.046369601389095+0j) end.\n"
     ]
    }
   ],
   "source": [
    "SDCLearner(2, epoch=1)"
   ]
  },
  {
   "cell_type": "code",
   "execution_count": 14,
   "metadata": {},
   "outputs": [
    {
     "data": {
      "text/plain": [
       "array([ 0.01582897, -0.27174117,  0.40245615, -1.15137521,  1.47279292,\n",
       "       -1.20539867,  0.11732657, -0.97726707, -1.1839263 ,  0.68715609,\n",
       "        0.17663543,  1.5201344 , -1.32550229,  0.82466927,  1.61649694,\n",
       "        1.54534631])"
      ]
     },
     "execution_count": 14,
     "metadata": {},
     "output_type": "execute_result"
    }
   ],
   "source": [
    "params"
   ]
  },
  {
   "cell_type": "code",
   "execution_count": 15,
   "metadata": {},
   "outputs": [
    {
     "data": {
      "text/plain": [
       "array([[ 0.96031136+0.08677763j, -0.15727003-0.0914257j ,\n",
       "        -0.02057921-0.0725707j , -0.08623596+0.15508892j],\n",
       "       [ 0.22856262-0.01624983j,  0.89299848+0.16494118j,\n",
       "        -0.07631194+0.11240413j,  0.21441912-0.24168044j],\n",
       "       [ 0.04311023-0.02310721j,  0.03041292+0.07975324j,\n",
       "         0.96938475+0.13471977j,  0.15043891+0.09916636j],\n",
       "       [ 0.0628764 +0.10686878j, -0.29520645-0.21868524j,\n",
       "        -0.0787735 +0.10858323j,  0.83139596-0.37475422j]])"
      ]
     },
     "execution_count": 15,
     "metadata": {},
     "output_type": "execute_result"
    }
   ],
   "source": [
    "buildU(params)"
   ]
  },
  {
   "cell_type": "code",
   "execution_count": 16,
   "metadata": {},
   "outputs": [
    {
     "data": {
      "image/svg+xml": [
       "<svg xmlns=\"http://www.w3.org/2000/svg\" width=\"2469.8044140625\" height=\"240.0\"><line x1=\"32.246796875\" x2=\"2439.8044140625\" y1=\"45.0\" y2=\"45.0\" stroke=\"#1967d2\" stroke-width=\"1\" /><line x1=\"32.246796875\" x2=\"2439.8044140625\" y1=\"95.0\" y2=\"95.0\" stroke=\"#1967d2\" stroke-width=\"1\" /><line x1=\"32.246796875\" x2=\"2439.8044140625\" y1=\"145.0\" y2=\"145.0\" stroke=\"#1967d2\" stroke-width=\"1\" /><line x1=\"32.246796875\" x2=\"2439.8044140625\" y1=\"195.0\" y2=\"195.0\" stroke=\"#1967d2\" stroke-width=\"1\" /><line x1=\"2269.8044140625\" x2=\"2359.8044140625\" y1=\"5.0\" y2=\"5.0\" stroke=\"black\" stroke-width=\"1\" /><line x1=\"2269.8044140625\" x2=\"2359.8044140625\" y1=\"235.0\" y2=\"235.0\" stroke=\"black\" stroke-width=\"1\" /><line x1=\"124.49359375\" x2=\"214.49359375\" y1=\"5.0\" y2=\"5.0\" stroke=\"black\" stroke-width=\"1\" /><line x1=\"124.49359375\" x2=\"214.49359375\" y1=\"235.0\" y2=\"235.0\" stroke=\"black\" stroke-width=\"1\" /><line x1=\"144.49359375\" x2=\"144.49359375\" y1=\"45.0\" y2=\"145.0\" stroke=\"black\" stroke-width=\"3\" /><line x1=\"184.49359375\" x2=\"184.49359375\" y1=\"95.0\" y2=\"195.0\" stroke=\"black\" stroke-width=\"3\" /><line x1=\"1277.14900390625\" x2=\"1277.14900390625\" y1=\"45.0\" y2=\"95.0\" stroke=\"black\" stroke-width=\"3\" /><line x1=\"2289.8044140625\" x2=\"2289.8044140625\" y1=\"45.0\" y2=\"145.0\" stroke=\"black\" stroke-width=\"3\" /><line x1=\"2329.8044140625\" x2=\"2329.8044140625\" y1=\"95.0\" y2=\"195.0\" stroke=\"black\" stroke-width=\"3\" /><line x1=\"2269.8044140625\" x2=\"2269.8044140625\" y1=\"5.0\" y2=\"15.0\" stroke=\"black\" stroke-width=\"3\" /><line x1=\"2359.8044140625\" x2=\"2359.8044140625\" y1=\"5.0\" y2=\"15.0\" stroke=\"black\" stroke-width=\"3\" /><line x1=\"2269.8044140625\" x2=\"2269.8044140625\" y1=\"225.0\" y2=\"235.0\" stroke=\"black\" stroke-width=\"3\" /><line x1=\"2359.8044140625\" x2=\"2359.8044140625\" y1=\"225.0\" y2=\"235.0\" stroke=\"black\" stroke-width=\"3\" /><line x1=\"124.49359375\" x2=\"124.49359375\" y1=\"5.0\" y2=\"15.0\" stroke=\"black\" stroke-width=\"3\" /><line x1=\"214.49359375\" x2=\"214.49359375\" y1=\"5.0\" y2=\"15.0\" stroke=\"black\" stroke-width=\"3\" /><line x1=\"124.49359375\" x2=\"124.49359375\" y1=\"225.0\" y2=\"235.0\" stroke=\"black\" stroke-width=\"3\" /><line x1=\"214.49359375\" x2=\"214.49359375\" y1=\"225.0\" y2=\"235.0\" stroke=\"black\" stroke-width=\"3\" /><rect x=\"10.0\" y=\"25.0\" width=\"44.49359375\" height=\"40\" stroke=\"black\" fill=\"white\" stroke-width=\"0\" /><text x=\"32.246796875\" y=\"45.0\" dominant-baseline=\"middle\" text-anchor=\"middle\" font-size=\"14px\">(0, 0): </text><rect x=\"10.0\" y=\"75.0\" width=\"44.49359375\" height=\"40\" stroke=\"black\" fill=\"white\" stroke-width=\"0\" /><text x=\"32.246796875\" y=\"95.0\" dominant-baseline=\"middle\" text-anchor=\"middle\" font-size=\"14px\">(0, 1): </text><rect x=\"10.0\" y=\"125.0\" width=\"44.49359375\" height=\"40\" stroke=\"black\" fill=\"white\" stroke-width=\"0\" /><text x=\"32.246796875\" y=\"145.0\" dominant-baseline=\"middle\" text-anchor=\"middle\" font-size=\"14px\">(0, 2): </text><rect x=\"10.0\" y=\"175.0\" width=\"44.49359375\" height=\"40\" stroke=\"black\" fill=\"white\" stroke-width=\"0\" /><text x=\"32.246796875\" y=\"195.0\" dominant-baseline=\"middle\" text-anchor=\"middle\" font-size=\"14px\">(0, 3): </text><rect x=\"74.49359375\" y=\"25.0\" width=\"40\" height=\"40\" stroke=\"black\" fill=\"white\" stroke-width=\"1\" /><text x=\"94.49359375\" y=\"45.0\" dominant-baseline=\"middle\" text-anchor=\"middle\" font-size=\"18px\">H</text><rect x=\"74.49359375\" y=\"75.0\" width=\"40\" height=\"40\" stroke=\"black\" fill=\"white\" stroke-width=\"1\" /><text x=\"94.49359375\" y=\"95.0\" dominant-baseline=\"middle\" text-anchor=\"middle\" font-size=\"18px\">H</text><circle cx=\"144.49359375\" cy=\"45.0\" r=\"10.0\" /><rect x=\"124.49359375\" y=\"125.0\" width=\"40\" height=\"40\" stroke=\"black\" fill=\"white\" stroke-width=\"1\" /><text x=\"144.49359375\" y=\"145.0\" dominant-baseline=\"middle\" text-anchor=\"middle\" font-size=\"18px\">X</text><circle cx=\"184.49359375\" cy=\"95.0\" r=\"10.0\" /><rect x=\"164.49359375\" y=\"175.0\" width=\"40\" height=\"40\" stroke=\"black\" fill=\"white\" stroke-width=\"1\" /><text x=\"184.49359375\" y=\"195.0\" dominant-baseline=\"middle\" text-anchor=\"middle\" font-size=\"18px\">X</text><rect x=\"234.49359375\" y=\"25.0\" width=\"40\" height=\"40\" stroke=\"black\" fill=\"white\" stroke-width=\"1\" /><text x=\"254.49359375\" y=\"45.0\" dominant-baseline=\"middle\" text-anchor=\"middle\" font-size=\"18px\">X</text><rect x=\"234.49359375\" y=\"75.0\" width=\"40\" height=\"40\" stroke=\"black\" fill=\"white\" stroke-width=\"1\" /><text x=\"254.49359375\" y=\"95.0\" dominant-baseline=\"middle\" text-anchor=\"middle\" font-size=\"18px\">Z</text><rect x=\"294.49359375000006\" y=\"25.0\" width=\"1965.3108203125\" height=\"40\" stroke=\"black\" fill=\"white\" stroke-width=\"1\" /><text x=\"1277.14900390625\" y=\"45.0\" dominant-baseline=\"middle\" text-anchor=\"middle\" font-size=\"14px\">┌                                                       ┐\n",
       "│ 0.96 +0.087j -0.157-0.091j -0.021-0.073j -0.086+0.155j│\n",
       "│ 0.229-0.016j  0.893+0.165j -0.076+0.112j  0.214-0.242j│\n",
       "│ 0.043-0.023j  0.03 +0.08j   0.969+0.135j  0.15 +0.099j│\n",
       "│ 0.063+0.107j -0.295-0.219j -0.079+0.109j  0.831-0.375j│\n",
       "└                                                       ┘</text><rect x=\"294.49359375000006\" y=\"75.0\" width=\"1965.3108203125\" height=\"40\" stroke=\"black\" fill=\"white\" stroke-width=\"1\" /><text x=\"1277.14900390625\" y=\"95.0\" dominant-baseline=\"middle\" text-anchor=\"middle\" font-size=\"14px\">#2</text><circle cx=\"2289.8044140625\" cy=\"45.0\" r=\"10.0\" /><rect x=\"2269.8044140625\" y=\"125.0\" width=\"40\" height=\"40\" stroke=\"black\" fill=\"white\" stroke-width=\"1\" /><text x=\"2289.8044140625\" y=\"145.0\" dominant-baseline=\"middle\" text-anchor=\"middle\" font-size=\"18px\">X</text><circle cx=\"2329.8044140625\" cy=\"95.0\" r=\"10.0\" /><rect x=\"2309.8044140625\" y=\"175.0\" width=\"40\" height=\"40\" stroke=\"black\" fill=\"white\" stroke-width=\"1\" /><text x=\"2329.8044140625\" y=\"195.0\" dominant-baseline=\"middle\" text-anchor=\"middle\" font-size=\"18px\">X</text><rect x=\"2379.8044140625\" y=\"25.0\" width=\"40\" height=\"40\" stroke=\"black\" fill=\"white\" stroke-width=\"1\" /><text x=\"2399.8044140625\" y=\"45.0\" dominant-baseline=\"middle\" text-anchor=\"middle\" font-size=\"18px\">H</text><rect x=\"2379.8044140625\" y=\"75.0\" width=\"40\" height=\"40\" stroke=\"black\" fill=\"white\" stroke-width=\"1\" /><text x=\"2399.8044140625\" y=\"95.0\" dominant-baseline=\"middle\" text-anchor=\"middle\" font-size=\"18px\">H</text></svg>"
      ],
      "text/plain": [
       "<cirq.contrib.svg.svg.SVGCircuit at 0x1c526968080>"
      ]
     },
     "execution_count": 16,
     "metadata": {},
     "output_type": "execute_result"
    }
   ],
   "source": [
    "circuit_test = getCircuit([\"01\", \"10\"])\n",
    "circuit_test.append(cirq.ops.MatrixGate(buildU(params))(A1, A2))\n",
    "\n",
    "circuit_test.append([cirq.CNOT(control=A1, target=B), cirq.H(A1)])\n",
    "circuit_test.append([cirq.CNOT(control=A2, target=C), cirq.H(A2)])\n",
    "\n",
    "SVGCircuit(circuit_test)"
   ]
  },
  {
   "cell_type": "code",
   "execution_count": 17,
   "metadata": {},
   "outputs": [
    {
     "name": "stdout",
     "output_type": "stream",
     "text": [
      "Counter({1: 862, 3: 73, 2: 33, 0: 32})\n"
     ]
    }
   ],
   "source": [
    "circuit_test.append(cirq.measure(A1, B, key='A1B'))\n",
    "\n",
    "sim = cirq.Simulator()\n",
    "output = sim.run(circuit_test, repetitions=1000)\n",
    "print(output.histogram(key=\"A1B\"))"
   ]
  },
  {
   "cell_type": "code",
   "execution_count": 18,
   "metadata": {},
   "outputs": [
    {
     "name": "stdout",
     "output_type": "stream",
     "text": [
      "Counter({2: 876, 0: 70, 3: 29, 1: 25})\n"
     ]
    }
   ],
   "source": [
    "circuit_test.append(cirq.measure(A2, C, key='A2C'))\n",
    "\n",
    "output = sim.run(circuit_test, repetitions=1000)\n",
    "print(output.histogram(key=\"A2C\"))"
   ]
  },
  {
   "cell_type": "code",
   "execution_count": 19,
   "metadata": {},
   "outputs": [
    {
     "data": {
      "image/svg+xml": [
       "<svg xmlns=\"http://www.w3.org/2000/svg\" width=\"2529.8044140625\" height=\"240.0\"><line x1=\"32.246796875\" x2=\"2499.8044140625\" y1=\"45.0\" y2=\"45.0\" stroke=\"#1967d2\" stroke-width=\"1\" /><line x1=\"32.246796875\" x2=\"2499.8044140625\" y1=\"95.0\" y2=\"95.0\" stroke=\"#1967d2\" stroke-width=\"1\" /><line x1=\"32.246796875\" x2=\"2499.8044140625\" y1=\"145.0\" y2=\"145.0\" stroke=\"#1967d2\" stroke-width=\"1\" /><line x1=\"32.246796875\" x2=\"2499.8044140625\" y1=\"195.0\" y2=\"195.0\" stroke=\"#1967d2\" stroke-width=\"1\" /><line x1=\"2329.8044140625\" x2=\"2419.8044140625\" y1=\"5.0\" y2=\"5.0\" stroke=\"black\" stroke-width=\"1\" /><line x1=\"2329.8044140625\" x2=\"2419.8044140625\" y1=\"235.0\" y2=\"235.0\" stroke=\"black\" stroke-width=\"1\" /><line x1=\"124.49359375\" x2=\"214.49359375\" y1=\"5.0\" y2=\"5.0\" stroke=\"black\" stroke-width=\"1\" /><line x1=\"124.49359375\" x2=\"214.49359375\" y1=\"235.0\" y2=\"235.0\" stroke=\"black\" stroke-width=\"1\" /><line x1=\"144.49359375\" x2=\"144.49359375\" y1=\"45.0\" y2=\"145.0\" stroke=\"black\" stroke-width=\"3\" /><line x1=\"184.49359375\" x2=\"184.49359375\" y1=\"95.0\" y2=\"195.0\" stroke=\"black\" stroke-width=\"3\" /><line x1=\"1337.14900390625\" x2=\"1337.14900390625\" y1=\"45.0\" y2=\"95.0\" stroke=\"black\" stroke-width=\"3\" /><line x1=\"2349.8044140625\" x2=\"2349.8044140625\" y1=\"45.0\" y2=\"145.0\" stroke=\"black\" stroke-width=\"3\" /><line x1=\"2389.8044140625\" x2=\"2389.8044140625\" y1=\"95.0\" y2=\"195.0\" stroke=\"black\" stroke-width=\"3\" /><line x1=\"2329.8044140625\" x2=\"2329.8044140625\" y1=\"5.0\" y2=\"15.0\" stroke=\"black\" stroke-width=\"3\" /><line x1=\"2419.8044140625\" x2=\"2419.8044140625\" y1=\"5.0\" y2=\"15.0\" stroke=\"black\" stroke-width=\"3\" /><line x1=\"2329.8044140625\" x2=\"2329.8044140625\" y1=\"225.0\" y2=\"235.0\" stroke=\"black\" stroke-width=\"3\" /><line x1=\"2419.8044140625\" x2=\"2419.8044140625\" y1=\"225.0\" y2=\"235.0\" stroke=\"black\" stroke-width=\"3\" /><line x1=\"124.49359375\" x2=\"124.49359375\" y1=\"5.0\" y2=\"15.0\" stroke=\"black\" stroke-width=\"3\" /><line x1=\"214.49359375\" x2=\"214.49359375\" y1=\"5.0\" y2=\"15.0\" stroke=\"black\" stroke-width=\"3\" /><line x1=\"124.49359375\" x2=\"124.49359375\" y1=\"225.0\" y2=\"235.0\" stroke=\"black\" stroke-width=\"3\" /><line x1=\"214.49359375\" x2=\"214.49359375\" y1=\"225.0\" y2=\"235.0\" stroke=\"black\" stroke-width=\"3\" /><rect x=\"10.0\" y=\"25.0\" width=\"44.49359375\" height=\"40\" stroke=\"black\" fill=\"white\" stroke-width=\"0\" /><text x=\"32.246796875\" y=\"45.0\" dominant-baseline=\"middle\" text-anchor=\"middle\" font-size=\"14px\">(0, 0): </text><rect x=\"10.0\" y=\"75.0\" width=\"44.49359375\" height=\"40\" stroke=\"black\" fill=\"white\" stroke-width=\"0\" /><text x=\"32.246796875\" y=\"95.0\" dominant-baseline=\"middle\" text-anchor=\"middle\" font-size=\"14px\">(0, 1): </text><rect x=\"10.0\" y=\"125.0\" width=\"44.49359375\" height=\"40\" stroke=\"black\" fill=\"white\" stroke-width=\"0\" /><text x=\"32.246796875\" y=\"145.0\" dominant-baseline=\"middle\" text-anchor=\"middle\" font-size=\"14px\">(0, 2): </text><rect x=\"10.0\" y=\"175.0\" width=\"44.49359375\" height=\"40\" stroke=\"black\" fill=\"white\" stroke-width=\"0\" /><text x=\"32.246796875\" y=\"195.0\" dominant-baseline=\"middle\" text-anchor=\"middle\" font-size=\"14px\">(0, 3): </text><rect x=\"74.49359375\" y=\"25.0\" width=\"40\" height=\"40\" stroke=\"black\" fill=\"white\" stroke-width=\"1\" /><text x=\"94.49359375\" y=\"45.0\" dominant-baseline=\"middle\" text-anchor=\"middle\" font-size=\"18px\">H</text><rect x=\"74.49359375\" y=\"75.0\" width=\"40\" height=\"40\" stroke=\"black\" fill=\"white\" stroke-width=\"1\" /><text x=\"94.49359375\" y=\"95.0\" dominant-baseline=\"middle\" text-anchor=\"middle\" font-size=\"18px\">H</text><circle cx=\"144.49359375\" cy=\"45.0\" r=\"10.0\" /><rect x=\"124.49359375\" y=\"125.0\" width=\"40\" height=\"40\" stroke=\"black\" fill=\"white\" stroke-width=\"1\" /><text x=\"144.49359375\" y=\"145.0\" dominant-baseline=\"middle\" text-anchor=\"middle\" font-size=\"18px\">X</text><circle cx=\"184.49359375\" cy=\"95.0\" r=\"10.0\" /><rect x=\"164.49359375\" y=\"175.0\" width=\"40\" height=\"40\" stroke=\"black\" fill=\"white\" stroke-width=\"1\" /><text x=\"184.49359375\" y=\"195.0\" dominant-baseline=\"middle\" text-anchor=\"middle\" font-size=\"18px\">X</text><rect x=\"234.49359375\" y=\"25.0\" width=\"40\" height=\"40\" stroke=\"black\" fill=\"white\" stroke-width=\"1\" /><text x=\"254.49359375\" y=\"45.0\" dominant-baseline=\"middle\" text-anchor=\"middle\" font-size=\"18px\">Z</text><rect x=\"234.49359375\" y=\"75.0\" width=\"40\" height=\"40\" stroke=\"black\" fill=\"white\" stroke-width=\"1\" /><text x=\"254.49359375\" y=\"95.0\" dominant-baseline=\"middle\" text-anchor=\"middle\" font-size=\"18px\">X</text><rect x=\"294.49359375\" y=\"25.0\" width=\"40\" height=\"40\" stroke=\"black\" fill=\"white\" stroke-width=\"1\" /><text x=\"314.49359375\" y=\"45.0\" dominant-baseline=\"middle\" text-anchor=\"middle\" font-size=\"18px\">X</text><rect x=\"354.49359375000006\" y=\"25.0\" width=\"1965.3108203125\" height=\"40\" stroke=\"black\" fill=\"white\" stroke-width=\"1\" /><text x=\"1337.14900390625\" y=\"45.0\" dominant-baseline=\"middle\" text-anchor=\"middle\" font-size=\"14px\">┌                                                       ┐\n",
       "│ 0.96 +0.087j -0.157-0.091j -0.021-0.073j -0.086+0.155j│\n",
       "│ 0.229-0.016j  0.893+0.165j -0.076+0.112j  0.214-0.242j│\n",
       "│ 0.043-0.023j  0.03 +0.08j   0.969+0.135j  0.15 +0.099j│\n",
       "│ 0.063+0.107j -0.295-0.219j -0.079+0.109j  0.831-0.375j│\n",
       "└                                                       ┘</text><rect x=\"354.49359375000006\" y=\"75.0\" width=\"1965.3108203125\" height=\"40\" stroke=\"black\" fill=\"white\" stroke-width=\"1\" /><text x=\"1337.14900390625\" y=\"95.0\" dominant-baseline=\"middle\" text-anchor=\"middle\" font-size=\"14px\">#2</text><circle cx=\"2349.8044140625\" cy=\"45.0\" r=\"10.0\" /><rect x=\"2329.8044140625\" y=\"125.0\" width=\"40\" height=\"40\" stroke=\"black\" fill=\"white\" stroke-width=\"1\" /><text x=\"2349.8044140625\" y=\"145.0\" dominant-baseline=\"middle\" text-anchor=\"middle\" font-size=\"18px\">X</text><circle cx=\"2389.8044140625\" cy=\"95.0\" r=\"10.0\" /><rect x=\"2369.8044140625\" y=\"175.0\" width=\"40\" height=\"40\" stroke=\"black\" fill=\"white\" stroke-width=\"1\" /><text x=\"2389.8044140625\" y=\"195.0\" dominant-baseline=\"middle\" text-anchor=\"middle\" font-size=\"18px\">X</text><rect x=\"2439.8044140625\" y=\"25.0\" width=\"40\" height=\"40\" stroke=\"black\" fill=\"white\" stroke-width=\"1\" /><text x=\"2459.8044140625\" y=\"45.0\" dominant-baseline=\"middle\" text-anchor=\"middle\" font-size=\"18px\">H</text><rect x=\"2439.8044140625\" y=\"75.0\" width=\"40\" height=\"40\" stroke=\"black\" fill=\"white\" stroke-width=\"1\" /><text x=\"2459.8044140625\" y=\"95.0\" dominant-baseline=\"middle\" text-anchor=\"middle\" font-size=\"18px\">H</text></svg>"
      ],
      "text/plain": [
       "<cirq.contrib.svg.svg.SVGCircuit at 0x1c526968898>"
      ]
     },
     "execution_count": 19,
     "metadata": {},
     "output_type": "execute_result"
    }
   ],
   "source": [
    "circuit_test2 = getCircuit([\"11\", \"01\"])\n",
    "circuit_test2.append(cirq.ops.MatrixGate(buildU(params))(A1, A2))\n",
    "\n",
    "circuit_test2.append([cirq.CNOT(control=A1, target=B), cirq.H(A1)])\n",
    "circuit_test2.append([cirq.CNOT(control=A2, target=C), cirq.H(A2)])\n",
    "\n",
    "SVGCircuit(circuit_test2)"
   ]
  },
  {
   "cell_type": "code",
   "execution_count": 20,
   "metadata": {},
   "outputs": [
    {
     "name": "stdout",
     "output_type": "stream",
     "text": [
      "Counter({3: 2511, 1: 219, 2: 140, 0: 130})\n"
     ]
    }
   ],
   "source": [
    "circuit_test2.append(cirq.measure(A1, B, key='A1B'))\n",
    "\n",
    "sim = cirq.Simulator()\n",
    "output = sim.run(circuit_test2, repetitions=3000)\n",
    "print(output.histogram(key=\"A1B\"))"
   ]
  },
  {
   "cell_type": "code",
   "execution_count": 21,
   "metadata": {},
   "outputs": [
    {
     "name": "stdout",
     "output_type": "stream",
     "text": [
      "Counter({1: 2637, 3: 217, 0: 76, 2: 70})\n"
     ]
    }
   ],
   "source": [
    "circuit_test2.append(cirq.measure(A2, C, key='A2C'))\n",
    "\n",
    "output = sim.run(circuit_test2, repetitions=3000)\n",
    "print(output.histogram(key=\"A2C\"))"
   ]
  },
  {
   "cell_type": "code",
   "execution_count": null,
   "metadata": {},
   "outputs": [],
   "source": []
  }
 ],
 "metadata": {
  "kernelspec": {
   "display_name": "Python 3",
   "language": "python",
   "name": "python3"
  },
  "language_info": {
   "codemirror_mode": {
    "name": "ipython",
    "version": 3
   },
   "file_extension": ".py",
   "mimetype": "text/x-python",
   "name": "python",
   "nbconvert_exporter": "python",
   "pygments_lexer": "ipython3",
   "version": "3.6.8"
  }
 },
 "nbformat": 4,
 "nbformat_minor": 4
}
